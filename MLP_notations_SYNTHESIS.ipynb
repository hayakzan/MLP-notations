{
  "nbformat": 4,
  "nbformat_minor": 0,
  "metadata": {
    "colab": {
      "provenance": [],
      "machine_shape": "hm",
      "gpuType": "A100",
      "authorship_tag": "ABX9TyNqzkFAGhHqtSmBVIIoR2vN",
      "include_colab_link": true
    },
    "kernelspec": {
      "name": "python3",
      "display_name": "Python 3"
    },
    "language_info": {
      "name": "python"
    }
  },
  "cells": [
    {
      "cell_type": "markdown",
      "metadata": {
        "id": "view-in-github",
        "colab_type": "text"
      },
      "source": [
        "<a href=\"https://colab.research.google.com/github/hayakzan/MLP-notations/blob/main/MLP_notations_SYNTHESIS.ipynb\" target=\"_parent\"><img src=\"https://colab.research.google.com/assets/colab-badge.svg\" alt=\"Open In Colab\"/></a>"
      ]
    },
    {
      "cell_type": "markdown",
      "source": [
        "## Synthesize the results into MIDI and .wav"
      ],
      "metadata": {
        "id": "w-aPD3K1DHNK"
      }
    },
    {
      "cell_type": "code",
      "source": [
        "!pip install mido\n",
        "!pip install midi2audio\n",
        "!apt install fluidsynth"
      ],
      "metadata": {
        "colab": {
          "base_uri": "https://localhost:8080/"
        },
        "id": "RgmBNXTIC1Kw",
        "outputId": "0e2e8e56-be46-4bbf-a8d2-11f289adb8d0"
      },
      "execution_count": 57,
      "outputs": [
        {
          "output_type": "stream",
          "name": "stdout",
          "text": [
            "Looking in indexes: https://pypi.org/simple, https://us-python.pkg.dev/colab-wheels/public/simple/\n",
            "Requirement already satisfied: mido in /usr/local/lib/python3.10/dist-packages (1.2.10)\n",
            "Looking in indexes: https://pypi.org/simple, https://us-python.pkg.dev/colab-wheels/public/simple/\n",
            "Requirement already satisfied: midi2audio in /usr/local/lib/python3.10/dist-packages (0.1.1)\n",
            "Reading package lists... Done\n",
            "Building dependency tree       \n",
            "Reading state information... Done\n",
            "fluidsynth is already the newest version (2.1.1-2).\n",
            "0 upgraded, 0 newly installed, 0 to remove and 46 not upgraded.\n"
          ]
        }
      ]
    },
    {
      "cell_type": "code",
      "execution_count": 95,
      "metadata": {
        "id": "AYycwWhBOXcG"
      },
      "outputs": [],
      "source": [
        "# -*- coding: utf-8 -*-\n",
        "\n",
        "import json\n",
        "from google.colab import drive\n",
        "import shutil\n",
        "import mido\n",
        "from IPython.display import Audio\n",
        "import os\n",
        "\n"
      ]
    },
    {
      "cell_type": "code",
      "source": [
        "# mount Google Drive\n",
        "drive.mount('/content/drive')\n",
        "\n",
        "source_file_path = '/content/drive/MyDrive/pitch_rhythm.json'\n",
        "\n",
        "destination_directory = '/content'\n",
        "\n",
        "shutil.copy(source_file_path, destination_directory)\n"
      ],
      "metadata": {
        "colab": {
          "base_uri": "https://localhost:8080/",
          "height": 73
        },
        "id": "fEIvmSVl78B5",
        "outputId": "489e5e9c-3be6-495a-a2cb-7c717c69b552"
      },
      "execution_count": 59,
      "outputs": [
        {
          "output_type": "stream",
          "name": "stdout",
          "text": [
            "Drive already mounted at /content/drive; to attempt to forcibly remount, call drive.mount(\"/content/drive\", force_remount=True).\n"
          ]
        },
        {
          "output_type": "execute_result",
          "data": {
            "text/plain": [
              "'/content/pitch_rhythm.json'"
            ],
            "application/vnd.google.colaboratory.intrinsic+json": {
              "type": "string"
            }
          },
          "metadata": {},
          "execution_count": 59
        }
      ]
    },
    {
      "cell_type": "markdown",
      "source": [
        "#### Process the JSON file"
      ],
      "metadata": {
        "id": "sPE8CddKEHOQ"
      }
    },
    {
      "cell_type": "code",
      "source": [
        "with open('pitch_rhythm.json') as json_file:\n",
        "    data = json.load(json_file)\n",
        "\n",
        "notation_excerpt = []\n",
        "\n",
        "for group in data:\n",
        "    input_pairs = []\n",
        "    for pair in group:\n",
        "        input_pairs.append(pair)\n",
        "\n",
        "    notation_excerpt.append(input_pairs)\n",
        "\n",
        "notation_excerpt[2]\n"
      ],
      "metadata": {
        "colab": {
          "base_uri": "https://localhost:8080/"
        },
        "id": "hC6Ty0DAPln8",
        "outputId": "073b0b54-71ca-4fe0-fbe0-dd548063d35f"
      },
      "execution_count": 60,
      "outputs": [
        {
          "output_type": "execute_result",
          "data": {
            "text/plain": [
              "[[10.5, 0.8114744066180365],\n",
              " [6.5, 1.209942887117903],\n",
              " [5.5, 1.5153243118303101],\n",
              " [7.5, 1.8658949119339887]]"
            ]
          },
          "metadata": {},
          "execution_count": 60
        }
      ]
    },
    {
      "cell_type": "code",
      "source": [
        "# dictionary for notational position -> MIDI\n",
        "pitch_dict = {0.0:52, 0.5:53, 1.0:55, 1.5:57, 2.0:59, 2.5:60, 3.0:62, 3.5:64, 4.0:65, 4.5:67, 5.0:69, 5.5:71, 6.0:72, 6.5:74, 7.0:76, 7.5:77, 8.0:79, 8.5:81, 9.0:83, 9.5:84, 10.0:86, 10.5:88, 11.0:89, 11.5:91, 12.0:93}\n"
      ],
      "metadata": {
        "id": "SeHNUVynRa-8"
      },
      "execution_count": 61,
      "outputs": []
    },
    {
      "cell_type": "code",
      "source": [
        "MIDI_pitches = []\n",
        "MIDI_rhythms = []\n",
        "\n",
        "for group in notation_excerpt:\n",
        "    group_pitch_data = []\n",
        "    for pairs in group:\n",
        "        group_pitch_data.append(pairs[0])\n",
        "    MIDI_pitches.append([pitch_dict[i] for i in group_pitch_data])\n",
        "\n",
        "\n",
        "for group in notation_excerpt:\n",
        "    group_rhythm_data = []\n",
        "    for pairs in group:\n",
        "        group_rhythm_data.append(pairs[1])\n",
        "    MIDI_rhythms.append([int(240 * (rhythm / 1.235)) for rhythm in group_rhythm_data])\n",
        "\n",
        "print(\"excerpt: \", notation_excerpt)\n",
        "print(\"MIDI pitches: \", MIDI_pitches)\n",
        "print(\"MIDI rhythms: \", MIDI_rhythms)"
      ],
      "metadata": {
        "colab": {
          "base_uri": "https://localhost:8080/"
        },
        "id": "f5Fqry1xgIbl",
        "outputId": "e4db8607-e08a-48d3-e15e-fbccf4c879f2"
      },
      "execution_count": 62,
      "outputs": [
        {
          "output_type": "stream",
          "name": "stdout",
          "text": [
            "excerpt:  [[[5.0, 0.5155679697637757], [5.0, 1.3831723844516581], [9.0, 1.4937984907928312], [4.0, 2.333530484537259]], [[10.5, 0.5671113848377946], [4.5, 1.1255291031063108], [11.5, 1.7841389626124289], [5.5, 2.0711098003315347]], [[10.5, 0.8114744066180365], [6.5, 1.209942887117903], [5.5, 1.5153243118303101], [7.5, 1.8658949119339887]], [[5.5, 0.6288499678958566], [7.5, 1.0555497426869263], [8.5, 1.2097671599350592], [8.5, 1.5467349098527956]], [[5.5, 0.6737945023849068], [8.5, 1.0160596083312252], [4.5, 1.4645504503575524], [7.5, 1.6611128715631422]], [[9.5, 0.7220984972703434], [6.5, 0.8780545726883914], [8.5, 1.0851138366358726], [11.5, 1.3125289084440914]], [[8.5, 0.7027853392773753], [7.5, 0.8658932202351757], [5.5, 1.119364008249796], [11.5, 1.3579522344962023]], [[7.0, 0.9220838319125271], [6.0, 1.2845494592370534], [9.0, 1.9524483207124814], [11.0, 2.7035772006197547]], [[3.5, 0.6810584881776776], [11.5, 0.9572407431382669], [4.5, 1.359527561265557], [9.5, 1.542665461406131]]]\n",
            "MIDI pitches:  [[69, 69, 83, 65], [88, 67, 91, 71], [88, 74, 71, 77], [71, 77, 81, 81], [71, 81, 67, 77], [84, 74, 81, 91], [81, 77, 71, 91], [76, 72, 83, 89], [64, 91, 67, 84]]\n",
            "MIDI rhythms:  [[100, 268, 290, 453], [110, 218, 346, 402], [157, 235, 294, 362], [122, 205, 235, 300], [130, 197, 284, 322], [140, 170, 210, 255], [136, 168, 217, 263], [179, 249, 379, 525], [132, 186, 264, 299]]\n"
          ]
        }
      ]
    },
    {
      "cell_type": "code",
      "source": [
        "# Set the tempo and time signature values\n",
        "tempo = mido.bpm2tempo(30)\n",
        "\n",
        "# Set the ticks_per_beat value\n",
        "ticks_per_beat = 960*2\n",
        "\n",
        "# Calculate the duration of a quarter note in ticks\n",
        "quarter_note_ticks = mido.second2tick(1.0 / 4, ticks_per_beat, tempo)\n",
        "\n",
        "print(f\"Duration of a quarter note in ticks: {quarter_note_ticks}\")"
      ],
      "metadata": {
        "colab": {
          "base_uri": "https://localhost:8080/"
        },
        "id": "5xbD4p6-HCeW",
        "outputId": "a0c91786-aea9-4ba6-d881-8641e86be674"
      },
      "execution_count": 93,
      "outputs": [
        {
          "output_type": "stream",
          "name": "stdout",
          "text": [
            "Duration of a quarter note in ticks: 240.0\n",
            "9\n",
            "4\n",
            "[100, 268, 290, 453]\n",
            "100\n"
          ]
        }
      ]
    },
    {
      "cell_type": "markdown",
      "source": [
        "#### Create MIDI files"
      ],
      "metadata": {
        "id": "QJ07CD2DERRu"
      }
    },
    {
      "cell_type": "code",
      "source": [
        "# set the tempo\n",
        "tempo = mido.bpm2tempo(30) \n",
        "\n",
        "for i in range(len(MIDI_rhythms)):\n",
        "    # create a new MIDI file\n",
        "    new_midi_file = mido.MidiFile()\n",
        "    new_midi_file.ticks_per_beat = 960\n",
        "    # create a new MIDI track\n",
        "    new_track = mido.MidiTrack()\n",
        "    new_track.append(mido.MetaMessage('set_tempo', tempo=tempo))  # Move tempo message here\n",
        "\n",
        "    for j in range(len(MIDI_rhythms[i])):\n",
        "        # add notes\n",
        "        new_track.append(mido.Message('note_on', note=MIDI_pitches[i][j], velocity=64, time=MIDI_rhythms[i][j]))\n",
        "        new_track.append(mido.Message('note_off', note=MIDI_pitches[i][j], velocity=64, time=MIDI_rhythms[i][j]))\n",
        "    \n",
        "    # add the track\n",
        "    new_midi_file.tracks.append(new_track)\n",
        "    \n",
        "    # save the MIDI file\n",
        "    filename = f'MLP-midi_{i+1}.mid'  # Use 'i+1' instead of 'track_num'\n",
        "    new_midi_file.save(filename)\n"
      ],
      "metadata": {
        "id": "R3_e_ZODoTzI"
      },
      "execution_count": 94,
      "outputs": []
    },
    {
      "cell_type": "markdown",
      "source": [
        "#### Convert the MIDI files into a .wav files (default SR: 44.1kHz)"
      ],
      "metadata": {
        "id": "Etf5XKjmEVHQ"
      }
    },
    {
      "cell_type": "code",
      "source": [
        "len(MIDI_rhythms)\n",
        "range(len(MIDI_rhythms)+1)"
      ],
      "metadata": {
        "colab": {
          "base_uri": "https://localhost:8080/"
        },
        "id": "7O8MA5HJpvJh",
        "outputId": "f8712219-95da-4702-bc1b-76aeb043abb0"
      },
      "execution_count": 100,
      "outputs": [
        {
          "output_type": "execute_result",
          "data": {
            "text/plain": [
              "range(0, 10)"
            ]
          },
          "metadata": {},
          "execution_count": 100
        }
      ]
    },
    {
      "cell_type": "code",
      "source": [
        "# convert to .wav\n",
        "!cp /usr/share/sounds/sf2/FluidR3_GM.sf2 ./font.sf2\n",
        "!fluidsynth -ni font.sf2 MLP-midi.mid -F MLP-wav.wav -r 44100\n",
        "\n",
        "Audio('MLP-wav.wav')"
      ],
      "metadata": {
        "id": "r5caVddZgHWs"
      },
      "execution_count": null,
      "outputs": []
    },
    {
      "cell_type": "code",
      "source": [
        "for i in range(len(MIDI_rhythms)+1):\n",
        "    # Copy the soundfont file\n",
        "    !cp /usr/share/sounds/sf2/FluidR3_GM.sf2 ./font.sf2\n",
        "    \n",
        "    # Convert MIDI to .wav\n",
        "    midi_file = f'MLP-midi_{i}.mid'\n",
        "    wav_file = f'MLP-wav_{i}.wav'\n",
        "    !fluidsynth -ni font.sf2 {midi_file} -F {wav_file} -r 44100\n",
        "    \n",
        "    # Check if the file was created successfully\n",
        "    if os.path.isfile(wav_file):\n",
        "        print(f\"Conversion successful: {midi_file} -> {wav_file}\")\n",
        "    else:\n",
        "        print(f\"Conversion failed: {midi_file}\")\n",
        "\n"
      ],
      "metadata": {
        "colab": {
          "base_uri": "https://localhost:8080/"
        },
        "id": "MH9XXNkrgwH8",
        "outputId": "e79493d0-aca1-4c43-b90b-20502a2aaf94"
      },
      "execution_count": 101,
      "outputs": [
        {
          "output_type": "stream",
          "name": "stdout",
          "text": [
            "FluidSynth runtime version 2.1.1\n",
            "Copyright (C) 2000-2020 Peter Hanappe and others.\n",
            "Distributed under the LGPL license.\n",
            "SoundFont(R) is a registered trademark of E-mu Systems, Inc.\n",
            "\n",
            "Parameter 'MLP-midi_0.mid' not a SoundFont or MIDI file or error occurred identifying it.\n",
            "No midi file specified!\n",
            "Conversion failed: MLP-midi_0.mid\n",
            "FluidSynth runtime version 2.1.1\n",
            "Copyright (C) 2000-2020 Peter Hanappe and others.\n",
            "Distributed under the LGPL license.\n",
            "SoundFont(R) is a registered trademark of E-mu Systems, Inc.\n",
            "\n",
            "Rendering audio to file 'MLP-wav_1.wav'..\n",
            "Conversion successful: MLP-midi_1.mid -> MLP-wav_1.wav\n",
            "FluidSynth runtime version 2.1.1\n",
            "Copyright (C) 2000-2020 Peter Hanappe and others.\n",
            "Distributed under the LGPL license.\n",
            "SoundFont(R) is a registered trademark of E-mu Systems, Inc.\n",
            "\n",
            "Rendering audio to file 'MLP-wav_2.wav'..\n",
            "Conversion successful: MLP-midi_2.mid -> MLP-wav_2.wav\n",
            "FluidSynth runtime version 2.1.1\n",
            "Copyright (C) 2000-2020 Peter Hanappe and others.\n",
            "Distributed under the LGPL license.\n",
            "SoundFont(R) is a registered trademark of E-mu Systems, Inc.\n",
            "\n",
            "Rendering audio to file 'MLP-wav_3.wav'..\n",
            "Conversion successful: MLP-midi_3.mid -> MLP-wav_3.wav\n",
            "FluidSynth runtime version 2.1.1\n",
            "Copyright (C) 2000-2020 Peter Hanappe and others.\n",
            "Distributed under the LGPL license.\n",
            "SoundFont(R) is a registered trademark of E-mu Systems, Inc.\n",
            "\n",
            "Rendering audio to file 'MLP-wav_4.wav'..\n",
            "Conversion successful: MLP-midi_4.mid -> MLP-wav_4.wav\n",
            "FluidSynth runtime version 2.1.1\n",
            "Copyright (C) 2000-2020 Peter Hanappe and others.\n",
            "Distributed under the LGPL license.\n",
            "SoundFont(R) is a registered trademark of E-mu Systems, Inc.\n",
            "\n",
            "Rendering audio to file 'MLP-wav_5.wav'..\n",
            "Conversion successful: MLP-midi_5.mid -> MLP-wav_5.wav\n",
            "FluidSynth runtime version 2.1.1\n",
            "Copyright (C) 2000-2020 Peter Hanappe and others.\n",
            "Distributed under the LGPL license.\n",
            "SoundFont(R) is a registered trademark of E-mu Systems, Inc.\n",
            "\n",
            "Rendering audio to file 'MLP-wav_6.wav'..\n",
            "Conversion successful: MLP-midi_6.mid -> MLP-wav_6.wav\n",
            "FluidSynth runtime version 2.1.1\n",
            "Copyright (C) 2000-2020 Peter Hanappe and others.\n",
            "Distributed under the LGPL license.\n",
            "SoundFont(R) is a registered trademark of E-mu Systems, Inc.\n",
            "\n",
            "Rendering audio to file 'MLP-wav_7.wav'..\n",
            "Conversion successful: MLP-midi_7.mid -> MLP-wav_7.wav\n",
            "FluidSynth runtime version 2.1.1\n",
            "Copyright (C) 2000-2020 Peter Hanappe and others.\n",
            "Distributed under the LGPL license.\n",
            "SoundFont(R) is a registered trademark of E-mu Systems, Inc.\n",
            "\n",
            "Rendering audio to file 'MLP-wav_8.wav'..\n",
            "Conversion successful: MLP-midi_8.mid -> MLP-wav_8.wav\n",
            "FluidSynth runtime version 2.1.1\n",
            "Copyright (C) 2000-2020 Peter Hanappe and others.\n",
            "Distributed under the LGPL license.\n",
            "SoundFont(R) is a registered trademark of E-mu Systems, Inc.\n",
            "\n",
            "Rendering audio to file 'MLP-wav_9.wav'..\n",
            "Conversion successful: MLP-midi_9.mid -> MLP-wav_9.wav\n"
          ]
        }
      ]
    },
    {
      "cell_type": "code",
      "source": [],
      "metadata": {
        "id": "6n2ijDvUpXWp"
      },
      "execution_count": null,
      "outputs": []
    }
  ]
}