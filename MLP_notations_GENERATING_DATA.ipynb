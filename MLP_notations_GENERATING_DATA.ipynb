{
  "nbformat": 4,
  "nbformat_minor": 0,
  "metadata": {
    "colab": {
      "provenance": [],
      "machine_shape": "hm",
      "gpuType": "V100",
      "include_colab_link": true
    },
    "kernelspec": {
      "name": "python3",
      "display_name": "Python 3"
    },
    "language_info": {
      "name": "python"
    },
    "widgets": {
      "application/vnd.jupyter.widget-state+json": {
        "dd865c19df1d47d3a4632c9a0fc367c7": {
          "model_module": "@jupyter-widgets/controls",
          "model_name": "VBoxModel",
          "model_module_version": "1.5.0",
          "state": {
            "_dom_classes": [],
            "_model_module": "@jupyter-widgets/controls",
            "_model_module_version": "1.5.0",
            "_model_name": "VBoxModel",
            "_view_count": null,
            "_view_module": "@jupyter-widgets/controls",
            "_view_module_version": "1.5.0",
            "_view_name": "VBoxView",
            "box_style": "",
            "children": [
              "IPY_MODEL_7dccdda6a23540aca067fec616028cf2",
              "IPY_MODEL_a94699c7f87a4cad8c68ca006858995f",
              "IPY_MODEL_fbae5454553c43058b205d1beac985df",
              "IPY_MODEL_510c424d008b40e781d372612ddfbcba",
              "IPY_MODEL_b0e87ac4affc42ffb2a80052559c9f8e",
              "IPY_MODEL_afee2dcab27544ad8e8d3dd3c61d7f96",
              "IPY_MODEL_228a7c738dea49a285aacf599f5f8016",
              "IPY_MODEL_a648c26647264dc4966dec9f8095a354"
            ],
            "layout": "IPY_MODEL_472745ee4048436f89bbf712b680c1dc"
          }
        },
        "7dccdda6a23540aca067fec616028cf2": {
          "model_module": "@jupyter-widgets/controls",
          "model_name": "FloatSliderModel",
          "model_module_version": "1.5.0",
          "state": {
            "_dom_classes": [],
            "_model_module": "@jupyter-widgets/controls",
            "_model_module_version": "1.5.0",
            "_model_name": "FloatSliderModel",
            "_view_count": null,
            "_view_module": "@jupyter-widgets/controls",
            "_view_module_version": "1.5.0",
            "_view_name": "FloatSliderView",
            "continuous_update": true,
            "description": "speed:",
            "description_tooltip": null,
            "disabled": false,
            "layout": "IPY_MODEL_2238473a4ca24bcd9c743d9abafa8776",
            "max": 2,
            "min": 0.2,
            "orientation": "horizontal",
            "readout": true,
            "readout_format": ".2f",
            "step": 0.1,
            "style": "IPY_MODEL_00912111ab744678af8179454b4d3861",
            "value": 1
          }
        },
        "a94699c7f87a4cad8c68ca006858995f": {
          "model_module": "@jupyter-widgets/controls",
          "model_name": "IntSliderModel",
          "model_module_version": "1.5.0",
          "state": {
            "_dom_classes": [],
            "_model_module": "@jupyter-widgets/controls",
            "_model_module_version": "1.5.0",
            "_model_name": "IntSliderModel",
            "_view_count": null,
            "_view_module": "@jupyter-widgets/controls",
            "_view_module_version": "1.5.0",
            "_view_name": "IntSliderView",
            "continuous_update": true,
            "description": "size:",
            "description_tooltip": null,
            "disabled": false,
            "layout": "IPY_MODEL_2238473a4ca24bcd9c743d9abafa8776",
            "max": 12,
            "min": 2,
            "orientation": "horizontal",
            "readout": true,
            "readout_format": "d",
            "step": 1,
            "style": "IPY_MODEL_622c235d34f843778252fa1f4d74353b",
            "value": 8
          }
        },
        "fbae5454553c43058b205d1beac985df": {
          "model_module": "@jupyter-widgets/controls",
          "model_name": "IntRangeSliderModel",
          "model_module_version": "1.5.0",
          "state": {
            "_dom_classes": [],
            "_model_module": "@jupyter-widgets/controls",
            "_model_module_version": "1.5.0",
            "_model_name": "IntRangeSliderModel",
            "_view_count": null,
            "_view_module": "@jupyter-widgets/controls",
            "_view_module_version": "1.5.0",
            "_view_name": "IntRangeSliderView",
            "continuous_update": true,
            "description": "range:",
            "description_tooltip": null,
            "disabled": false,
            "layout": "IPY_MODEL_2238473a4ca24bcd9c743d9abafa8776",
            "max": 12,
            "min": 0,
            "orientation": "horizontal",
            "readout": true,
            "readout_format": "d",
            "step": 1,
            "style": "IPY_MODEL_0a721668e704468d8a01bcda7e613864",
            "value": [
              0,
              12
            ]
          }
        },
        "510c424d008b40e781d372612ddfbcba": {
          "model_module": "@jupyter-widgets/controls",
          "model_name": "FloatSliderModel",
          "model_module_version": "1.5.0",
          "state": {
            "_dom_classes": [],
            "_model_module": "@jupyter-widgets/controls",
            "_model_module_version": "1.5.0",
            "_model_name": "FloatSliderModel",
            "_view_count": null,
            "_view_module": "@jupyter-widgets/controls",
            "_view_module_version": "1.5.0",
            "_view_name": "FloatSliderView",
            "continuous_update": true,
            "description": "x offset:",
            "description_tooltip": null,
            "disabled": false,
            "layout": "IPY_MODEL_2238473a4ca24bcd9c743d9abafa8776",
            "max": 7,
            "min": 0.25,
            "orientation": "horizontal",
            "readout": true,
            "readout_format": ".2f",
            "step": 0.05,
            "style": "IPY_MODEL_27a28c48cc2e477ca8f4d1dfe54f763f",
            "value": 0.25
          }
        },
        "b0e87ac4affc42ffb2a80052559c9f8e": {
          "model_module": "@jupyter-widgets/controls",
          "model_name": "FloatSliderModel",
          "model_module_version": "1.5.0",
          "state": {
            "_dom_classes": [],
            "_model_module": "@jupyter-widgets/controls",
            "_model_module_version": "1.5.0",
            "_model_name": "FloatSliderModel",
            "_view_count": null,
            "_view_module": "@jupyter-widgets/controls",
            "_view_module_version": "1.5.0",
            "_view_name": "FloatSliderView",
            "continuous_update": true,
            "description": "y offset:",
            "description_tooltip": null,
            "disabled": false,
            "layout": "IPY_MODEL_2238473a4ca24bcd9c743d9abafa8776",
            "max": 4,
            "min": -4,
            "orientation": "horizontal",
            "readout": true,
            "readout_format": ".2f",
            "step": 0.5,
            "style": "IPY_MODEL_a69986afb97d4ee18e359aa7eef01303",
            "value": 0
          }
        },
        "afee2dcab27544ad8e8d3dd3c61d7f96": {
          "model_module": "@jupyter-widgets/controls",
          "model_name": "FloatSliderModel",
          "model_module_version": "1.5.0",
          "state": {
            "_dom_classes": [],
            "_model_module": "@jupyter-widgets/controls",
            "_model_module_version": "1.5.0",
            "_model_name": "FloatSliderModel",
            "_view_count": null,
            "_view_module": "@jupyter-widgets/controls",
            "_view_module_version": "1.5.0",
            "_view_name": "FloatSliderView",
            "continuous_update": true,
            "description": "rhythmic irregularity:",
            "description_tooltip": null,
            "disabled": false,
            "layout": "IPY_MODEL_2238473a4ca24bcd9c743d9abafa8776",
            "max": 0.5,
            "min": 0,
            "orientation": "horizontal",
            "readout": true,
            "readout_format": ".2f",
            "step": 0.01,
            "style": "IPY_MODEL_b69122b1ecd84ceca64b9e99ae26ef8d",
            "value": 0
          }
        },
        "228a7c738dea49a285aacf599f5f8016": {
          "model_module": "@jupyter-widgets/controls",
          "model_name": "IntSliderModel",
          "model_module_version": "1.5.0",
          "state": {
            "_dom_classes": [],
            "_model_module": "@jupyter-widgets/controls",
            "_model_module_version": "1.5.0",
            "_model_name": "IntSliderModel",
            "_view_count": null,
            "_view_module": "@jupyter-widgets/controls",
            "_view_module_version": "1.5.0",
            "_view_name": "IntSliderView",
            "continuous_update": true,
            "description": "how many chords:",
            "description_tooltip": null,
            "disabled": false,
            "layout": "IPY_MODEL_2238473a4ca24bcd9c743d9abafa8776",
            "max": 8,
            "min": 0,
            "orientation": "horizontal",
            "readout": true,
            "readout_format": "d",
            "step": 1,
            "style": "IPY_MODEL_4c0b6d2afe3243a699683622b9630a4b",
            "value": 7
          }
        },
        "a648c26647264dc4966dec9f8095a354": {
          "model_module": "@jupyter-widgets/controls",
          "model_name": "ToggleButtonsModel",
          "model_module_version": "1.5.0",
          "state": {
            "_dom_classes": [],
            "_model_module": "@jupyter-widgets/controls",
            "_model_module_version": "1.5.0",
            "_model_name": "ToggleButtonsModel",
            "_options_labels": [
              "Mixed",
              "Upwards",
              "Downwards"
            ],
            "_view_count": null,
            "_view_module": "@jupyter-widgets/controls",
            "_view_module_version": "1.5.0",
            "_view_name": "ToggleButtonsView",
            "button_style": "info",
            "description": "directionality:",
            "description_tooltip": null,
            "disabled": false,
            "icons": [],
            "index": 0,
            "layout": "IPY_MODEL_00ec075a75bb4ebfbe558679436486f1",
            "style": "IPY_MODEL_43425ba65ee34354a53146923f5dbf05",
            "tooltips": []
          }
        },
        "472745ee4048436f89bbf712b680c1dc": {
          "model_module": "@jupyter-widgets/base",
          "model_name": "LayoutModel",
          "model_module_version": "1.2.0",
          "state": {
            "_model_module": "@jupyter-widgets/base",
            "_model_module_version": "1.2.0",
            "_model_name": "LayoutModel",
            "_view_count": null,
            "_view_module": "@jupyter-widgets/base",
            "_view_module_version": "1.2.0",
            "_view_name": "LayoutView",
            "align_content": null,
            "align_items": null,
            "align_self": null,
            "border": null,
            "bottom": null,
            "display": null,
            "flex": null,
            "flex_flow": null,
            "grid_area": null,
            "grid_auto_columns": null,
            "grid_auto_flow": null,
            "grid_auto_rows": null,
            "grid_column": null,
            "grid_gap": null,
            "grid_row": null,
            "grid_template_areas": null,
            "grid_template_columns": null,
            "grid_template_rows": null,
            "height": null,
            "justify_content": null,
            "justify_items": null,
            "left": null,
            "margin": null,
            "max_height": null,
            "max_width": null,
            "min_height": null,
            "min_width": null,
            "object_fit": null,
            "object_position": null,
            "order": null,
            "overflow": null,
            "overflow_x": null,
            "overflow_y": null,
            "padding": null,
            "right": null,
            "top": null,
            "visibility": null,
            "width": null
          }
        },
        "2238473a4ca24bcd9c743d9abafa8776": {
          "model_module": "@jupyter-widgets/base",
          "model_name": "LayoutModel",
          "model_module_version": "1.2.0",
          "state": {
            "_model_module": "@jupyter-widgets/base",
            "_model_module_version": "1.2.0",
            "_model_name": "LayoutModel",
            "_view_count": null,
            "_view_module": "@jupyter-widgets/base",
            "_view_module_version": "1.2.0",
            "_view_name": "LayoutView",
            "align_content": null,
            "align_items": null,
            "align_self": null,
            "border": null,
            "bottom": null,
            "display": null,
            "flex": null,
            "flex_flow": null,
            "grid_area": null,
            "grid_auto_columns": null,
            "grid_auto_flow": null,
            "grid_auto_rows": null,
            "grid_column": null,
            "grid_gap": null,
            "grid_row": null,
            "grid_template_areas": null,
            "grid_template_columns": null,
            "grid_template_rows": null,
            "height": null,
            "justify_content": null,
            "justify_items": null,
            "left": null,
            "margin": "0 0 10px 0",
            "max_height": null,
            "max_width": null,
            "min_height": null,
            "min_width": null,
            "object_fit": null,
            "object_position": null,
            "order": null,
            "overflow": null,
            "overflow_x": null,
            "overflow_y": null,
            "padding": null,
            "right": null,
            "top": null,
            "visibility": null,
            "width": "40%"
          }
        },
        "00912111ab744678af8179454b4d3861": {
          "model_module": "@jupyter-widgets/controls",
          "model_name": "SliderStyleModel",
          "model_module_version": "1.5.0",
          "state": {
            "_model_module": "@jupyter-widgets/controls",
            "_model_module_version": "1.5.0",
            "_model_name": "SliderStyleModel",
            "_view_count": null,
            "_view_module": "@jupyter-widgets/base",
            "_view_module_version": "1.2.0",
            "_view_name": "StyleView",
            "description_width": "150px",
            "handle_color": null
          }
        },
        "622c235d34f843778252fa1f4d74353b": {
          "model_module": "@jupyter-widgets/controls",
          "model_name": "SliderStyleModel",
          "model_module_version": "1.5.0",
          "state": {
            "_model_module": "@jupyter-widgets/controls",
            "_model_module_version": "1.5.0",
            "_model_name": "SliderStyleModel",
            "_view_count": null,
            "_view_module": "@jupyter-widgets/base",
            "_view_module_version": "1.2.0",
            "_view_name": "StyleView",
            "description_width": "150px",
            "handle_color": null
          }
        },
        "0a721668e704468d8a01bcda7e613864": {
          "model_module": "@jupyter-widgets/controls",
          "model_name": "SliderStyleModel",
          "model_module_version": "1.5.0",
          "state": {
            "_model_module": "@jupyter-widgets/controls",
            "_model_module_version": "1.5.0",
            "_model_name": "SliderStyleModel",
            "_view_count": null,
            "_view_module": "@jupyter-widgets/base",
            "_view_module_version": "1.2.0",
            "_view_name": "StyleView",
            "description_width": "150px",
            "handle_color": null
          }
        },
        "27a28c48cc2e477ca8f4d1dfe54f763f": {
          "model_module": "@jupyter-widgets/controls",
          "model_name": "SliderStyleModel",
          "model_module_version": "1.5.0",
          "state": {
            "_model_module": "@jupyter-widgets/controls",
            "_model_module_version": "1.5.0",
            "_model_name": "SliderStyleModel",
            "_view_count": null,
            "_view_module": "@jupyter-widgets/base",
            "_view_module_version": "1.2.0",
            "_view_name": "StyleView",
            "description_width": "150px",
            "handle_color": null
          }
        },
        "a69986afb97d4ee18e359aa7eef01303": {
          "model_module": "@jupyter-widgets/controls",
          "model_name": "SliderStyleModel",
          "model_module_version": "1.5.0",
          "state": {
            "_model_module": "@jupyter-widgets/controls",
            "_model_module_version": "1.5.0",
            "_model_name": "SliderStyleModel",
            "_view_count": null,
            "_view_module": "@jupyter-widgets/base",
            "_view_module_version": "1.2.0",
            "_view_name": "StyleView",
            "description_width": "150px",
            "handle_color": null
          }
        },
        "b69122b1ecd84ceca64b9e99ae26ef8d": {
          "model_module": "@jupyter-widgets/controls",
          "model_name": "SliderStyleModel",
          "model_module_version": "1.5.0",
          "state": {
            "_model_module": "@jupyter-widgets/controls",
            "_model_module_version": "1.5.0",
            "_model_name": "SliderStyleModel",
            "_view_count": null,
            "_view_module": "@jupyter-widgets/base",
            "_view_module_version": "1.2.0",
            "_view_name": "StyleView",
            "description_width": "150px",
            "handle_color": null
          }
        },
        "4c0b6d2afe3243a699683622b9630a4b": {
          "model_module": "@jupyter-widgets/controls",
          "model_name": "SliderStyleModel",
          "model_module_version": "1.5.0",
          "state": {
            "_model_module": "@jupyter-widgets/controls",
            "_model_module_version": "1.5.0",
            "_model_name": "SliderStyleModel",
            "_view_count": null,
            "_view_module": "@jupyter-widgets/base",
            "_view_module_version": "1.2.0",
            "_view_name": "StyleView",
            "description_width": "150px",
            "handle_color": null
          }
        },
        "00ec075a75bb4ebfbe558679436486f1": {
          "model_module": "@jupyter-widgets/base",
          "model_name": "LayoutModel",
          "model_module_version": "1.2.0",
          "state": {
            "_model_module": "@jupyter-widgets/base",
            "_model_module_version": "1.2.0",
            "_model_name": "LayoutModel",
            "_view_count": null,
            "_view_module": "@jupyter-widgets/base",
            "_view_module_version": "1.2.0",
            "_view_name": "LayoutView",
            "align_content": null,
            "align_items": null,
            "align_self": null,
            "border": null,
            "bottom": null,
            "display": null,
            "flex": null,
            "flex_flow": null,
            "grid_area": null,
            "grid_auto_columns": null,
            "grid_auto_flow": null,
            "grid_auto_rows": null,
            "grid_column": null,
            "grid_gap": null,
            "grid_row": null,
            "grid_template_areas": null,
            "grid_template_columns": null,
            "grid_template_rows": null,
            "height": null,
            "justify_content": null,
            "justify_items": null,
            "left": null,
            "margin": null,
            "max_height": null,
            "max_width": null,
            "min_height": null,
            "min_width": null,
            "object_fit": null,
            "object_position": null,
            "order": null,
            "overflow": null,
            "overflow_x": null,
            "overflow_y": null,
            "padding": null,
            "right": null,
            "top": null,
            "visibility": null,
            "width": null
          }
        },
        "43425ba65ee34354a53146923f5dbf05": {
          "model_module": "@jupyter-widgets/controls",
          "model_name": "ToggleButtonsStyleModel",
          "model_module_version": "1.5.0",
          "state": {
            "_model_module": "@jupyter-widgets/controls",
            "_model_module_version": "1.5.0",
            "_model_name": "ToggleButtonsStyleModel",
            "_view_count": null,
            "_view_module": "@jupyter-widgets/base",
            "_view_module_version": "1.2.0",
            "_view_name": "StyleView",
            "button_width": "",
            "description_width": "",
            "font_weight": ""
          }
        }
      }
    }
  },
  "cells": [
    {
      "cell_type": "markdown",
      "metadata": {
        "id": "view-in-github",
        "colab_type": "text"
      },
      "source": [
        "<a href=\"https://colab.research.google.com/github/hayakzan/MLP-notations/blob/main/MLP_notations_GENERATING_DATA.ipynb\" target=\"_parent\"><img src=\"https://colab.research.google.com/assets/colab-badge.svg\" alt=\"Open In Colab\"/></a>"
      ]
    },
    {
      "cell_type": "markdown",
      "source": [
        "#### Before running the code\n",
        "#### - Upload the notation fonts `/fonts/OpusStd.ttf` and `/fonts/OpusSpecialStd.ttf` into `/content` folder\n",
        "#### - Upload `/xydata/train_xy.json` into `/content` folder\n"
      ],
      "metadata": {
        "id": "i-URQfyhgjLF"
      }
    },
    {
      "cell_type": "code",
      "execution_count": 8,
      "metadata": {
        "id": "AYycwWhBOXcG"
      },
      "outputs": [],
      "source": [
        "# -*- coding: utf-8 -*-\n",
        "\n",
        "# dependencies\n",
        "from __future__ import division\n",
        "import numpy as np\n",
        "import matplotlib\n",
        "import matplotlib.pyplot as plt\n",
        "import matplotlib.font_manager as fm\n",
        "import random\n",
        "from matplotlib.lines import Line2D\n",
        "from scipy import interpolate\n",
        "import csv\n",
        "import pandas as pd\n",
        "import json\n"
      ]
    },
    {
      "cell_type": "code",
      "source": [
        "global fig_num\n",
        "fig_num = 1\n",
        "\n",
        "font_dirs = [\"/content\"]\n",
        "font_files = fm.findSystemFonts(fontpaths=font_dirs)\n",
        "\n",
        "fontprop1 = fm.FontProperties(fname=font_files[1], size=24)\n",
        "fontprop2 = fm.FontProperties(fname=font_files[0], size=25)\n",
        "\n"
      ],
      "metadata": {
        "id": "gldXCx8lPD8K"
      },
      "execution_count": 19,
      "outputs": []
    },
    {
      "cell_type": "markdown",
      "source": [
        "#### Create a JSON file for the parameters"
      ],
      "metadata": {
        "id": "WlVuW2vnH_QX"
      }
    },
    {
      "cell_type": "code",
      "source": [
        "# Create a list to store the slider values\n",
        "slider_values_list = []\n",
        "\n",
        "# Function to update the slider values\n",
        "def update_slider_values(change):\n",
        "    # Create a dictionary to store the slider values\n",
        "    slider_values = {\n",
        "        \"speed\": speed_slider.value,\n",
        "        \"size\": size_slider.value,\n",
        "        \"range_low\": range_slider.value[0],\n",
        "        \"range_hi\": range_slider.value[1],\n",
        "        \"x_offset\": x_offset_slider.value,\n",
        "        \"y_offset\": y_offset_slider.value,\n",
        "        \"rhy_irr\": irregularity_slider.value\n",
        "    }\n",
        "\n",
        "    # Append the slider values to the list\n",
        "    slider_values_list.append(slider_values)\n",
        "\n",
        "    # Write the updated data to the file\n",
        "    with open(\"slider_values.json\", \"w\") as file:\n",
        "        json.dump(slider_values_list, file, indent=4)\n"
      ],
      "metadata": {
        "id": "nlvJrvG5H3l9"
      },
      "execution_count": 10,
      "outputs": []
    },
    {
      "cell_type": "markdown",
      "source": [
        "#### Use the sliders to set up notational parameters\n"
      ],
      "metadata": {
        "id": "nqn0WAfSGQ5S"
      }
    },
    {
      "cell_type": "code",
      "source": [
        "import ipywidgets as widgets\n",
        "from IPython.display import display\n",
        "\n",
        "layout = widgets.Layout(margin='0 0 10px 0', width='40%')\n",
        "\n",
        "# Create a slider widget\n",
        "speed_slider = widgets.FloatSlider(value=1.0, min=0.2, max=2.0, step=0.1, description='speed:', style={'description_width': '150px'}, layout=layout)\n",
        "size_slider = widgets.IntSlider(value=8, min=2, max=12, step=1, description='size:', style={'description_width': '150px'}, layout=layout)\n",
        "range_slider = widgets.IntRangeSlider(value=[0, 12], min=0, max=12, step=1, description='range:', style={'description_width': '150px'}, layout=layout)\n",
        "x_offset_slider = widgets.FloatSlider(value=0.25, min=0.25, max=7.0, step=0.05, description='x offset:', style={'description_width': '150px'}, layout=layout)\n",
        "y_offset_slider = widgets.FloatSlider(value=0.0, min=-4.0, max=4.0, step=0.5, description='y offset:', style={'description_width': '150px'}, layout=layout)\n",
        "irregularity_slider = widgets.FloatSlider(value=0.0, min=0.0, max=0.5, step=0.01, description='rhythmic irregularity:', style={'description_width': '150px'}, layout=layout)\n",
        "chord_slider = widgets.IntSlider(value=0, min=0, max=size_slider.value, step=1, description='how many chords:', style={'description_width': '150px'}, layout=layout)\n",
        "direction_box = widgets.ToggleButtons(options=['Mixed', 'Upwards', 'Downwards'], description='directionality:', disabled=False, button_style='info')\n",
        "#poly_box = widgets.Checkbox(value=False, description='toggle polyphony', disabled=False, indent=True, layout=layout)\n",
        "\n",
        "slider_box = widgets.VBox([speed_slider, size_slider, range_slider, x_offset_slider, y_offset_slider, irregularity_slider, chord_slider, direction_box])\n",
        "\n",
        "# Display the slider widget\n",
        "display(slider_box)\n"
      ],
      "metadata": {
        "colab": {
          "base_uri": "https://localhost:8080/",
          "height": 316,
          "referenced_widgets": [
            "dd865c19df1d47d3a4632c9a0fc367c7",
            "7dccdda6a23540aca067fec616028cf2",
            "a94699c7f87a4cad8c68ca006858995f",
            "fbae5454553c43058b205d1beac985df",
            "510c424d008b40e781d372612ddfbcba",
            "b0e87ac4affc42ffb2a80052559c9f8e",
            "afee2dcab27544ad8e8d3dd3c61d7f96",
            "228a7c738dea49a285aacf599f5f8016",
            "a648c26647264dc4966dec9f8095a354",
            "472745ee4048436f89bbf712b680c1dc",
            "2238473a4ca24bcd9c743d9abafa8776",
            "00912111ab744678af8179454b4d3861",
            "622c235d34f843778252fa1f4d74353b",
            "0a721668e704468d8a01bcda7e613864",
            "27a28c48cc2e477ca8f4d1dfe54f763f",
            "a69986afb97d4ee18e359aa7eef01303",
            "b69122b1ecd84ceca64b9e99ae26ef8d",
            "4c0b6d2afe3243a699683622b9630a4b",
            "00ec075a75bb4ebfbe558679436486f1",
            "43425ba65ee34354a53146923f5dbf05"
          ]
        },
        "id": "WgES_KJ6Dko3",
        "outputId": "dc57470f-cd8b-4fae-9dd5-581bc883d22e"
      },
      "execution_count": 11,
      "outputs": [
        {
          "output_type": "display_data",
          "data": {
            "text/plain": [
              "VBox(children=(FloatSlider(value=1.0, description='speed:', layout=Layout(margin='0 0 10px 0', width='40%'), m…"
            ],
            "application/vnd.jupyter.widget-view+json": {
              "version_major": 2,
              "version_minor": 0,
              "model_id": "dd865c19df1d47d3a4632c9a0fc367c7"
            }
          },
          "metadata": {}
        }
      ]
    },
    {
      "cell_type": "markdown",
      "source": [
        "#### After the initial run, run after here (`Cmd/Ctrl+F10`) after each new slider setting (no need to re-run the slider cell). This will add new data into `slider_values.json`"
      ],
      "metadata": {
        "id": "w4uf2J_BfyoM"
      }
    },
    {
      "cell_type": "code",
      "source": [
        "# constants & variables\n",
        "seed_value = 1234\n",
        "np.random.seed(seed_value)\n",
        "\n",
        "phan_off = 0.25\n",
        "x_off = x_offset_slider.value\n",
        "y_off = 0.0\n",
        "\n",
        "# staff lines\n",
        "X_1, Y_1 = np.linspace(0.06, 10.345, 10), np.zeros(10)\n",
        "# measure lines\n",
        "X_2, Y_2 = np.linspace(0.06, 0.06, 10), np.linspace(4, 0, 10)\n",
        "# phantoms\n",
        "phantoms = [1, 2, 2.5, 3, 4, 5, 6, 7, 8]\n",
        "\n",
        "# notes:\n",
        "noteheads = ['f']\n",
        "notes = []\n",
        "accidentals = []\n",
        "acc_sym = ['n','#','b']\n",
        "\n",
        "notes.append(noteheads[0])\n",
        "\n",
        "# arrays for data:\n",
        "rhy_map = []\n",
        "pi_map = []\n",
        "\n"
      ],
      "metadata": {
        "id": "UbL48mDdPuds"
      },
      "execution_count": 23,
      "outputs": []
    },
    {
      "cell_type": "code",
      "source": [
        "# dicts\n",
        "pha_dict = {1: phan_off, 2: 1.235 + phan_off, 2.5: (1.235 + 0.6175) + phan_off, 3: (1.235 * 2) + phan_off, 4: (1.235 * 3) + phan_off, 5: (1.235 * 4) + phan_off, 6: (1.235 * 5) + phan_off, 7: (1.235 * 6) + phan_off, 8: (1.235 * 7) + phan_off}\n"
      ],
      "metadata": {
        "id": "SeHNUVynRa-8"
      },
      "execution_count": 13,
      "outputs": []
    },
    {
      "cell_type": "code",
      "source": [
        "def paramMapping(pos, maptype, mini, maxi, rnd):\n",
        "    min_pos = min(pos)\n",
        "    max_pos = max(pos)\n",
        "    if min_pos == max_pos:\n",
        "        # Handle case when all input values are the same\n",
        "        mapped_value = round((mini + maxi) / 2, rnd)\n",
        "        maptype.extend([mapped_value] * len(pos))\n",
        "    else:\n",
        "        for i in range(size):\n",
        "            mapped_value = round((maxi - mini) * ((pos[i] - min_pos) / (max_pos - min_pos)) + mini, rnd)\n",
        "            maptype.append(mapped_value)\n"
      ],
      "metadata": {
        "id": "skQWuOksRj0-"
      },
      "execution_count": 14,
      "outputs": []
    },
    {
      "cell_type": "code",
      "source": [
        "## input etc. TODO: dataset input option\n",
        "\n",
        "size = size_slider.value\n",
        "\n",
        "#raw_data = pd.read_csv(\"/content/src/pix.csv\", converters={\"0\": int})\n",
        "#chars = raw_data[\"0\"].values.tolist()\n",
        "\n",
        "# Generate random values\n",
        "range_slider_min = range_slider.value[0]\n",
        "range_slider_max = range_slider.value[1]\n",
        "raw_data = np.random.randint(low=range_slider_min, high=range_slider_max, size=size)\n"
      ],
      "metadata": {
        "id": "N3IfFu7uRoME"
      },
      "execution_count": 15,
      "outputs": []
    },
    {
      "cell_type": "code",
      "source": [
        "## Speed / rhythmic irregularity / textural direction\n",
        "\n",
        "speed = speed_slider.value\n",
        "mean = 0\n",
        "std_dev = irregularity_slider.value\n",
        "\n",
        "x_data = list(range(size))\n",
        "# Add randomness\n",
        "x_data = [x + np.random.normal(mean, std_dev) for x in x_data]\n",
        "x_data = [i*speed for i in x_data]\n",
        "\n",
        "y_data = raw_data\n",
        "\n",
        "if direction_box.value == 'Mixed':\n",
        "  pass\n",
        "elif direction_box.value == 'Upwards':\n",
        "  y_data = sorted(raw_data)\n",
        "elif direction_box.value == 'Downwards':\n",
        "  y_data = sorted(raw_data, reverse=True)\n",
        "else:\n",
        "    pass\n",
        "\n",
        "\n",
        "# print(\"x_data: \", x_data)\n",
        "# print(\"y_data: \", y_data)"
      ],
      "metadata": {
        "id": "fHkFXo5dR9P2"
      },
      "execution_count": 16,
      "outputs": []
    },
    {
      "cell_type": "code",
      "source": [
        "# perform mapping\n",
        "# paramMapping(x_pos, rhy_map, 0.15, 1.85, 2)\n",
        "# paramMapping(y_pos, pi_map, 68.0, 70.0, 0)\n",
        "phan = [pha_dict[i] for i in phantoms] #do we need a dictionary for phantoms?\n",
        "# pitches = [pitch_dict[i] for i in y_data]\n",
        "pitches = y_data\n",
        "\n",
        "print(\"pitches: \", pitches)\n",
        "# print(\"rhythms: \", x_data)\n",
        "acc_sym[:2]"
      ],
      "metadata": {
        "colab": {
          "base_uri": "https://localhost:8080/"
        },
        "id": "wm2tom9NULcl",
        "outputId": "6e991e75-a7a4-46e9-ef50-384f5136ada1"
      },
      "execution_count": 17,
      "outputs": [
        {
          "output_type": "stream",
          "name": "stdout",
          "text": [
            "pitches:  [3 6 5 4 8 9 1 7]\n"
          ]
        },
        {
          "output_type": "execute_result",
          "data": {
            "text/plain": [
              "['n', '#']"
            ]
          },
          "metadata": {},
          "execution_count": 17
        }
      ]
    },
    {
      "cell_type": "markdown",
      "source": [
        "#### Generate the notation"
      ],
      "metadata": {
        "id": "MrjlAafGpexl"
      }
    },
    {
      "cell_type": "code",
      "source": [
        "import warnings\n",
        "\n",
        "# create the figure and subplot:\n",
        "fig = plt.figure(figsize=(24, 6))\n",
        "ax = plt.subplot(1, 1, 1)\n",
        "\n",
        "# customize the subplot spines\n",
        "ax.spines['top'].set_visible(False)\n",
        "ax.spines['bottom'].set_visible(False)\n",
        "ax.spines['left'].set_visible(False)\n",
        "ax.spines['right'].set_visible(False)\n",
        "\n",
        "accidentals = []\n",
        "for j in range(size):\n",
        "    # no sharps on Es in this context\n",
        "    if pitches[j] % 3.5 == 0.0:\n",
        "      accidentals.append(random.choice([acc_sym[0], acc_sym[2]]))\n",
        "    # no flats on Fs in this context\n",
        "    elif pitches[j] % 3.5 == 0.5:\n",
        "      accidentals.append(random.choice(acc_sym[:2]))\n",
        "    # no sharps on Bs in this context\n",
        "    elif pitches[j] % 3.5 == 2.0:\n",
        "      accidentals.append(random.choice([acc_sym[0], acc_sym[2]]))\n",
        "    # no flats on Cs in this context\n",
        "    elif pitches[j] % 3.5 == 2.5:\n",
        "      accidentals.append(random.choice(acc_sym[:2]))\n",
        "    else:\n",
        "      accidentals.append(random.choice(acc_sym))\n",
        "    print(\"pitches: \", pitches[j])\n",
        "    print(\"acc[j]: \", accidentals[j])\n",
        "\n",
        "print(\"accidentals: \", accidentals)\n",
        "# plot the notation\n",
        "for i in range(size):\n",
        "    pitch = pitches[i]+y_offset_slider.value\n",
        "    rhythm = x_data[i]\n",
        "    accidental = accidentals[i]\n",
        "    oct_add = 0\n",
        "    pitch_offset = -3.55\n",
        "    ledger_off_low = (pitch+pitch_offset)+0.55\n",
        "    ledger_off_hi = (pitch+pitch_offset)-4.45\n",
        "\n",
        "\n",
        "    # ledger lines\n",
        "    L1_x, L1_y = np.linspace(rhythm+x_off+0.01, rhythm++x_off+0.11, 10), np.full((10, ), ledger_off_low)\n",
        "    L2_x, L2_y = np.linspace(rhythm+x_off+0.01, rhythm++x_off+0.11, 10), np.full((10, ), ledger_off_hi)\n",
        "\n",
        "    if pitch < 3.0 and (pitch % 1) == 0.0:\n",
        "      for i in range(5):\n",
        "        ax.plot(L1_x, L1_y + i, linestyle='solid', linewidth=0.5, color='black')\n",
        "    elif pitch < 3.0 and (pitch % 1) != 0.0:\n",
        "      for i in range(5):\n",
        "        ax.plot(L1_x, L1_y-0.5 + i, linestyle='solid', linewidth=0.5, color='black')\n",
        "    if pitch > 8.0 and (pitch % 1) == 0.0:\n",
        "      for i in range(5):\n",
        "        ax.plot(L2_x, L2_y + i, linestyle='solid', linewidth=0.5, color='black')\n",
        "    elif pitch > 8.0 and (pitch % 1) != 0.0:\n",
        "      for i in range(5):\n",
        "        ax.plot(L2_x, L2_y+0.5 + i, linestyle='solid', linewidth=0.5, color='black')\n",
        "\n",
        "\n",
        "    # draw the notation\n",
        "    plt.text((rhythm + 0.035)+x_off, pitch+pitch_offset, notes[0], fontproperties=fontprop2, color='black')\n",
        "    plt.text((rhythm - 0.025)+x_off, pitch+pitch_offset, accidental, fontproperties=fontprop1, color='black')\n",
        "    ax.plot(np.linspace(rhythm+x_off + 0.06, rhythm+x_off + 0.06, 10), np.linspace((pitch+pitch_offset + oct_add), -13.3, 10), linestyle='solid', linewidth=0.5, color='black')\n",
        "\n",
        "# chords\n",
        "# lower triad -1.0\n",
        "\n",
        "# random chord pos\n",
        "\n",
        "chord_indices = random.sample(range(0, size), chord_slider.value)\n",
        "\n",
        "for chord in chord_indices:\n",
        "  plt.text((x_data[chord] + 0.035)+x_off, pitches[chord]+pitch_offset-1.0, notes[0], fontproperties=fontprop2, color='black')\n",
        "  plt.text((x_data[chord] - 0.025)+x_off, pitches[chord]+pitch_offset-1.0, accidentals[chord], fontproperties=fontprop1, color='black')\n",
        "\n",
        "\n",
        "# plot the staff lines\n",
        "for i in range(5):\n",
        "    ax.plot(X_1, y_off + Y_1 + i, linestyle='solid', linewidth=0.5, color='black')\n",
        "\n",
        "# plot the treble clef\n",
        "plt.text(0.1, 1.1 + y_off, '&', fontproperties=fontprop1)\n",
        "\n",
        "\n",
        "# plot the measure lines and lower beams:\n",
        "ax.plot(X_2, Y_2, linestyle='solid', linewidth=0.5, color='black')\n",
        "ax.plot(np.linspace((x_data[0])+x_off + 0.075, (x_data[size-1])+x_off+ 0.05, 10), np.linspace(-13.1, -13.1, 10), linestyle='solid', linewidth=4, color='black')\n",
        "\n",
        "\n",
        "# phantom rhythms:\n",
        "for i in range(2):\n",
        "    ax.plot(np.linspace(phan[i] + 0.06, phan[i] + 0.06, 10), np.linspace(4 + y_off, 15 + y_off, 10), linestyle='solid', linewidth=0.5, color='gray')\n",
        "for i in range(1):\n",
        "    ax.plot(np.linspace(phan[i + 2] + 0.06, phan[i + 2] + 0.06, 10), np.linspace(4 + y_off, 15 + y_off, 10), linestyle='solid', linewidth=0.5, color='gray')\n",
        "for i in range(2):\n",
        "    ax.plot(np.linspace(phan[i + 3] + 0.06, phan[i + 3] + 0.06, 10), np.linspace(4 + y_off, 15 + y_off, 10), linestyle='solid', linewidth=0.5, color='gray')\n",
        "for i in range(1):\n",
        "    ax.plot(np.linspace(phan[i + 5] + 0.06, phan[i + 5] + 0.06, 10), np.linspace(4 + y_off, 15 + y_off, 10), linestyle='solid', linewidth=0.5, color='gray')\n",
        "for i in range(1):\n",
        "    ax.plot(np.linspace(phan[i + 6] + 0.06, phan[i + 6] + 0.06, 10), np.linspace(4 + y_off, 15 + y_off, 10), linestyle='solid', linewidth=0.5, color='gray')\n",
        "for i in range(2):\n",
        "    ax.plot(np.linspace(phan[i + 7] + 0.06, phan[i + 7] + 0.06, 10), np.linspace(4 + y_off, 15 + y_off, 10), linestyle='solid', linewidth=0.5, color='gray')\n",
        "\n",
        "ax.plot(np.linspace((phan[0]) + 0.075, (phan[4]) + 0.045, 10), np.linspace(15 + y_off, 15 + y_off, 10), linestyle='solid', linewidth=4, color='gray')\n",
        "ax.plot(np.linspace((phan[1]) + 0.075, (phan[2]) + 0.045, 10), np.linspace(14 + y_off, 14 + y_off, 10), linestyle='solid', linewidth=4, color='gray')\n",
        "ax.plot(np.linspace((phan[5]) + 0.075, (phan[8]) + 0.04, 10), np.linspace(15 + y_off, 15 + y_off, 10), linestyle='solid', linewidth=4, color='gray')\n",
        "\n",
        "# set the y-axis limits, adjust layout, and display the plot:\n",
        "warnings.filterwarnings(\"ignore\", category=UserWarning)\n",
        "\n",
        "ax.set_ylim(-35, 29)\n",
        "fig.set_tight_layout(True)\n",
        "plt.yticks([])\n",
        "plt.xticks([])\n",
        "\n",
        "\n",
        "# save if you want\n",
        "#filename = f'notation_{fig_num}.jpg'\n",
        "#plt.savefig(filename, format='jpg')\n",
        "#fig_num += 1\n",
        "\n",
        "plt.show()\n"
      ],
      "metadata": {
        "colab": {
          "base_uri": "https://localhost:8080/",
          "height": 557
        },
        "id": "lJEyr89rUNIV",
        "outputId": "5465c367-f8ff-4a07-ee1c-3727307c1bc9"
      },
      "execution_count": 55,
      "outputs": [
        {
          "output_type": "stream",
          "name": "stdout",
          "text": [
            "pitches:  8\n",
            "acc[j]:  #\n",
            "pitches:  5\n",
            "acc[j]:  #\n",
            "pitches:  3\n",
            "acc[j]:  b\n",
            "pitches:  4\n",
            "acc[j]:  n\n",
            "pitches:  7\n",
            "acc[j]:  n\n",
            "pitches:  1\n",
            "acc[j]:  #\n",
            "pitches:  6\n",
            "acc[j]:  n\n",
            "pitches:  9\n",
            "acc[j]:  n\n",
            "accidentals:  ['#', '#', 'b', 'n', 'n', '#', 'n', 'n']\n"
          ]
        },
        {
          "output_type": "display_data",
          "data": {
            "text/plain": [
              "<Figure size 2400x600 with 1 Axes>"
            ],
            "image/png": "[encoded data removed]"
          },
          "metadata": {}
        }
      ]
    },
    {
      "cell_type": "code",
      "source": [
        "# update the slider values\n",
        "update_slider_values(None)"
      ],
      "metadata": {
        "id": "3cntKwxOD80R"
      },
      "execution_count": null,
      "outputs": []
    },
    {
      "cell_type": "markdown",
      "source": [
        "#### Check if the two datasets are of equal size by running the cell below. If they are not equal, you can generate more manually by `running before (cmd/ctrl + F8)` after setting up new slide values, or..."
      ],
      "metadata": {
        "id": "JMoR5TOHnIZy"
      }
    },
    {
      "cell_type": "code",
      "source": [
        "# warn if the slider values are not equal to train_xy values\n",
        "\n",
        "with open('train_xy.json') as file:\n",
        "    train_xy = json.load(file)\n",
        "\n",
        "x_train = train_xy['x']\n",
        "y_train = train_xy['y']\n",
        "\n",
        "with open('slider_values.json') as file:\n",
        "    slider_values = json.load(file)\n",
        "\n",
        "# Check if the sizes are equal\n",
        "if len(x_train) != len(slider_values):\n",
        "    print(\"Sizes of xy_train.json and slider_values.json are not equal.\")\n",
        "else: print(\"You're good to go!\")"
      ],
      "metadata": {
        "id": "Z7J_pBzakFZL"
      },
      "execution_count": null,
      "outputs": []
    },
    {
      "cell_type": "markdown",
      "source": [
        "#### fill with random values by uncommenting and running `after the cell (Ctrl/Cmd+F10)` below."
      ],
      "metadata": {
        "id": "g6-wPRUro_sy"
      }
    },
    {
      "cell_type": "code",
      "source": [
        "with open('train_xy.json') as file:\n",
        "    train_xy = json.load(file)\n",
        "\n",
        "x_train = train_xy['x']\n",
        "y_train = train_xy['y']\n",
        "\n",
        "with open('slider_values.json') as file:\n",
        "    slider_values_data = json.load(file)\n",
        "\n",
        "# check if the sizes are equal\n",
        "if len(x_train) != len(slider_values_data):\n",
        "    # Generate random values to fill slider_values_data\n",
        "    while len(slider_values_data) < len(x_train):\n",
        "        random_value = {\n",
        "            \"speed\": round(random.random(), 2),\n",
        "            \"size\": random.randint(1, 10),\n",
        "            \"range_low\": random.randint(0, 10),\n",
        "            \"range_hi\": random.randint(10, 20),\n",
        "            \"x_offset\": round(random.random(), 2),\n",
        "            \"y_offset\": round(random.random(), 2),\n",
        "            \"rhy_irr\": round(random.random(), 2)\n",
        "        }\n",
        "        slider_values_data.append(random_value)\n",
        "\n",
        "    with open('slider_values.json', 'w') as file:\n",
        "        json.dump(slider_values_data, file, indent=4)\n"
      ],
      "metadata": {
        "id": "3XGuleh9m5ji"
      },
      "execution_count": null,
      "outputs": []
    },
    {
      "cell_type": "markdown",
      "source": [
        "#### JSON files will be uploaded to your Google Drive (permission required)"
      ],
      "metadata": {
        "id": "tFVsv506gjMp"
      }
    },
    {
      "cell_type": "code",
      "source": [
        "# mount Google Drive\n",
        "from google.colab import drive\n",
        "drive.mount('/content/drive')"
      ],
      "metadata": {
        "id": "9HmnoMNvhcVz"
      },
      "execution_count": null,
      "outputs": []
    },
    {
      "cell_type": "code",
      "source": [
        "import shutil\n",
        "\n",
        "# path to the source file\n",
        "source_file_path_1 = '/content/train_xy.json'\n",
        "source_file_path_2 = '/content/slider_values.json'\n",
        "\n",
        "# destination directory in Google Drive\n",
        "destination_directory = '/content/drive/MyDrive'\n",
        "\n",
        "shutil.copy(source_file_path_1, destination_directory)\n",
        "shutil.copy(source_file_path_2, destination_directory)"
      ],
      "metadata": {
        "id": "3r2Q9e2ehgz-"
      },
      "execution_count": null,
      "outputs": []
    }
  ]
}