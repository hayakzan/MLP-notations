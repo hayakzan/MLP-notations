{
  "nbformat": 4,
  "nbformat_minor": 0,
  "metadata": {
    "colab": {
      "provenance": [],
      "machine_shape": "hm",
      "gpuType": "V100",
      "include_colab_link": true
    },
    "kernelspec": {
      "name": "python3",
      "display_name": "Python 3"
    },
    "language_info": {
      "name": "python"
    },
    "widgets": {
      "application/vnd.jupyter.widget-state+json": {
        "99c3c8d65ad94d74a97a82b6c3023f65": {
          "model_module": "@jupyter-widgets/controls",
          "model_name": "VBoxModel",
          "model_module_version": "1.5.0",
          "state": {
            "_dom_classes": [],
            "_model_module": "@jupyter-widgets/controls",
            "_model_module_version": "1.5.0",
            "_model_name": "VBoxModel",
            "_view_count": null,
            "_view_module": "@jupyter-widgets/controls",
            "_view_module_version": "1.5.0",
            "_view_name": "VBoxView",
            "box_style": "",
            "children": [
              "IPY_MODEL_96fef807e5824c4e997b03382ecba13a",
              "IPY_MODEL_a6bdb74af5544203a5bdad0910852162",
              "IPY_MODEL_966b89a99f6142ef8094b8d005ccd59e",
              "IPY_MODEL_045d47fa0ee44f618f7f3e5d1f4ed70a",
              "IPY_MODEL_2c8550e9d55e4649abc3c114ed4a1208",
              "IPY_MODEL_1ea98a43f1ad44c381a8c36aa97163ea",
              "IPY_MODEL_97d70824b45f40289afc944577d9e4b0",
              "IPY_MODEL_c799101e5ee14cf3be972349fb298f7b",
              "IPY_MODEL_3264aa5322a14ab9a90f1e777e605312"
            ],
            "layout": "IPY_MODEL_97269b08b9e444e582c4d5163690f526"
          }
        },
        "96fef807e5824c4e997b03382ecba13a": {
          "model_module": "@jupyter-widgets/controls",
          "model_name": "FloatSliderModel",
          "model_module_version": "1.5.0",
          "state": {
            "_dom_classes": [],
            "_model_module": "@jupyter-widgets/controls",
            "_model_module_version": "1.5.0",
            "_model_name": "FloatSliderModel",
            "_view_count": null,
            "_view_module": "@jupyter-widgets/controls",
            "_view_module_version": "1.5.0",
            "_view_name": "FloatSliderView",
            "continuous_update": true,
            "description": "speed:",
            "description_tooltip": null,
            "disabled": false,
            "layout": "IPY_MODEL_dbbd53bf8bc04fc889939d43feaf43c1",
            "max": 2,
            "min": 0.2,
            "orientation": "horizontal",
            "readout": true,
            "readout_format": ".2f",
            "step": 0.1,
            "style": "IPY_MODEL_d8cc8aed5d9041dd9616cc32f0a748f0",
            "value": 1
          }
        },
        "a6bdb74af5544203a5bdad0910852162": {
          "model_module": "@jupyter-widgets/controls",
          "model_name": "IntSliderModel",
          "model_module_version": "1.5.0",
          "state": {
            "_dom_classes": [],
            "_model_module": "@jupyter-widgets/controls",
            "_model_module_version": "1.5.0",
            "_model_name": "IntSliderModel",
            "_view_count": null,
            "_view_module": "@jupyter-widgets/controls",
            "_view_module_version": "1.5.0",
            "_view_name": "IntSliderView",
            "continuous_update": true,
            "description": "size:",
            "description_tooltip": null,
            "disabled": false,
            "layout": "IPY_MODEL_dbbd53bf8bc04fc889939d43feaf43c1",
            "max": 12,
            "min": 2,
            "orientation": "horizontal",
            "readout": true,
            "readout_format": "d",
            "step": 1,
            "style": "IPY_MODEL_f16ce792e05f4528ae771266c1aea9ee",
            "value": 8
          }
        },
        "966b89a99f6142ef8094b8d005ccd59e": {
          "model_module": "@jupyter-widgets/controls",
          "model_name": "IntRangeSliderModel",
          "model_module_version": "1.5.0",
          "state": {
            "_dom_classes": [],
            "_model_module": "@jupyter-widgets/controls",
            "_model_module_version": "1.5.0",
            "_model_name": "IntRangeSliderModel",
            "_view_count": null,
            "_view_module": "@jupyter-widgets/controls",
            "_view_module_version": "1.5.0",
            "_view_name": "IntRangeSliderView",
            "continuous_update": true,
            "description": "range:",
            "description_tooltip": null,
            "disabled": false,
            "layout": "IPY_MODEL_dbbd53bf8bc04fc889939d43feaf43c1",
            "max": 12,
            "min": 0,
            "orientation": "horizontal",
            "readout": true,
            "readout_format": "d",
            "step": 1,
            "style": "IPY_MODEL_58d965aba5d944ada9a5221134c64de5",
            "value": [
              0,
              12
            ]
          }
        },
        "045d47fa0ee44f618f7f3e5d1f4ed70a": {
          "model_module": "@jupyter-widgets/controls",
          "model_name": "FloatSliderModel",
          "model_module_version": "1.5.0",
          "state": {
            "_dom_classes": [],
            "_model_module": "@jupyter-widgets/controls",
            "_model_module_version": "1.5.0",
            "_model_name": "FloatSliderModel",
            "_view_count": null,
            "_view_module": "@jupyter-widgets/controls",
            "_view_module_version": "1.5.0",
            "_view_name": "FloatSliderView",
            "continuous_update": true,
            "description": "x offset:",
            "description_tooltip": null,
            "disabled": false,
            "layout": "IPY_MODEL_dbbd53bf8bc04fc889939d43feaf43c1",
            "max": 7,
            "min": 0.4,
            "orientation": "horizontal",
            "readout": true,
            "readout_format": ".2f",
            "step": 0.05,
            "style": "IPY_MODEL_21d50b1b1ff54eb1b617576079a2dbab",
            "value": 0.4
          }
        },
        "2c8550e9d55e4649abc3c114ed4a1208": {
          "model_module": "@jupyter-widgets/controls",
          "model_name": "FloatSliderModel",
          "model_module_version": "1.5.0",
          "state": {
            "_dom_classes": [],
            "_model_module": "@jupyter-widgets/controls",
            "_model_module_version": "1.5.0",
            "_model_name": "FloatSliderModel",
            "_view_count": null,
            "_view_module": "@jupyter-widgets/controls",
            "_view_module_version": "1.5.0",
            "_view_name": "FloatSliderView",
            "continuous_update": true,
            "description": "y offset:",
            "description_tooltip": null,
            "disabled": false,
            "layout": "IPY_MODEL_dbbd53bf8bc04fc889939d43feaf43c1",
            "max": 4,
            "min": -4,
            "orientation": "horizontal",
            "readout": true,
            "readout_format": ".2f",
            "step": 0.5,
            "style": "IPY_MODEL_dd7f806febeb4cb6a6de3b64fb1d0ccb",
            "value": 0
          }
        },
        "1ea98a43f1ad44c381a8c36aa97163ea": {
          "model_module": "@jupyter-widgets/controls",
          "model_name": "FloatSliderModel",
          "model_module_version": "1.5.0",
          "state": {
            "_dom_classes": [],
            "_model_module": "@jupyter-widgets/controls",
            "_model_module_version": "1.5.0",
            "_model_name": "FloatSliderModel",
            "_view_count": null,
            "_view_module": "@jupyter-widgets/controls",
            "_view_module_version": "1.5.0",
            "_view_name": "FloatSliderView",
            "continuous_update": true,
            "description": "rhythmic irregularity:",
            "description_tooltip": null,
            "disabled": false,
            "layout": "IPY_MODEL_dbbd53bf8bc04fc889939d43feaf43c1",
            "max": 0.5,
            "min": 0,
            "orientation": "horizontal",
            "readout": true,
            "readout_format": ".2f",
            "step": 0.01,
            "style": "IPY_MODEL_d8f6daec792348218bbb8946a5ac4b70",
            "value": 0
          }
        },
        "97d70824b45f40289afc944577d9e4b0": {
          "model_module": "@jupyter-widgets/controls",
          "model_name": "IntSliderModel",
          "model_module_version": "1.5.0",
          "state": {
            "_dom_classes": [],
            "_model_module": "@jupyter-widgets/controls",
            "_model_module_version": "1.5.0",
            "_model_name": "IntSliderModel",
            "_view_count": null,
            "_view_module": "@jupyter-widgets/controls",
            "_view_module_version": "1.5.0",
            "_view_name": "IntSliderView",
            "continuous_update": true,
            "description": "# of chords:",
            "description_tooltip": null,
            "disabled": false,
            "layout": "IPY_MODEL_dbbd53bf8bc04fc889939d43feaf43c1",
            "max": 8,
            "min": 0,
            "orientation": "horizontal",
            "readout": true,
            "readout_format": "d",
            "step": 1,
            "style": "IPY_MODEL_ea76c9e78e224872b802a0945d93ed5a",
            "value": 1
          }
        },
        "c799101e5ee14cf3be972349fb298f7b": {
          "model_module": "@jupyter-widgets/controls",
          "model_name": "IntSliderModel",
          "model_module_version": "1.5.0",
          "state": {
            "_dom_classes": [],
            "_model_module": "@jupyter-widgets/controls",
            "_model_module_version": "1.5.0",
            "_model_name": "IntSliderModel",
            "_view_count": null,
            "_view_module": "@jupyter-widgets/controls",
            "_view_module_version": "1.5.0",
            "_view_name": "IntSliderView",
            "continuous_update": true,
            "description": "chord size:",
            "description_tooltip": null,
            "disabled": false,
            "layout": "IPY_MODEL_dbbd53bf8bc04fc889939d43feaf43c1",
            "max": 4,
            "min": 2,
            "orientation": "horizontal",
            "readout": true,
            "readout_format": "d",
            "step": 1,
            "style": "IPY_MODEL_59728feb84974af78d931b30f6d5a394",
            "value": 3
          }
        },
        "3264aa5322a14ab9a90f1e777e605312": {
          "model_module": "@jupyter-widgets/controls",
          "model_name": "ToggleButtonsModel",
          "model_module_version": "1.5.0",
          "state": {
            "_dom_classes": [],
            "_model_module": "@jupyter-widgets/controls",
            "_model_module_version": "1.5.0",
            "_model_name": "ToggleButtonsModel",
            "_options_labels": [
              "Mixed",
              "Upwards",
              "Downwards"
            ],
            "_view_count": null,
            "_view_module": "@jupyter-widgets/controls",
            "_view_module_version": "1.5.0",
            "_view_name": "ToggleButtonsView",
            "button_style": "info",
            "description": "directionality:",
            "description_tooltip": null,
            "disabled": false,
            "icons": [],
            "index": 0,
            "layout": "IPY_MODEL_4a345d11904a4e5b8f949fea38b38edb",
            "style": "IPY_MODEL_d8cfa6cfa5ad405791c87dbfa77c3b29",
            "tooltips": []
          }
        },
        "97269b08b9e444e582c4d5163690f526": {
          "model_module": "@jupyter-widgets/base",
          "model_name": "LayoutModel",
          "model_module_version": "1.2.0",
          "state": {
            "_model_module": "@jupyter-widgets/base",
            "_model_module_version": "1.2.0",
            "_model_name": "LayoutModel",
            "_view_count": null,
            "_view_module": "@jupyter-widgets/base",
            "_view_module_version": "1.2.0",
            "_view_name": "LayoutView",
            "align_content": null,
            "align_items": null,
            "align_self": null,
            "border": null,
            "bottom": null,
            "display": null,
            "flex": null,
            "flex_flow": null,
            "grid_area": null,
            "grid_auto_columns": null,
            "grid_auto_flow": null,
            "grid_auto_rows": null,
            "grid_column": null,
            "grid_gap": null,
            "grid_row": null,
            "grid_template_areas": null,
            "grid_template_columns": null,
            "grid_template_rows": null,
            "height": null,
            "justify_content": null,
            "justify_items": null,
            "left": null,
            "margin": null,
            "max_height": null,
            "max_width": null,
            "min_height": null,
            "min_width": null,
            "object_fit": null,
            "object_position": null,
            "order": null,
            "overflow": null,
            "overflow_x": null,
            "overflow_y": null,
            "padding": null,
            "right": null,
            "top": null,
            "visibility": null,
            "width": null
          }
        },
        "dbbd53bf8bc04fc889939d43feaf43c1": {
          "model_module": "@jupyter-widgets/base",
          "model_name": "LayoutModel",
          "model_module_version": "1.2.0",
          "state": {
            "_model_module": "@jupyter-widgets/base",
            "_model_module_version": "1.2.0",
            "_model_name": "LayoutModel",
            "_view_count": null,
            "_view_module": "@jupyter-widgets/base",
            "_view_module_version": "1.2.0",
            "_view_name": "LayoutView",
            "align_content": null,
            "align_items": null,
            "align_self": null,
            "border": null,
            "bottom": null,
            "display": null,
            "flex": null,
            "flex_flow": null,
            "grid_area": null,
            "grid_auto_columns": null,
            "grid_auto_flow": null,
            "grid_auto_rows": null,
            "grid_column": null,
            "grid_gap": null,
            "grid_row": null,
            "grid_template_areas": null,
            "grid_template_columns": null,
            "grid_template_rows": null,
            "height": null,
            "justify_content": null,
            "justify_items": null,
            "left": null,
            "margin": "0 0 10px 0",
            "max_height": null,
            "max_width": null,
            "min_height": null,
            "min_width": null,
            "object_fit": null,
            "object_position": null,
            "order": null,
            "overflow": null,
            "overflow_x": null,
            "overflow_y": null,
            "padding": null,
            "right": null,
            "top": null,
            "visibility": null,
            "width": "40%"
          }
        },
        "d8cc8aed5d9041dd9616cc32f0a748f0": {
          "model_module": "@jupyter-widgets/controls",
          "model_name": "SliderStyleModel",
          "model_module_version": "1.5.0",
          "state": {
            "_model_module": "@jupyter-widgets/controls",
            "_model_module_version": "1.5.0",
            "_model_name": "SliderStyleModel",
            "_view_count": null,
            "_view_module": "@jupyter-widgets/base",
            "_view_module_version": "1.2.0",
            "_view_name": "StyleView",
            "description_width": "150px",
            "handle_color": null
          }
        },
        "f16ce792e05f4528ae771266c1aea9ee": {
          "model_module": "@jupyter-widgets/controls",
          "model_name": "SliderStyleModel",
          "model_module_version": "1.5.0",
          "state": {
            "_model_module": "@jupyter-widgets/controls",
            "_model_module_version": "1.5.0",
            "_model_name": "SliderStyleModel",
            "_view_count": null,
            "_view_module": "@jupyter-widgets/base",
            "_view_module_version": "1.2.0",
            "_view_name": "StyleView",
            "description_width": "150px",
            "handle_color": null
          }
        },
        "58d965aba5d944ada9a5221134c64de5": {
          "model_module": "@jupyter-widgets/controls",
          "model_name": "SliderStyleModel",
          "model_module_version": "1.5.0",
          "state": {
            "_model_module": "@jupyter-widgets/controls",
            "_model_module_version": "1.5.0",
            "_model_name": "SliderStyleModel",
            "_view_count": null,
            "_view_module": "@jupyter-widgets/base",
            "_view_module_version": "1.2.0",
            "_view_name": "StyleView",
            "description_width": "150px",
            "handle_color": null
          }
        },
        "21d50b1b1ff54eb1b617576079a2dbab": {
          "model_module": "@jupyter-widgets/controls",
          "model_name": "SliderStyleModel",
          "model_module_version": "1.5.0",
          "state": {
            "_model_module": "@jupyter-widgets/controls",
            "_model_module_version": "1.5.0",
            "_model_name": "SliderStyleModel",
            "_view_count": null,
            "_view_module": "@jupyter-widgets/base",
            "_view_module_version": "1.2.0",
            "_view_name": "StyleView",
            "description_width": "150px",
            "handle_color": null
          }
        },
        "dd7f806febeb4cb6a6de3b64fb1d0ccb": {
          "model_module": "@jupyter-widgets/controls",
          "model_name": "SliderStyleModel",
          "model_module_version": "1.5.0",
          "state": {
            "_model_module": "@jupyter-widgets/controls",
            "_model_module_version": "1.5.0",
            "_model_name": "SliderStyleModel",
            "_view_count": null,
            "_view_module": "@jupyter-widgets/base",
            "_view_module_version": "1.2.0",
            "_view_name": "StyleView",
            "description_width": "150px",
            "handle_color": null
          }
        },
        "d8f6daec792348218bbb8946a5ac4b70": {
          "model_module": "@jupyter-widgets/controls",
          "model_name": "SliderStyleModel",
          "model_module_version": "1.5.0",
          "state": {
            "_model_module": "@jupyter-widgets/controls",
            "_model_module_version": "1.5.0",
            "_model_name": "SliderStyleModel",
            "_view_count": null,
            "_view_module": "@jupyter-widgets/base",
            "_view_module_version": "1.2.0",
            "_view_name": "StyleView",
            "description_width": "150px",
            "handle_color": null
          }
        },
        "ea76c9e78e224872b802a0945d93ed5a": {
          "model_module": "@jupyter-widgets/controls",
          "model_name": "SliderStyleModel",
          "model_module_version": "1.5.0",
          "state": {
            "_model_module": "@jupyter-widgets/controls",
            "_model_module_version": "1.5.0",
            "_model_name": "SliderStyleModel",
            "_view_count": null,
            "_view_module": "@jupyter-widgets/base",
            "_view_module_version": "1.2.0",
            "_view_name": "StyleView",
            "description_width": "150px",
            "handle_color": null
          }
        },
        "59728feb84974af78d931b30f6d5a394": {
          "model_module": "@jupyter-widgets/controls",
          "model_name": "SliderStyleModel",
          "model_module_version": "1.5.0",
          "state": {
            "_model_module": "@jupyter-widgets/controls",
            "_model_module_version": "1.5.0",
            "_model_name": "SliderStyleModel",
            "_view_count": null,
            "_view_module": "@jupyter-widgets/base",
            "_view_module_version": "1.2.0",
            "_view_name": "StyleView",
            "description_width": "150px",
            "handle_color": null
          }
        },
        "4a345d11904a4e5b8f949fea38b38edb": {
          "model_module": "@jupyter-widgets/base",
          "model_name": "LayoutModel",
          "model_module_version": "1.2.0",
          "state": {
            "_model_module": "@jupyter-widgets/base",
            "_model_module_version": "1.2.0",
            "_model_name": "LayoutModel",
            "_view_count": null,
            "_view_module": "@jupyter-widgets/base",
            "_view_module_version": "1.2.0",
            "_view_name": "LayoutView",
            "align_content": null,
            "align_items": null,
            "align_self": null,
            "border": null,
            "bottom": null,
            "display": null,
            "flex": null,
            "flex_flow": null,
            "grid_area": null,
            "grid_auto_columns": null,
            "grid_auto_flow": null,
            "grid_auto_rows": null,
            "grid_column": null,
            "grid_gap": null,
            "grid_row": null,
            "grid_template_areas": null,
            "grid_template_columns": null,
            "grid_template_rows": null,
            "height": null,
            "justify_content": null,
            "justify_items": null,
            "left": null,
            "margin": null,
            "max_height": null,
            "max_width": null,
            "min_height": null,
            "min_width": null,
            "object_fit": null,
            "object_position": null,
            "order": null,
            "overflow": null,
            "overflow_x": null,
            "overflow_y": null,
            "padding": null,
            "right": null,
            "top": null,
            "visibility": null,
            "width": null
          }
        },
        "d8cfa6cfa5ad405791c87dbfa77c3b29": {
          "model_module": "@jupyter-widgets/controls",
          "model_name": "ToggleButtonsStyleModel",
          "model_module_version": "1.5.0",
          "state": {
            "_model_module": "@jupyter-widgets/controls",
            "_model_module_version": "1.5.0",
            "_model_name": "ToggleButtonsStyleModel",
            "_view_count": null,
            "_view_module": "@jupyter-widgets/base",
            "_view_module_version": "1.2.0",
            "_view_name": "StyleView",
            "button_width": "",
            "description_width": "",
            "font_weight": ""
          }
        }
      }
    }
  },
  "cells": [
    {
      "cell_type": "markdown",
      "metadata": {
        "id": "view-in-github",
        "colab_type": "text"
      },
      "source": [
        "<a href=\"https://colab.research.google.com/github/hayakzan/MLP-notations/blob/main/MLP_notations_GENERATING_DATA.ipynb\" target=\"_parent\"><img src=\"https://colab.research.google.com/assets/colab-badge.svg\" alt=\"Open In Colab\"/></a>"
      ]
    },
    {
      "cell_type": "markdown",
      "source": [
        "#### Before running the code\n",
        "#### - Upload the notation fonts `/fonts/OpusStd.ttf` and `/fonts/OpusSpecialStd.ttf` into `/content` folder\n",
        "#### - Upload `/xydata/train_xy.json` into `/content` folder\n"
      ],
      "metadata": {
        "id": "i-URQfyhgjLF"
      }
    },
    {
      "cell_type": "code",
      "execution_count": 1,
      "metadata": {
        "id": "AYycwWhBOXcG"
      },
      "outputs": [],
      "source": [
        "# -*- coding: utf-8 -*-\n",
        "\n",
        "# dependencies\n",
        "from __future__ import division\n",
        "import numpy as np\n",
        "import matplotlib\n",
        "import matplotlib.pyplot as plt\n",
        "import matplotlib.font_manager as fm\n",
        "import random\n",
        "from matplotlib.lines import Line2D\n",
        "import matplotlib.patches as mpatches\n",
        "from scipy import interpolate\n",
        "import csv\n",
        "import pandas as pd\n",
        "import json\n"
      ]
    },
    {
      "cell_type": "code",
      "source": [
        "global fig_num\n",
        "fig_num = 1\n",
        "\n",
        "font_dirs = [\"/content\"]\n",
        "font_files = fm.findSystemFonts(fontpaths=font_dirs)\n",
        "\n",
        "#TODO: fix the font issue\n",
        "fontprop2 = fm.FontProperties(fname=font_files[1], size=24)\n",
        "fontprop1 = fm.FontProperties(fname=font_files[0], size=25)\n",
        "\n"
      ],
      "metadata": {
        "id": "gldXCx8lPD8K"
      },
      "execution_count": 2,
      "outputs": []
    },
    {
      "cell_type": "markdown",
      "source": [
        "#### Create a JSON file for the parameters"
      ],
      "metadata": {
        "id": "WlVuW2vnH_QX"
      }
    },
    {
      "cell_type": "code",
      "source": [
        "# Create a list to store the slider values\n",
        "slider_values_list = []\n",
        "\n",
        "# Function to update the slider values\n",
        "def update_slider_values(change):\n",
        "    # Create a dictionary to store the slider values\n",
        "    slider_values = {\n",
        "        \"speed\": speed_slider.value,\n",
        "        \"size\": size_slider.value,\n",
        "        \"range_low\": range_slider.value[0],\n",
        "        \"range_hi\": range_slider.value[1],\n",
        "        \"x_offset\": x_offset_slider.value,\n",
        "        \"y_offset\": y_offset_slider.value,\n",
        "        \"rhy_irr\": irregularity_slider.value,\n",
        "        \"chord_num\": chord_num_slider.value,\n",
        "        \"chord_size\": chord_size_slider.value\n",
        "    }\n",
        "\n",
        "    # Append the slider values to the list\n",
        "    slider_values_list.append(slider_values)\n",
        "\n",
        "    # Write the updated data to the file\n",
        "    with open(\"slider_values.json\", \"w\") as file:\n",
        "        json.dump(slider_values_list, file, indent=4)\n"
      ],
      "metadata": {
        "id": "nlvJrvG5H3l9"
      },
      "execution_count": 3,
      "outputs": []
    },
    {
      "cell_type": "code",
      "source": [
        "def plot_note(rhythm, pitch, notes, accidental, x_off, acc_off, secundal_offset, pitch_offset, index):\n",
        "\n",
        "    # note\n",
        "    plt.text((rhythm + 0.035) + x_off + secundal_offset, pitch, notes[0],\n",
        "             fontproperties=fontprop2, color='black')\n",
        "\n",
        "    # accidental\n",
        "    plt.text((rhythm - 0.025) + acc_off + secundal_offset, pitch, random.choice(acc_sym),\n",
        "             fontproperties=fontprop1, color='black')\n",
        "\n",
        "\n"
      ],
      "metadata": {
        "id": "UowC55ZHU4ca"
      },
      "execution_count": 4,
      "outputs": []
    },
    {
      "cell_type": "markdown",
      "source": [
        "#### Use the sliders to set up notational parameters\n"
      ],
      "metadata": {
        "id": "nqn0WAfSGQ5S"
      }
    },
    {
      "cell_type": "code",
      "source": [
        "import ipywidgets as widgets\n",
        "from IPython.display import display\n",
        "\n",
        "layout = widgets.Layout(margin='0 0 10px 0', width='40%')\n",
        "\n",
        "# Create a slider widget\n",
        "speed_slider = widgets.FloatSlider(value=1.0, min=0.2, max=2.0, step=0.1, description='speed:', style={'description_width': '150px'}, layout=layout)\n",
        "size_slider = widgets.IntSlider(value=8, min=2, max=12, step=1, description='size:', style={'description_width': '150px'}, layout=layout)\n",
        "range_slider = widgets.IntRangeSlider(value=[0, 12], min=0, max=12, step=1, description='range:', style={'description_width': '150px'}, layout=layout)\n",
        "x_offset_slider = widgets.FloatSlider(value=0.4, min=0.4, max=7.0, step=0.05, description='x offset:', style={'description_width': '150px'}, layout=layout)\n",
        "y_offset_slider = widgets.FloatSlider(value=0.0, min=-4.0, max=4.0, step=0.5, description='y offset:', style={'description_width': '150px'}, layout=layout)\n",
        "irregularity_slider = widgets.FloatSlider(value=0.0, min=0.0, max=0.5, step=0.01, description='rhythmic irregularity:', style={'description_width': '150px'}, layout=layout)\n",
        "chord_num_slider = widgets.IntSlider(value=0, min=0, max=size_slider.value, step=1, description='# of chords:', style={'description_width': '150px'}, layout=layout)\n",
        "chord_size_slider = widgets.IntSlider(value=2, min=2, max=4, step=1, description='chord size:', style={'description_width': '150px'}, layout=layout)\n",
        "# chord_type_button = widgets.ToggleButtons(options=['Secundal', 'Tertian', 'Quartal', 'Mixed', 'Mixed within chord'], description='chord type:', disabled=False, button_style='info')\n",
        "direction_box = widgets.ToggleButtons(options=['Mixed', 'Upwards', 'Downwards'], description='directionality:', disabled=False, button_style='info')\n",
        "#poly_box = widgets.Checkbox(value=False, description='toggle polyphony', disabled=False, indent=True, layout=layout)\n",
        "\n",
        "slider_box = widgets.VBox([speed_slider, size_slider, range_slider, x_offset_slider, y_offset_slider, irregularity_slider, chord_num_slider, chord_size_slider, direction_box])\n",
        "\n",
        "# Display the slider widget\n",
        "display(slider_box)\n"
      ],
      "metadata": {
        "colab": {
          "base_uri": "https://localhost:8080/",
          "height": 354,
          "referenced_widgets": [
            "99c3c8d65ad94d74a97a82b6c3023f65",
            "96fef807e5824c4e997b03382ecba13a",
            "a6bdb74af5544203a5bdad0910852162",
            "966b89a99f6142ef8094b8d005ccd59e",
            "045d47fa0ee44f618f7f3e5d1f4ed70a",
            "2c8550e9d55e4649abc3c114ed4a1208",
            "1ea98a43f1ad44c381a8c36aa97163ea",
            "97d70824b45f40289afc944577d9e4b0",
            "c799101e5ee14cf3be972349fb298f7b",
            "3264aa5322a14ab9a90f1e777e605312",
            "97269b08b9e444e582c4d5163690f526",
            "dbbd53bf8bc04fc889939d43feaf43c1",
            "d8cc8aed5d9041dd9616cc32f0a748f0",
            "f16ce792e05f4528ae771266c1aea9ee",
            "58d965aba5d944ada9a5221134c64de5",
            "21d50b1b1ff54eb1b617576079a2dbab",
            "dd7f806febeb4cb6a6de3b64fb1d0ccb",
            "d8f6daec792348218bbb8946a5ac4b70",
            "ea76c9e78e224872b802a0945d93ed5a",
            "59728feb84974af78d931b30f6d5a394",
            "4a345d11904a4e5b8f949fea38b38edb",
            "d8cfa6cfa5ad405791c87dbfa77c3b29"
          ]
        },
        "id": "WgES_KJ6Dko3",
        "outputId": "a0d5ba21-b9cf-4b4e-9673-8113d4fe0cf0"
      },
      "execution_count": 5,
      "outputs": [
        {
          "output_type": "display_data",
          "data": {
            "text/plain": [
              "VBox(children=(FloatSlider(value=1.0, description='speed:', layout=Layout(margin='0 0 10px 0', width='40%'), m…"
            ],
            "application/vnd.jupyter.widget-view+json": {
              "version_major": 2,
              "version_minor": 0,
              "model_id": "99c3c8d65ad94d74a97a82b6c3023f65"
            }
          },
          "metadata": {}
        }
      ]
    },
    {
      "cell_type": "markdown",
      "source": [
        "#### After the initial run, run after here (`Cmd/Ctrl+F10`) after each new slider setting (no need to re-run the slider cell). This will add new data into `slider_values.json`"
      ],
      "metadata": {
        "id": "w4uf2J_BfyoM"
      }
    },
    {
      "cell_type": "code",
      "source": [
        "# constants & variables\n",
        "seed_value = 1234\n",
        "np.random.seed(seed_value)\n",
        "\n",
        "x_off = x_offset_slider.value\n",
        "phan_off = 0.46\n",
        "y_off = 0.0\n",
        "\n",
        "# staff lines\n",
        "X_1, Y_1 = np.linspace(0.06, 10.345, 10), np.zeros(10)\n",
        "# measure lines\n",
        "X_2, Y_2 = np.linspace(0.06, 0.06, 10), np.linspace(4, 0, 10)\n",
        "\n",
        "# notes:\n",
        "noteheads = ['f', ' ']\n",
        "notes = []\n",
        "accidentals = []\n",
        "acc_sym = ['n','#','b']\n",
        "acc_rest = [ ] #TODO add this above\n",
        "\n",
        "for i in range(len(noteheads)):\n",
        "  notes.append(noteheads[i])\n",
        "\n",
        "# arrays for data:\n",
        "rhy_map = []\n",
        "pi_map = []\n",
        "\n"
      ],
      "metadata": {
        "id": "UbL48mDdPuds"
      },
      "execution_count": 6,
      "outputs": []
    },
    {
      "cell_type": "code",
      "source": [
        "## input etc. TODO: dataset input option\n",
        "size = size_slider.value\n",
        "\n",
        "#raw_data = pd.read_csv(\"/content/src/pix.csv\", converters={\"0\": int})\n",
        "#chars = raw_data[\"0\"].values.tolist()\n",
        "\n",
        "# Generate random values\n",
        "range_slider_min = range_slider.value[0]\n",
        "range_slider_max = range_slider.value[1]\n",
        "raw_data = np.random.randint(low=range_slider_min, high=range_slider_max, size=size)\n"
      ],
      "metadata": {
        "id": "N3IfFu7uRoME"
      },
      "execution_count": 7,
      "outputs": []
    },
    {
      "cell_type": "code",
      "source": [
        "## Speed / rhythmic irregularity / textural direction\n",
        "\n",
        "speed = speed_slider.value\n",
        "mean = 0\n",
        "std_dev = irregularity_slider.value\n",
        "\n",
        "x_data = list(range(size))\n",
        "\n",
        "# Add randomness\n",
        "x_data = [x + np.random.normal(mean, std_dev) for x in x_data]\n",
        "x_data = [i*speed for i in x_data]\n",
        "\n",
        "y_data = raw_data\n",
        "\n",
        "if direction_box.value == 'Mixed':\n",
        "  pass\n",
        "elif direction_box.value == 'Upwards':\n",
        "  y_data = sorted(raw_data)\n",
        "elif direction_box.value == 'Downwards':\n",
        "  y_data = sorted(raw_data, reverse=True)\n",
        "else:\n",
        "    pass\n",
        "\n"
      ],
      "metadata": {
        "id": "fHkFXo5dR9P2"
      },
      "execution_count": 8,
      "outputs": []
    },
    {
      "cell_type": "markdown",
      "source": [
        "#### Generate the notation"
      ],
      "metadata": {
        "id": "MrjlAafGpexl"
      }
    },
    {
      "cell_type": "code",
      "source": [
        "import warnings\n",
        "# create the figure and subplot:\n",
        "fig = plt.figure(figsize=(24, 6))\n",
        "ax = plt.subplot(1, 1, 1)\n",
        "\n",
        "# customize the subplot spines\n",
        "ax.spines['top'].set_visible(False)\n",
        "ax.spines['bottom'].set_visible(False)\n",
        "ax.spines['left'].set_visible(False)\n",
        "ax.spines['right'].set_visible(False)\n",
        "\n",
        "accidentals = []\n",
        "chord_type_list = []\n",
        "# chord_type_list = [0.5, 1.45, 0.5, 1.45, 0.5, 1.45, 0.5, 1.0]\n",
        "rest_index = []\n",
        "rest_positions = []\n",
        "non_chords = []\n",
        "chord_pitch_array = []\n",
        "\n",
        "for j in range(size):\n",
        "    chord_type_list.append(random.choice([0.5, 1.0, 1.45]))\n",
        "    # no sharps on Es in this context\n",
        "    if y_data[j] % 3.5 == 0.0:\n",
        "      accidentals.append(random.choice([acc_sym[0], acc_sym[2]]))\n",
        "    # no flats on Fs in this context\n",
        "    elif y_data[j] % 3.5 == 0.5:\n",
        "      accidentals.append(random.choice(acc_sym[:2]))\n",
        "    # no sharps on Bs in this context\n",
        "    elif y_data[j] % 3.5 == 2.0:\n",
        "      accidentals.append(random.choice([acc_sym[0], acc_sym[2]]))\n",
        "    # no flats on Cs in this context\n",
        "    elif y_data[j] % 3.5 == 2.5:\n",
        "      accidentals.append(random.choice(acc_sym[:2]))\n",
        "    else:\n",
        "      accidentals.append(random.choice(acc_sym))\n",
        "\n",
        "# chords\n",
        "chord_indices = sorted(random.sample(range(0, size), chord_num_slider.value))\n",
        "acc_off_1 = x_off-0.17\n",
        "acc_off_2 = x_off-0.06\n",
        "secundal_offset_left = 0.025\n",
        "secundal_offset_right = -0.035\n",
        "secundal_offset_array = [secundal_offset_left, secundal_offset_right, secundal_offset_left, secundal_offset_right]\n",
        "secundal_acc_offset_arr = [acc_off_1, acc_off_2, acc_off_1, acc_off_2-0.1]\n",
        "\n",
        "for chord in chord_indices:\n",
        "  chord_pitch = y_data[chord]+y_offset_slider.value\n",
        "  pitch_offset = -3.55\n",
        "  rhythm = x_data[chord]\n",
        "  accidental = accidentals[chord]\n",
        "  ledger_off_low = (chord_pitch+pitch_offset)+0.55\n",
        "  ledger_off_hi = (chord_pitch+pitch_offset)-4.45\n",
        "\n",
        "# use plot_note for the rest, ADD the next interval to the plot_note\n",
        "# TODO: less monstrous conditionals\n",
        "  for i in range(1, chord_size_slider.value):\n",
        "    chord_pitch = chord_pitch - chord_type_list[i]\n",
        "    if i+1 != chord_size_slider.value:\n",
        "      if chord_type_list[i] == 0.5 and chord_type_list[i+1] == 0.5:\n",
        "        rest_positions.append(chord) # alter the melody's notehead position if there is an interval of second\n",
        "        plot_note(rhythm, chord_pitch+pitch_offset, notes, accidental, x_off, secundal_acc_offset_arr[i], secundal_offset_array[i], pitch_offset, i)\n",
        "      elif (chord_type_list[i] == 1.0 or chord_type_list[i] == 1.45) and chord_type_list[i+1] == 0.5:\n",
        "        plot_note(rhythm, chord_pitch+pitch_offset, notes, accidental, x_off, secundal_acc_offset_arr[i], secundal_offset_array[i], pitch_offset, i)\n",
        "      elif chord_type_list[i] == 0.5 and (chord_type_list[i+1] == 1.0 or chord_type_list[i+1] == 1.45):\n",
        "        rest_positions.append(chord)\n",
        "        plot_note(rhythm, chord_pitch+pitch_offset, notes, accidental, x_off, secundal_acc_offset_arr[i], secundal_offset_array[i], pitch_offset, i)\n",
        "      else:\n",
        "        plot_note(rhythm, chord_pitch+pitch_offset, notes, accidental, x_off, secundal_acc_offset_arr[i], 0.0, pitch_offset, i)\n",
        "    elif i+1 == chord_size_slider.value:\n",
        "      if chord_type_list[i] == 0.5:\n",
        "        plot_note(rhythm, chord_pitch+pitch_offset, notes, accidental, x_off, secundal_acc_offset_arr[i], secundal_offset_array[i], pitch_offset, i)\n",
        "      elif (chord_type_list[i] == 1.0 or chord_type_list[i] == 1.45):\n",
        "        plot_note(rhythm, chord_pitch+pitch_offset, notes, accidental, x_off, secundal_acc_offset_arr[i], 0.0, pitch_offset, i)\n",
        "\n",
        "# Create a new array with 1s at specified positions and 0s elsewhere\n",
        "rest_index = [1 if i in rest_positions else 0 for i in range(size)]\n",
        "\n",
        "for i in range(size):\n",
        "  pitch = y_data[i]+y_offset_slider.value\n",
        "  pitch_offset = -3.55\n",
        "  rhythm = x_data[i]\n",
        "  accidental = accidentals[i]\n",
        "  ledger_off_low = (pitch+pitch_offset)+0.55\n",
        "  ledger_off_hi = (pitch+pitch_offset)-4.45\n",
        "\n",
        "  # ledger lines\n",
        "  L1_x, L1_y = np.linspace(rhythm+x_off+0.01, rhythm++x_off+0.11, 10), np.full((10, ), ledger_off_low)\n",
        "  L2_x, L2_y = np.linspace(rhythm+x_off+0.01, rhythm++x_off+0.11, 10), np.full((10, ), ledger_off_hi)\n",
        "\n",
        "\n",
        "  # MELODY\n",
        "  if rest_index[i] == 1:\n",
        "    plt.text((rhythm + 0.033)+x_off+0.03, pitch+pitch_offset, notes[0], fontproperties=fontprop2, color='black')\n",
        "    plt.text((rhythm - 0.025)+x_off-0.04, pitch+pitch_offset, accidental, fontproperties=fontprop1, color='black')\n",
        "  if rest_index[i] == 0:\n",
        "    plt.text((rhythm + 0.035)+x_off+0.0, pitch+pitch_offset, notes[0], fontproperties=fontprop2, color='black')\n",
        "    plt.text((rhythm - 0.025)+x_off+0.0, pitch+pitch_offset, accidental, fontproperties=fontprop1, color='black')\n",
        "# stems\n",
        "  ax.plot(np.linspace(rhythm+x_off + 0.06, rhythm+x_off + 0.06, 10), np.linspace((pitch+pitch_offset), -13.3, 10), linestyle='solid', linewidth=0.5, color='black')\n",
        "\n",
        "  if pitch < 3.0 and (pitch % 1) == 0.0:\n",
        "    for i in range(5):\n",
        "      ax.plot(L1_x, L1_y + i, linestyle='solid', linewidth=0.5, color='black')\n",
        "  elif pitch < 3.0 and (pitch % 1) != 0.0:\n",
        "    for i in range(5):\n",
        "      ax.plot(L1_x, L1_y-0.5 + i, linestyle='solid', linewidth=0.5, color='black')\n",
        "  if pitch > 8.0 and (pitch % 1) == 0.0:\n",
        "    for i in range(5):\n",
        "      ax.plot(L2_x, L2_y + i, linestyle='solid', linewidth=0.5, color='black')\n",
        "  elif pitch > 8.0 and (pitch % 1) != 0.0:\n",
        "    for i in range(5):\n",
        "      ax.plot(L2_x, L2_y+0.5 + i, linestyle='solid', linewidth=0.5, color='black')\n",
        "\n",
        "\n",
        "# plot the staff lines\n",
        "for i in range(5):\n",
        "    ax.plot(X_1, y_off + Y_1 + i, linestyle='solid', linewidth=0.5, color='black')\n",
        "\n",
        "# plot the treble clef\n",
        "plt.text(0.1, 1.1 + y_off, '&', fontproperties=fontprop1)\n",
        "\n",
        "# plot the measure lines and lower beams:\n",
        "ax.plot(X_2, Y_2, linestyle='solid', linewidth=0.5, color='black')\n",
        "ax.plot(np.linspace((x_data[0])+x_off + 0.075, (x_data[size-1])+x_off+ 0.05, 10), np.linspace(-13.1, -13.1, 10), linestyle='solid', linewidth=4, color='black')\n",
        "\n",
        "# slur w/ Bezier curve\n",
        "x_start, y_start = x_data[0], y_data[0]+y_offset_slider.value\n",
        "x_end, y_end = x_data[size-1], y_data[size-1]+y_offset_slider.value\n",
        "\n",
        "# control points for the Bezier\n",
        "control_x, control_y = (x_data[0] + x_data[size-1]) - 0.5, (y_data[0]+y_offset_slider.value) + 32\n",
        "\n",
        "# path of the Bezier\n",
        "path = mpatches.Path([(x_start+0.45, y_start-1.0),\n",
        "                      (control_x, control_y),\n",
        "                      (x_end+0.5, y_end-1.0)], [1, 3, 3], closed=False)\n",
        "\n",
        "patch = mpatches.PathPatch(path, edgecolor='black', facecolor='none', lw=0.5)\n",
        "\n",
        "ax.add_patch(patch)\n",
        "\n",
        "\n",
        "\n",
        "# phantom rhythms:\n",
        "beat_start = 3\n",
        "beat_end = 6\n",
        "\n",
        "beat = 1.235\n",
        "beats = []\n",
        "divisions = [0.0]\n",
        "tuplet_val = []\n",
        "div_val = []\n",
        "true_div_val = []\n",
        "div_start = 0\n",
        "div_end = 0\n",
        "step = 1\n",
        "total = 0\n",
        "border = 0\n",
        "\n",
        "for i in range(8):\n",
        "  beats.append(beat*i)\n",
        "  tuplet_val.append(random.choice([1, 2, 3, 4, 5]))\n",
        "\n",
        "  if i < beat_start or i > beat_end-1:\n",
        "    tuplet_val[i] = 1\n",
        "  div_val.append(1/tuplet_val[i])\n",
        "  true_div_val.append(beat*div_val[i])\n",
        "\n",
        "  for j in range(tuplet_val[i]):\n",
        "    total += true_div_val[i]\n",
        "    divisions.append(total)\n",
        "divisions = divisions[:-1]\n",
        "\n",
        "# print(\"beats: \", beats)\n",
        "# print(\"divisions: \", divisions)\n",
        "# print(\"tuplet_val: \", tuplet_val)\n",
        "# print(\"beat_start\", beat_start)\n",
        "# print(\"beat_end\", beat_end)\n",
        "# print(\"total: \", total)\n",
        "\n",
        "\n",
        "for i in range(beat_start, beat_end, step):\n",
        "  p1 = beats[i]\n",
        "  font = {'style': 'italic', 'size': 14}\n",
        "  pair = [p1, p1+(true_div_val[i]*(tuplet_val[i]-1))] #true_div_val controls the interval\n",
        "  border += tuplet_val[i]\n",
        "  border = border+1\n",
        "  div_start = 0\n",
        "  div_end = border\n",
        "\n",
        "  if tuplet_val[i] == 1:\n",
        "    pass\n",
        "  if tuplet_val[i] == 2:\n",
        "    ax.plot(np.linspace(pair[0], pair[1], 10)+phan_off, np.linspace(13.7 + y_off, 13.7 + y_off, 10), linestyle='solid', linewidth=4, color='gray')\n",
        "    ax.plot(np.linspace(divisions[div_start:div_end:], divisions[div_start:div_end:], 10)+phan_off, np.linspace(4 + y_off, 15 + y_off, 10), linestyle='solid', linewidth=0.5, color='gray')\n",
        "  elif tuplet_val[i] == 3:\n",
        "    ax.plot(np.linspace(pair[0], pair[1], 10)+phan_off, np.linspace(13.7 + y_off, 13.7 + y_off, 10), linestyle='solid', linewidth=4, color='gray')\n",
        "    ax.plot(np.linspace(divisions[div_start:div_end:], divisions[div_start:div_end:], 10)+phan_off, np.linspace(4 + y_off, 15 + y_off, 10), linestyle='solid', linewidth=0.5, color='gray')\n",
        "    ax.text(p1+0.85, 16, f'{tuplet_val[i]}', fontdict=font)\n",
        "  elif tuplet_val[i] == 4:\n",
        "    ax.plot(np.linspace(pair[0], pair[1], 10)+phan_off, np.linspace(13.7 + y_off, 13.7 + y_off, 10), linestyle='solid', linewidth=4, color='gray')\n",
        "    ax.plot(np.linspace(pair[0], pair[1], 10)+phan_off, np.linspace(12.4 + y_off, 12.4 + y_off, 10), linestyle='solid', linewidth=4, color='gray')\n",
        "    ax.plot(np.linspace(divisions[div_start:div_end:], divisions[div_start:div_end:], 10)+phan_off, np.linspace(4 + y_off, 15 + y_off, 10), linestyle='solid', linewidth=0.5, color='gray')\n",
        "  elif tuplet_val[i] == 5:\n",
        "    ax.plot(np.linspace(pair[0], pair[1], 10)+phan_off, np.linspace(13.7 + y_off, 13.7 + y_off, 10), linestyle='solid', linewidth=4, color='gray')\n",
        "    ax.plot(np.linspace(pair[0], pair[1], 10)+phan_off, np.linspace(12.4 + y_off, 12.4 + y_off, 10), linestyle='solid', linewidth=4, color='gray')\n",
        "    ax.plot(np.linspace(divisions[div_start:div_end:], divisions[div_start:div_end:], 10)+phan_off, np.linspace(4 + y_off, 15 + y_off, 10), linestyle='solid', linewidth=0.5, color='gray')\n",
        "    ax.text(p1+0.92, 16, f'{tuplet_val[i]}', fontdict=font)\n",
        "\n",
        "if beat_start < 2 and beat_end <= 3:\n",
        "  #phantom beams\n",
        "  ax.plot(np.linspace(beats[0], beats[3], 10)+phan_off, np.linspace(15 + y_off, 15 + y_off, 10), linestyle='solid', linewidth=4, color='gray')\n",
        "  ax.plot(np.linspace(beats[4], beats[7], 10)+phan_off, np.linspace(15 + y_off, 15 + y_off, 10), linestyle='solid', linewidth=4, color='gray')\n",
        "\n",
        "elif beat_start < 3 and beat_end == 8:\n",
        "  #phantom beams\n",
        "  ax.plot(np.linspace(beats[0], beats[3]+(tuplet_val[3]*true_div_val[3])-true_div_val[3], 10)+phan_off, np.linspace(15 + y_off, 15 + y_off, 10), linestyle='solid', linewidth=4, color='gray')\n",
        "  ax.plot(np.linspace(beats[4], beats[7]+(tuplet_val[7]*true_div_val[7])-true_div_val[7], 10)+phan_off, np.linspace(15 + y_off, 15 + y_off, 10), linestyle='solid', linewidth=4, color='gray')\n",
        "\n",
        "elif beat_start >= 3 and beat_end == 8:\n",
        "  #phantom beams\n",
        "  ax.plot(np.linspace(beats[0], beats[3]+(tuplet_val[3]*true_div_val[3])-true_div_val[3], 10)+phan_off, np.linspace(15 + y_off, 15 + y_off, 10), linestyle='solid', linewidth=4, color='gray')\n",
        "  ax.plot(np.linspace(beats[4], beats[7]+(tuplet_val[7]*true_div_val[7])-true_div_val[7], 10)+phan_off, np.linspace(15 + y_off, 15 + y_off, 10), linestyle='solid', linewidth=4, color='gray')\n",
        "\n",
        "elif beat_start >= 3 and beat_end < 8:\n",
        "  #phantom beams\n",
        "  ax.plot(np.linspace(beats[0], beats[3]+(tuplet_val[3]*true_div_val[3])-true_div_val[3], 10)+phan_off, np.linspace(15 + y_off, 15 + y_off, 10), linestyle='solid', linewidth=4, color='gray')\n",
        "  ax.plot(np.linspace(beats[4], beats[7], 10)+phan_off, np.linspace(15 + y_off, 15 + y_off, 10), linestyle='solid', linewidth=4, color='gray')\n",
        "\n",
        "#phantom stems on beats\n",
        "ax.plot(np.linspace(beats, beats, 10)+phan_off, np.linspace(4 + y_off, 15 + y_off, 10), linestyle='solid', linewidth=0.5, color='gray')\n",
        "\n",
        "### TIMBRE ###\n",
        "from matplotlib.colors import LinearSegmentedColormap\n",
        "\n",
        "# Generate x values\n",
        "x = np.linspace((x_data[0])+x_off + 0.075, (x_data[size-1])+x_off+ 0.05, 1000)\n",
        "# Define the parameters for the Gaussian functions\n",
        "mean1, mean2 = 5.0, 6.0\n",
        "std_dev1, std_dev2 = 1.0, 0.2\n",
        "amp1, amp2, amp3 = 0.4, 0.9, 0.5\n",
        "amp1, amp2, amp3 = 12*amp1, 12*amp2, 12*amp3\n",
        "\n",
        "# Calculate the y values using the Gaussian functions\n",
        "y1 = amp1 * np.exp(-(x - mean1)**2 / (2 * std_dev1**2))\n",
        "y2 = amp2 * np.exp(-(x - mean2)**2 / (2 * std_dev2**2))\n",
        "y3 = amp3 * np.exp(-(x - mean2)**2 / (2 * std_dev2**2))\n",
        "\n",
        "# Create the combined curve with multiple maxima\n",
        "y = y1 + y2 + y3\n",
        "y = -y\n",
        "y = y-13.1\n",
        "\n",
        "n = 10\n",
        "\n",
        "# Plot the curve\n",
        "plt.plot(x, y, color='black')\n",
        "\n",
        "# # Generate x values\n",
        "base_x = np.linspace((x_data[0])+x_off + 0.075, (x_data[size-1])+x_off+ 0.05, 1000)\n",
        "base_y = np.linspace(-13.1, -13.1, 1000)\n",
        "\n",
        "interpolations = np.linspace(0, 1, n+2)[1:-1]\n",
        "interpolated_y = [np.interp(x, base_x, base_y + t * (y - base_y)) for t in interpolations]\n",
        "\n",
        "# Plot the curve and interpolations\n",
        "plt.plot(x, y, color='black', linewidth=1)\n",
        "for i, interpolated_curve in enumerate(interpolated_y):\n",
        "    plt.plot(x, interpolated_curve, color='black', alpha=0.5, linewidth=1)\n",
        "\n",
        "# set the y-axis limits, adjust layout, and display the plot:\n",
        "warnings.filterwarnings(\"ignore\", category=UserWarning)\n",
        "\n",
        "ax.set_ylim(-35, 29)\n",
        "fig.set_tight_layout(True)\n",
        "plt.yticks([])\n",
        "plt.xticks([])\n",
        "\n",
        "# save if you want\n",
        "#filename = f'notation_{fig_num}.jpg'\n",
        "#plt.savefig(filename, format='jpg')\n",
        "#fig_num += 1\n",
        "\n",
        "plt.show()\n"
      ],
      "metadata": {
        "colab": {
          "base_uri": "https://localhost:8080/",
          "height": 285
        },
        "id": "lJEyr89rUNIV",
        "outputId": "1195836e-f7fc-4959-a216-717a2e08736a"
      },
      "execution_count": 18,
      "outputs": [
        {
          "output_type": "stream",
          "name": "stdout",
          "text": [
            ">=3 to <8\n"
          ]
        },
        {
          "output_type": "display_data",
          "data": {
            "text/plain": [
              "<Figure size 2400x600 with 1 Axes>"
            ],
            "image/png": "[encoded data removed]"
          },
          "metadata": {}
        }
      ]
    },
    {
      "cell_type": "code",
      "source": [
        "|# update the slider values\n",
        "update_slider_values(None)"
      ],
      "metadata": {
        "id": "3cntKwxOD80R",
        "colab": {
          "base_uri": "https://localhost:8080/",
          "height": 130
        },
        "outputId": "9f049ad0-8720-4792-c147-9336fa1aca3d"
      },
      "execution_count": 10,
      "outputs": [
        {
          "output_type": "error",
          "ename": "SyntaxError",
          "evalue": "ignored",
          "traceback": [
            "\u001b[0;36m  File \u001b[0;32m\"<ipython-input-10-dc50ee30a9aa>\"\u001b[0;36m, line \u001b[0;32m1\u001b[0m\n\u001b[0;31m    |# update the slider values\u001b[0m\n\u001b[0m    ^\u001b[0m\n\u001b[0;31mSyntaxError\u001b[0m\u001b[0;31m:\u001b[0m invalid syntax\n"
          ]
        }
      ]
    },
    {
      "cell_type": "markdown",
      "source": [
        "#### Check if the two datasets are of equal size by running the cell below. If they are not equal, you can generate more manually by `running before (cmd/ctrl + F8)` after setting up new slide values, or..."
      ],
      "metadata": {
        "id": "JMoR5TOHnIZy"
      }
    },
    {
      "cell_type": "code",
      "source": [
        "# warn if the slider values are not equal to train_xy values\n",
        "\n",
        "with open('train_xy.json') as file:\n",
        "    train_xy = json.load(file)\n",
        "\n",
        "x_train = train_xy['x']\n",
        "y_train = train_xy['y']\n",
        "\n",
        "with open('slider_values.json') as file:\n",
        "    slider_values = json.load(file)\n",
        "\n",
        "# Check if the sizes are equal\n",
        "if len(x_train) != len(slider_values):\n",
        "    print(\"Sizes of xy_train.json and slider_values.json are not equal.\")\n",
        "else: print(\"You're good to go!\")"
      ],
      "metadata": {
        "id": "Z7J_pBzakFZL"
      },
      "execution_count": null,
      "outputs": []
    },
    {
      "cell_type": "markdown",
      "source": [
        "#### fill with random values by uncommenting and running `after the cell (Ctrl/Cmd+F10)` below."
      ],
      "metadata": {
        "id": "g6-wPRUro_sy"
      }
    },
    {
      "cell_type": "code",
      "source": [
        "with open('train_xy.json') as file:\n",
        "    train_xy = json.load(file)\n",
        "\n",
        "x_train = train_xy['x']\n",
        "y_train = train_xy['y']\n",
        "\n",
        "with open('slider_values.json') as file:\n",
        "    slider_values_data = json.load(file)\n",
        "\n",
        "# check if the sizes are equal\n",
        "if len(x_train) != len(slider_values_data):\n",
        "    # Generate random values to fill slider_values_data\n",
        "    while len(slider_values_data) < len(x_train):\n",
        "        random_value = {\n",
        "            \"speed\": round(random.random(), 2),\n",
        "            \"size\": random.randint(1, 10),\n",
        "            \"range_low\": random.randint(0, 10),\n",
        "            \"range_hi\": random.randint(10, 20),\n",
        "            \"x_offset\": round(random.random(), 2),\n",
        "            \"y_offset\": round(random.random(), 2),\n",
        "            \"rhy_irr\": round(random.random(), 2)\n",
        "        }\n",
        "        slider_values_data.append(random_value)\n",
        "\n",
        "    with open('slider_values.json', 'w') as file:\n",
        "        json.dump(slider_values_data, file, indent=4)\n"
      ],
      "metadata": {
        "id": "3XGuleh9m5ji"
      },
      "execution_count": null,
      "outputs": []
    },
    {
      "cell_type": "markdown",
      "source": [
        "#### JSON files will be uploaded to your Google Drive (permission required)"
      ],
      "metadata": {
        "id": "tFVsv506gjMp"
      }
    },
    {
      "cell_type": "code",
      "source": [
        "# mount Google Drive\n",
        "from google.colab import drive\n",
        "drive.mount('/content/drive')"
      ],
      "metadata": {
        "id": "9HmnoMNvhcVz"
      },
      "execution_count": null,
      "outputs": []
    },
    {
      "cell_type": "code",
      "source": [
        "import shutil\n",
        "\n",
        "# path to the source file\n",
        "source_file_path_1 = '/content/train_xy.json'\n",
        "source_file_path_2 = '/content/slider_values.json'\n",
        "\n",
        "# destination directory in Google Drive\n",
        "destination_directory = '/content/drive/MyDrive'\n",
        "\n",
        "shutil.copy(source_file_path_1, destination_directory)\n",
        "shutil.copy(source_file_path_2, destination_directory)"
      ],
      "metadata": {
        "id": "3r2Q9e2ehgz-"
      },
      "execution_count": null,
      "outputs": []
    }
  ]
}