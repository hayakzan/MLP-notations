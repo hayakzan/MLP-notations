{
  "nbformat": 4,
  "nbformat_minor": 0,
  "metadata": {
    "colab": {
      "provenance": [],
      "machine_shape": "hm",
      "gpuType": "V100",
      "authorship_tag": "ABX9TyOLB7cThFDGhYpkOLOvaHqM",
      "include_colab_link": true
    },
    "kernelspec": {
      "name": "python3",
      "display_name": "Python 3"
    },
    "language_info": {
      "name": "python"
    },
    "widgets": {
      "application/vnd.jupyter.widget-state+json": {
        "f00ebfaffd1947cfb868bc60997a28e7": {
          "model_module": "@jupyter-widgets/controls",
          "model_name": "VBoxModel",
          "model_module_version": "1.5.0",
          "state": {
            "_dom_classes": [],
            "_model_module": "@jupyter-widgets/controls",
            "_model_module_version": "1.5.0",
            "_model_name": "VBoxModel",
            "_view_count": null,
            "_view_module": "@jupyter-widgets/controls",
            "_view_module_version": "1.5.0",
            "_view_name": "VBoxView",
            "box_style": "",
            "children": [
              "IPY_MODEL_4044986269344c26be55cefa7b1acbad",
              "IPY_MODEL_4c1e74b0d35a4e3ba1e2021544510181",
              "IPY_MODEL_4787009cbee2448690224845ff944a63",
              "IPY_MODEL_66e9ece3d85c435ca8423da512d708c4",
              "IPY_MODEL_2ae02ff1727d415d814350fb079411f9",
              "IPY_MODEL_60a5dd3d80224421a58ef14298ed5af2",
              "IPY_MODEL_af3deedb1ab040379f384bd9bc9fa8ba"
            ],
            "layout": "IPY_MODEL_12ef418a5ae546889e98b0406220341a"
          }
        },
        "4044986269344c26be55cefa7b1acbad": {
          "model_module": "@jupyter-widgets/controls",
          "model_name": "FloatSliderModel",
          "model_module_version": "1.5.0",
          "state": {
            "_dom_classes": [],
            "_model_module": "@jupyter-widgets/controls",
            "_model_module_version": "1.5.0",
            "_model_name": "FloatSliderModel",
            "_view_count": null,
            "_view_module": "@jupyter-widgets/controls",
            "_view_module_version": "1.5.0",
            "_view_name": "FloatSliderView",
            "continuous_update": true,
            "description": "speed:",
            "description_tooltip": null,
            "disabled": false,
            "layout": "IPY_MODEL_473028bf2cc64dd9ae7c5091205f8310",
            "max": 2,
            "min": 0.2,
            "orientation": "horizontal",
            "readout": true,
            "readout_format": ".2f",
            "step": 0.1,
            "style": "IPY_MODEL_fde1f1f1d94b4cd689cecbd469fa6c26",
            "value": 1
          }
        },
        "4c1e74b0d35a4e3ba1e2021544510181": {
          "model_module": "@jupyter-widgets/controls",
          "model_name": "IntSliderModel",
          "model_module_version": "1.5.0",
          "state": {
            "_dom_classes": [],
            "_model_module": "@jupyter-widgets/controls",
            "_model_module_version": "1.5.0",
            "_model_name": "IntSliderModel",
            "_view_count": null,
            "_view_module": "@jupyter-widgets/controls",
            "_view_module_version": "1.5.0",
            "_view_name": "IntSliderView",
            "continuous_update": true,
            "description": "size:",
            "description_tooltip": null,
            "disabled": false,
            "layout": "IPY_MODEL_473028bf2cc64dd9ae7c5091205f8310",
            "max": 12,
            "min": 2,
            "orientation": "horizontal",
            "readout": true,
            "readout_format": "d",
            "step": 1,
            "style": "IPY_MODEL_d21ca894c1714a0894af8261f36f1d17",
            "value": 8
          }
        },
        "4787009cbee2448690224845ff944a63": {
          "model_module": "@jupyter-widgets/controls",
          "model_name": "IntRangeSliderModel",
          "model_module_version": "1.5.0",
          "state": {
            "_dom_classes": [],
            "_model_module": "@jupyter-widgets/controls",
            "_model_module_version": "1.5.0",
            "_model_name": "IntRangeSliderModel",
            "_view_count": null,
            "_view_module": "@jupyter-widgets/controls",
            "_view_module_version": "1.5.0",
            "_view_name": "IntRangeSliderView",
            "continuous_update": true,
            "description": "range:",
            "description_tooltip": null,
            "disabled": false,
            "layout": "IPY_MODEL_473028bf2cc64dd9ae7c5091205f8310",
            "max": 12,
            "min": 0,
            "orientation": "horizontal",
            "readout": true,
            "readout_format": "d",
            "step": 1,
            "style": "IPY_MODEL_fce20fa269484b0094ad08fc1c25c34f",
            "value": [
              0,
              12
            ]
          }
        },
        "66e9ece3d85c435ca8423da512d708c4": {
          "model_module": "@jupyter-widgets/controls",
          "model_name": "FloatSliderModel",
          "model_module_version": "1.5.0",
          "state": {
            "_dom_classes": [],
            "_model_module": "@jupyter-widgets/controls",
            "_model_module_version": "1.5.0",
            "_model_name": "FloatSliderModel",
            "_view_count": null,
            "_view_module": "@jupyter-widgets/controls",
            "_view_module_version": "1.5.0",
            "_view_name": "FloatSliderView",
            "continuous_update": true,
            "description": "x offset:",
            "description_tooltip": null,
            "disabled": false,
            "layout": "IPY_MODEL_473028bf2cc64dd9ae7c5091205f8310",
            "max": 7,
            "min": 0.25,
            "orientation": "horizontal",
            "readout": true,
            "readout_format": ".2f",
            "step": 0.05,
            "style": "IPY_MODEL_09595e7ec47d4fd699fda4475f095682",
            "value": 0.25
          }
        },
        "2ae02ff1727d415d814350fb079411f9": {
          "model_module": "@jupyter-widgets/controls",
          "model_name": "FloatSliderModel",
          "model_module_version": "1.5.0",
          "state": {
            "_dom_classes": [],
            "_model_module": "@jupyter-widgets/controls",
            "_model_module_version": "1.5.0",
            "_model_name": "FloatSliderModel",
            "_view_count": null,
            "_view_module": "@jupyter-widgets/controls",
            "_view_module_version": "1.5.0",
            "_view_name": "FloatSliderView",
            "continuous_update": true,
            "description": "y offset:",
            "description_tooltip": null,
            "disabled": false,
            "layout": "IPY_MODEL_473028bf2cc64dd9ae7c5091205f8310",
            "max": 4,
            "min": -4,
            "orientation": "horizontal",
            "readout": true,
            "readout_format": ".2f",
            "step": 0.5,
            "style": "IPY_MODEL_758eb1622b3340dd9cba625cd91d4f4c",
            "value": 0
          }
        },
        "60a5dd3d80224421a58ef14298ed5af2": {
          "model_module": "@jupyter-widgets/controls",
          "model_name": "FloatSliderModel",
          "model_module_version": "1.5.0",
          "state": {
            "_dom_classes": [],
            "_model_module": "@jupyter-widgets/controls",
            "_model_module_version": "1.5.0",
            "_model_name": "FloatSliderModel",
            "_view_count": null,
            "_view_module": "@jupyter-widgets/controls",
            "_view_module_version": "1.5.0",
            "_view_name": "FloatSliderView",
            "continuous_update": true,
            "description": "rhythmic irregularity:",
            "description_tooltip": null,
            "disabled": false,
            "layout": "IPY_MODEL_473028bf2cc64dd9ae7c5091205f8310",
            "max": 0.5,
            "min": 0,
            "orientation": "horizontal",
            "readout": true,
            "readout_format": ".2f",
            "step": 0.01,
            "style": "IPY_MODEL_3424ec63565049f88a428f1e0ab8b8bb",
            "value": 0
          }
        },
        "af3deedb1ab040379f384bd9bc9fa8ba": {
          "model_module": "@jupyter-widgets/controls",
          "model_name": "ToggleButtonsModel",
          "model_module_version": "1.5.0",
          "state": {
            "_dom_classes": [],
            "_model_module": "@jupyter-widgets/controls",
            "_model_module_version": "1.5.0",
            "_model_name": "ToggleButtonsModel",
            "_options_labels": [
              "Mixed",
              "Upwards",
              "Downwards"
            ],
            "_view_count": null,
            "_view_module": "@jupyter-widgets/controls",
            "_view_module_version": "1.5.0",
            "_view_name": "ToggleButtonsView",
            "button_style": "info",
            "description": "directionality:",
            "description_tooltip": null,
            "disabled": false,
            "icons": [],
            "index": 0,
            "layout": "IPY_MODEL_87582db5f6644baea7e6b2491faaa228",
            "style": "IPY_MODEL_389e0e08e9a54c688bcc77bdb7b87e50",
            "tooltips": []
          }
        },
        "12ef418a5ae546889e98b0406220341a": {
          "model_module": "@jupyter-widgets/base",
          "model_name": "LayoutModel",
          "model_module_version": "1.2.0",
          "state": {
            "_model_module": "@jupyter-widgets/base",
            "_model_module_version": "1.2.0",
            "_model_name": "LayoutModel",
            "_view_count": null,
            "_view_module": "@jupyter-widgets/base",
            "_view_module_version": "1.2.0",
            "_view_name": "LayoutView",
            "align_content": null,
            "align_items": null,
            "align_self": null,
            "border": null,
            "bottom": null,
            "display": null,
            "flex": null,
            "flex_flow": null,
            "grid_area": null,
            "grid_auto_columns": null,
            "grid_auto_flow": null,
            "grid_auto_rows": null,
            "grid_column": null,
            "grid_gap": null,
            "grid_row": null,
            "grid_template_areas": null,
            "grid_template_columns": null,
            "grid_template_rows": null,
            "height": null,
            "justify_content": null,
            "justify_items": null,
            "left": null,
            "margin": null,
            "max_height": null,
            "max_width": null,
            "min_height": null,
            "min_width": null,
            "object_fit": null,
            "object_position": null,
            "order": null,
            "overflow": null,
            "overflow_x": null,
            "overflow_y": null,
            "padding": null,
            "right": null,
            "top": null,
            "visibility": null,
            "width": null
          }
        },
        "473028bf2cc64dd9ae7c5091205f8310": {
          "model_module": "@jupyter-widgets/base",
          "model_name": "LayoutModel",
          "model_module_version": "1.2.0",
          "state": {
            "_model_module": "@jupyter-widgets/base",
            "_model_module_version": "1.2.0",
            "_model_name": "LayoutModel",
            "_view_count": null,
            "_view_module": "@jupyter-widgets/base",
            "_view_module_version": "1.2.0",
            "_view_name": "LayoutView",
            "align_content": null,
            "align_items": null,
            "align_self": null,
            "border": null,
            "bottom": null,
            "display": null,
            "flex": null,
            "flex_flow": null,
            "grid_area": null,
            "grid_auto_columns": null,
            "grid_auto_flow": null,
            "grid_auto_rows": null,
            "grid_column": null,
            "grid_gap": null,
            "grid_row": null,
            "grid_template_areas": null,
            "grid_template_columns": null,
            "grid_template_rows": null,
            "height": null,
            "justify_content": null,
            "justify_items": null,
            "left": null,
            "margin": "0 0 10px 0",
            "max_height": null,
            "max_width": null,
            "min_height": null,
            "min_width": null,
            "object_fit": null,
            "object_position": null,
            "order": null,
            "overflow": null,
            "overflow_x": null,
            "overflow_y": null,
            "padding": null,
            "right": null,
            "top": null,
            "visibility": null,
            "width": "40%"
          }
        },
        "fde1f1f1d94b4cd689cecbd469fa6c26": {
          "model_module": "@jupyter-widgets/controls",
          "model_name": "SliderStyleModel",
          "model_module_version": "1.5.0",
          "state": {
            "_model_module": "@jupyter-widgets/controls",
            "_model_module_version": "1.5.0",
            "_model_name": "SliderStyleModel",
            "_view_count": null,
            "_view_module": "@jupyter-widgets/base",
            "_view_module_version": "1.2.0",
            "_view_name": "StyleView",
            "description_width": "150px",
            "handle_color": null
          }
        },
        "d21ca894c1714a0894af8261f36f1d17": {
          "model_module": "@jupyter-widgets/controls",
          "model_name": "SliderStyleModel",
          "model_module_version": "1.5.0",
          "state": {
            "_model_module": "@jupyter-widgets/controls",
            "_model_module_version": "1.5.0",
            "_model_name": "SliderStyleModel",
            "_view_count": null,
            "_view_module": "@jupyter-widgets/base",
            "_view_module_version": "1.2.0",
            "_view_name": "StyleView",
            "description_width": "150px",
            "handle_color": null
          }
        },
        "fce20fa269484b0094ad08fc1c25c34f": {
          "model_module": "@jupyter-widgets/controls",
          "model_name": "SliderStyleModel",
          "model_module_version": "1.5.0",
          "state": {
            "_model_module": "@jupyter-widgets/controls",
            "_model_module_version": "1.5.0",
            "_model_name": "SliderStyleModel",
            "_view_count": null,
            "_view_module": "@jupyter-widgets/base",
            "_view_module_version": "1.2.0",
            "_view_name": "StyleView",
            "description_width": "150px",
            "handle_color": null
          }
        },
        "09595e7ec47d4fd699fda4475f095682": {
          "model_module": "@jupyter-widgets/controls",
          "model_name": "SliderStyleModel",
          "model_module_version": "1.5.0",
          "state": {
            "_model_module": "@jupyter-widgets/controls",
            "_model_module_version": "1.5.0",
            "_model_name": "SliderStyleModel",
            "_view_count": null,
            "_view_module": "@jupyter-widgets/base",
            "_view_module_version": "1.2.0",
            "_view_name": "StyleView",
            "description_width": "150px",
            "handle_color": null
          }
        },
        "758eb1622b3340dd9cba625cd91d4f4c": {
          "model_module": "@jupyter-widgets/controls",
          "model_name": "SliderStyleModel",
          "model_module_version": "1.5.0",
          "state": {
            "_model_module": "@jupyter-widgets/controls",
            "_model_module_version": "1.5.0",
            "_model_name": "SliderStyleModel",
            "_view_count": null,
            "_view_module": "@jupyter-widgets/base",
            "_view_module_version": "1.2.0",
            "_view_name": "StyleView",
            "description_width": "150px",
            "handle_color": null
          }
        },
        "3424ec63565049f88a428f1e0ab8b8bb": {
          "model_module": "@jupyter-widgets/controls",
          "model_name": "SliderStyleModel",
          "model_module_version": "1.5.0",
          "state": {
            "_model_module": "@jupyter-widgets/controls",
            "_model_module_version": "1.5.0",
            "_model_name": "SliderStyleModel",
            "_view_count": null,
            "_view_module": "@jupyter-widgets/base",
            "_view_module_version": "1.2.0",
            "_view_name": "StyleView",
            "description_width": "150px",
            "handle_color": null
          }
        },
        "87582db5f6644baea7e6b2491faaa228": {
          "model_module": "@jupyter-widgets/base",
          "model_name": "LayoutModel",
          "model_module_version": "1.2.0",
          "state": {
            "_model_module": "@jupyter-widgets/base",
            "_model_module_version": "1.2.0",
            "_model_name": "LayoutModel",
            "_view_count": null,
            "_view_module": "@jupyter-widgets/base",
            "_view_module_version": "1.2.0",
            "_view_name": "LayoutView",
            "align_content": null,
            "align_items": null,
            "align_self": null,
            "border": null,
            "bottom": null,
            "display": null,
            "flex": null,
            "flex_flow": null,
            "grid_area": null,
            "grid_auto_columns": null,
            "grid_auto_flow": null,
            "grid_auto_rows": null,
            "grid_column": null,
            "grid_gap": null,
            "grid_row": null,
            "grid_template_areas": null,
            "grid_template_columns": null,
            "grid_template_rows": null,
            "height": null,
            "justify_content": null,
            "justify_items": null,
            "left": null,
            "margin": null,
            "max_height": null,
            "max_width": null,
            "min_height": null,
            "min_width": null,
            "object_fit": null,
            "object_position": null,
            "order": null,
            "overflow": null,
            "overflow_x": null,
            "overflow_y": null,
            "padding": null,
            "right": null,
            "top": null,
            "visibility": null,
            "width": null
          }
        },
        "389e0e08e9a54c688bcc77bdb7b87e50": {
          "model_module": "@jupyter-widgets/controls",
          "model_name": "ToggleButtonsStyleModel",
          "model_module_version": "1.5.0",
          "state": {
            "_model_module": "@jupyter-widgets/controls",
            "_model_module_version": "1.5.0",
            "_model_name": "ToggleButtonsStyleModel",
            "_view_count": null,
            "_view_module": "@jupyter-widgets/base",
            "_view_module_version": "1.2.0",
            "_view_name": "StyleView",
            "button_width": "",
            "description_width": "",
            "font_weight": ""
          }
        }
      }
    }
  },
  "cells": [
    {
      "cell_type": "markdown",
      "metadata": {
        "id": "view-in-github",
        "colab_type": "text"
      },
      "source": [
        "<a href=\"https://colab.research.google.com/github/hayakzan/MLP-notations/blob/main/MLP_notations_GENERATING_DATA.ipynb\" target=\"_parent\"><img src=\"https://colab.research.google.com/assets/colab-badge.svg\" alt=\"Open In Colab\"/></a>"
      ]
    },
    {
      "cell_type": "code",
      "execution_count": 91,
      "metadata": {
        "id": "AYycwWhBOXcG"
      },
      "outputs": [],
      "source": [
        "# -*- coding: utf-8 -*-\n",
        "\n",
        "# dependencies\n",
        "from __future__ import division\n",
        "import numpy as np\n",
        "import matplotlib\n",
        "import matplotlib.pyplot as plt\n",
        "import matplotlib.font_manager as fm\n",
        "import random\n",
        "from matplotlib.lines import Line2D\n",
        "from scipy import interpolate\n",
        "import csv\n",
        "import pandas as pd\n",
        "import json \n"
      ]
    },
    {
      "cell_type": "markdown",
      "source": [
        "#### - Upload the notation fonts `1_OpusStd.ttf` and `2_OpusSpecialStd.ttf` into `/content` folder\n",
        "#### - Upload `train_xy.json` into `/content` folder \n"
      ],
      "metadata": {
        "id": "JS_No0vWF6ic"
      }
    },
    {
      "cell_type": "code",
      "source": [
        "global fig_num\n",
        "fig_num = 1\n",
        "\n",
        "font_dirs = [\"/content\"]\n",
        "font_files = fm.findSystemFonts(fontpaths=font_dirs)\n",
        "\n",
        "fontprop1 = fm.FontProperties(fname=font_files[0], size=25)\n",
        "fontprop2 = fm.FontProperties(fname=font_files[1], size=24)\n"
      ],
      "metadata": {
        "id": "gldXCx8lPD8K"
      },
      "execution_count": 92,
      "outputs": []
    },
    {
      "cell_type": "markdown",
      "source": [
        "### Create a JSON file for the parameters"
      ],
      "metadata": {
        "id": "WlVuW2vnH_QX"
      }
    },
    {
      "cell_type": "code",
      "source": [
        "# Create a list to store the slider values\n",
        "slider_values_list = []\n",
        "\n",
        "# Function to update the slider values\n",
        "def update_slider_values(change):\n",
        "    # Create a dictionary to store the slider values\n",
        "    slider_values = {\n",
        "        \"speed\": speed_slider.value,\n",
        "        \"size\": size_slider.value,\n",
        "        \"range_low\": range_slider.value[0],\n",
        "        \"range_hi\": range_slider.value[1],\n",
        "        \"x_offset\": x_offset_slider.value,\n",
        "        \"y_offset\": y_offset_slider.value,\n",
        "        \"rhy_irr\": irregularity_slider.value\n",
        "    }\n",
        "\n",
        "    # Append the slider values to the list\n",
        "    slider_values_list.append(slider_values)\n",
        "\n",
        "    # Write the updated data to the file\n",
        "    with open(\"slider_values.json\", \"w\") as file:\n",
        "        json.dump(slider_values_list, file, indent=4)\n"
      ],
      "metadata": {
        "id": "nlvJrvG5H3l9"
      },
      "execution_count": 93,
      "outputs": []
    },
    {
      "cell_type": "markdown",
      "source": [
        "### Use the sliders to set up notational parameters\n"
      ],
      "metadata": {
        "id": "nqn0WAfSGQ5S"
      }
    },
    {
      "cell_type": "code",
      "source": [
        "import ipywidgets as widgets\n",
        "from IPython.display import display\n",
        "\n",
        "layout = widgets.Layout(margin='0 0 10px 0', width='40%')\n",
        "\n",
        "# Create a slider widget\n",
        "speed_slider = widgets.FloatSlider(value=1.0, min=0.2, max=2.0, step=0.1, description='speed:', style={'description_width': '150px'}, layout=layout)\n",
        "size_slider = widgets.IntSlider(value=8, min=2, max=12, step=1, description='size:', style={'description_width': '150px'}, layout=layout)\n",
        "range_slider = widgets.IntRangeSlider(value=[0, 12], min=0, max=12, step=1, description='range:', style={'description_width': '150px'}, layout=layout)\n",
        "x_offset_slider = widgets.FloatSlider(value=0.25, min=0.25, max=7.0, step=0.05, description='x offset:', style={'description_width': '150px'}, layout=layout)\n",
        "y_offset_slider = widgets.FloatSlider(value=0.0, min=-4.0, max=4.0, step=0.5, description='y offset:', style={'description_width': '150px'}, layout=layout)\n",
        "irregularity_slider = widgets.FloatSlider(value=0.0, min=0.0, max=0.5, step=0.01, description='rhythmic irregularity:', style={'description_width': '150px'}, layout=layout)\n",
        "direction_box = widgets.ToggleButtons(options=['Mixed', 'Upwards', 'Downwards'], description='directionality:', disabled=False, button_style='info')\n",
        "#poly_box = widgets.Checkbox(value=False, description='toggle polyphony', disabled=False, indent=True, layout=layout)\n",
        "\n",
        "slider_box = widgets.VBox([speed_slider, size_slider, range_slider, x_offset_slider, y_offset_slider, irregularity_slider, direction_box])\n",
        "\n",
        "# Display the slider widget\n",
        "display(slider_box)\n"
      ],
      "metadata": {
        "colab": {
          "base_uri": "https://localhost:8080/",
          "height": 278,
          "referenced_widgets": [
            "f00ebfaffd1947cfb868bc60997a28e7",
            "4044986269344c26be55cefa7b1acbad",
            "4c1e74b0d35a4e3ba1e2021544510181",
            "4787009cbee2448690224845ff944a63",
            "66e9ece3d85c435ca8423da512d708c4",
            "2ae02ff1727d415d814350fb079411f9",
            "60a5dd3d80224421a58ef14298ed5af2",
            "af3deedb1ab040379f384bd9bc9fa8ba",
            "12ef418a5ae546889e98b0406220341a",
            "473028bf2cc64dd9ae7c5091205f8310",
            "fde1f1f1d94b4cd689cecbd469fa6c26",
            "d21ca894c1714a0894af8261f36f1d17",
            "fce20fa269484b0094ad08fc1c25c34f",
            "09595e7ec47d4fd699fda4475f095682",
            "758eb1622b3340dd9cba625cd91d4f4c",
            "3424ec63565049f88a428f1e0ab8b8bb",
            "87582db5f6644baea7e6b2491faaa228",
            "389e0e08e9a54c688bcc77bdb7b87e50"
          ]
        },
        "id": "WgES_KJ6Dko3",
        "outputId": "67674ce4-7cc6-4c2b-ed08-50851ab3f31f"
      },
      "execution_count": 94,
      "outputs": [
        {
          "output_type": "display_data",
          "data": {
            "text/plain": [
              "VBox(children=(FloatSlider(value=1.0, description='speed:', layout=Layout(margin='0 0 10px 0', width='40%'), m…"
            ],
            "application/vnd.jupyter.widget-view+json": {
              "version_major": 2,
              "version_minor": 0,
              "model_id": "f00ebfaffd1947cfb868bc60997a28e7"
            }
          },
          "metadata": {}
        }
      ]
    },
    {
      "cell_type": "markdown",
      "source": [
        "### After the initial run, run after here (`Cmd/Ctrl+F10`) after each new slider setting (no need to re-run the slider cell). This will add new data into `slider_values.json`"
      ],
      "metadata": {
        "id": "w4uf2J_BfyoM"
      }
    },
    {
      "cell_type": "code",
      "source": [
        "# constants & variables\n",
        "seed_value = 123\n",
        "np.random.seed(seed_value)\n",
        "\n",
        "phan_off = 0.25\n",
        "x_off = x_offset_slider.value\n",
        "y_off = 0.0\n",
        "\n",
        "# staff lines\n",
        "X_1, Y_1 = np.linspace(0.06, 10.345, 10), np.zeros(10) \n",
        "# measure lines\n",
        "X_2, Y_2 = np.linspace(0.06, 0.06, 10), np.linspace(4, 0, 10)\n",
        "# phantoms\n",
        "phantoms = [1, 2, 2.5, 3, 4, 5, 6, 7, 8]\n",
        "\n",
        "# notes:\n",
        "noteheads = ['f']\n",
        "notes = []\n",
        "notes.append(noteheads[0])\n",
        "# arrays for data:\n",
        "rhy_map = []\n",
        "pi_map = []\n",
        "\n"
      ],
      "metadata": {
        "id": "UbL48mDdPuds"
      },
      "execution_count": 106,
      "outputs": []
    },
    {
      "cell_type": "code",
      "source": [
        "# dicts\n",
        "pitch_dict = {'E3': 0.0, 'F3': 0.5, 'G3': 1.0, 'A3': 1.5, 'B3': 2.0, 'C4': 2.5, 'D4': 3.0, 'E4': 3.5, 'F4': 4.0, 'G4': 4.5, 'A4': 5.0, 'B4': 5.5, 'C5': 6.0, 'D5': 6.5, 'E5': 7.0, 'F5': 7.5, 'G5': 8.0, 'A5': 8.5, 'B5': 9.0, 'C6': 9.5, 'D6': 10.0, 'E6': 10.5, 'F6': 11.0, 'G6': 11.5, 'A6': 12.0}\n",
        "# oct_dict = {0: 0, 12: 3.5, 24: 7, 36: 10.5}\n",
        "pha_dict = {1: phan_off, 2: 1.235 + phan_off, 2.5: (1.235 + 0.6175) + phan_off, 3: (1.235 * 2) + phan_off, 4: (1.235 * 3) + phan_off, 5: (1.235 * 4) + phan_off, 6: (1.235 * 5) + phan_off, 7: (1.235 * 6) + phan_off, 8: (1.235 * 7) + phan_off}\n"
      ],
      "metadata": {
        "id": "SeHNUVynRa-8"
      },
      "execution_count": 107,
      "outputs": []
    },
    {
      "cell_type": "code",
      "source": [
        "def paramMapping(pos, maptype, mini, maxi, rnd):\n",
        "    min_pos = min(pos)\n",
        "    max_pos = max(pos)\n",
        "    if min_pos == max_pos:\n",
        "        # Handle case when all input values are the same\n",
        "        mapped_value = round((mini + maxi) / 2, rnd)\n",
        "        maptype.extend([mapped_value] * len(pos))\n",
        "    else:\n",
        "        for i in range(size):\n",
        "            mapped_value = round((maxi - mini) * ((pos[i] - min_pos) / (max_pos - min_pos)) + mini, rnd)\n",
        "            maptype.append(mapped_value)\n"
      ],
      "metadata": {
        "id": "skQWuOksRj0-"
      },
      "execution_count": 108,
      "outputs": []
    },
    {
      "cell_type": "code",
      "source": [
        "## input etc. TODO: dataset input option\n",
        "\n",
        "size = size_slider.value\n",
        "\n",
        "#raw_data = pd.read_csv(\"/content/src/pix.csv\", converters={\"0\": int})\n",
        "#chars = raw_data[\"0\"].values.tolist()\n",
        "\n",
        "# Generate random values\n",
        "range_slider_min = range_slider.value[0]\n",
        "range_slider_max = range_slider.value[1]\n",
        "raw_data = np.random.randint(low=range_slider_min, high=range_slider_max, size=size)\n"
      ],
      "metadata": {
        "id": "N3IfFu7uRoME"
      },
      "execution_count": 109,
      "outputs": []
    },
    {
      "cell_type": "code",
      "source": [
        "## Speed / rhythmic irregularity / textural direction\n",
        "\n",
        "speed = speed_slider.value\n",
        "mean = 0  \n",
        "std_dev = irregularity_slider.value \n",
        "\n",
        "x_data = list(range(size))\n",
        "# Add randomness \n",
        "x_data = [x + np.random.normal(mean, std_dev) for x in x_data]\n",
        "x_data = [i*speed for i in x_data] \n",
        "\n",
        "y_data = raw_data\n",
        "\n",
        "if direction_box.value == 'Mixed':\n",
        "  pass\n",
        "elif direction_box.value == 'Upwards':\n",
        "  y_data = sorted(raw_data)\n",
        "elif direction_box.value == 'Downwards':\n",
        "  y_data = sorted(raw_data, reverse=True)\n",
        "else:\n",
        "    pass\n",
        "\n",
        "\n",
        "print(\"x_data: \", x_data)\n",
        "print(\"y_data: \", y_data)"
      ],
      "metadata": {
        "id": "fHkFXo5dR9P2",
        "colab": {
          "base_uri": "https://localhost:8080/"
        },
        "outputId": "3860ce13-7977-4b3c-ead6-5d944349098b"
      },
      "execution_count": 110,
      "outputs": [
        {
          "output_type": "stream",
          "name": "stdout",
          "text": [
            "x_data:  [0.0, 1.0, 2.0, 3.0, 4.0, 5.0, 6.0, 7.0]\n",
            "y_data:  [ 2  2  6  1  3 10 11  9]\n"
          ]
        }
      ]
    },
    {
      "cell_type": "code",
      "source": [
        "# perform mapping\n",
        "# paramMapping(x_pos, rhy_map, 0.15, 1.85, 2)\n",
        "# paramMapping(y_pos, pi_map, 68.0, 70.0, 0)\n",
        "phan = [pha_dict[i] for i in phantoms] #do we need a dictionary for phantoms?\n",
        "# pitches = [pitch_dict[i] for i in y_data] \n",
        "pitches = y_data\n",
        "\n",
        "print(\"pitches: \", pitches)\n",
        "print(\"rhythms: \", x_data)"
      ],
      "metadata": {
        "colab": {
          "base_uri": "https://localhost:8080/"
        },
        "id": "wm2tom9NULcl",
        "outputId": "db849122-aa74-4558-9966-89ec12a1c06a"
      },
      "execution_count": 111,
      "outputs": [
        {
          "output_type": "stream",
          "name": "stdout",
          "text": [
            "pitches:  [ 2  2  6  1  3 10 11  9]\n",
            "rhythms:  [0.0, 1.0, 2.0, 3.0, 4.0, 5.0, 6.0, 7.0]\n"
          ]
        }
      ]
    },
    {
      "cell_type": "markdown",
      "source": [
        "### Generate the notation"
      ],
      "metadata": {
        "id": "MrjlAafGpexl"
      }
    },
    {
      "cell_type": "code",
      "source": [
        "# create the figure and subplot:\n",
        "fig = plt.figure(figsize=(24, 6))\n",
        "ax = plt.subplot(1, 1, 1)\n",
        "\n",
        "# customize the subplot spines\n",
        "ax.spines['top'].set_visible(False)\n",
        "ax.spines['bottom'].set_visible(False)\n",
        "ax.spines['left'].set_visible(False)\n",
        "ax.spines['right'].set_visible(False)\n",
        "\n",
        "\n",
        "# plot the noteheads and stems:\n",
        "for i in range(size):\n",
        "    pitch = pitches[i]+y_offset_slider.value\n",
        "    rhythm = x_data[i]\n",
        "    oct_add = 0\n",
        "    pitch_offset = -3.55\n",
        "    ledger_off_low = (pitch+pitch_offset)+0.55\n",
        "    ledger_off_hi = (pitch+pitch_offset)-4.45\n",
        "\n",
        "    # ledger lines\n",
        "    L1_x, L1_y = np.linspace(rhythm+x_off+0.01, rhythm++x_off+0.11, 10), np.full((10, ), ledger_off_low)\n",
        "    L2_x, L2_y = np.linspace(rhythm+x_off+0.01, rhythm++x_off+0.11, 10), np.full((10, ), ledger_off_hi)\n",
        "\n",
        "    if pitch < 3.0 and (pitch % 1) == 0.0:\n",
        "      for i in range(5):\n",
        "        ax.plot(L1_x, L1_y + i, linestyle='solid', linewidth=0.5, color='black')\n",
        "    elif pitch < 3.0 and (pitch % 1) != 0.0:\n",
        "      for i in range(5):\n",
        "        ax.plot(L1_x, L1_y-0.5 + i, linestyle='solid', linewidth=0.5, color='black')\n",
        "\n",
        "    if pitch > 8.0 and (pitch % 1) == 0.0:\n",
        "      for i in range(5):\n",
        "        ax.plot(L2_x, L2_y + i, linestyle='solid', linewidth=0.5, color='black')\n",
        "    elif pitch > 8.0 and (pitch % 1) != 0.0:\n",
        "      for i in range(5):\n",
        "        ax.plot(L2_x, L2_y+0.5 + i, linestyle='solid', linewidth=0.5, color='black')\n",
        "\n",
        "    plt.text((rhythm + 0.035)+x_off, pitch+pitch_offset + oct_add, notes[0], fontproperties=fontprop2, color='black')\n",
        "    ax.plot(np.linspace(rhythm+x_off + 0.06, rhythm+x_off + 0.06, 10), np.linspace((pitch+pitch_offset + oct_add), -13.3, 10), linestyle='solid', linewidth=0.5, color='black')\n",
        "\n",
        "# plot the staff lines\n",
        "for i in range(5):\n",
        "    ax.plot(X_1, y_off + Y_1 + i, linestyle='solid', linewidth=0.5, color='black')\n",
        "\n",
        "# plot the treble clef\n",
        "plt.text(0.1, 1.1 + y_off, '&', fontproperties=fontprop1)\n",
        "\n",
        "# plot the measure lines and lower beams:\n",
        "ax.plot(X_2, Y_2, linestyle='solid', linewidth=0.5, color='black')\n",
        "ax.plot(np.linspace((x_data[0])+x_off + 0.075, (x_data[size-1])+x_off+ 0.05, 10), np.linspace(-13.1, -13.1, 10), linestyle='solid', linewidth=4, color='black')\n",
        "\n",
        "\n",
        "# phantom rhythms:\n",
        "for i in range(2):\n",
        "    ax.plot(np.linspace(phan[i] + 0.06, phan[i] + 0.06, 10), np.linspace(4 + y_off, 15 + y_off, 10), linestyle='solid', linewidth=0.5, color='gray')\n",
        "for i in range(1):\n",
        "    ax.plot(np.linspace(phan[i + 2] + 0.06, phan[i + 2] + 0.06, 10), np.linspace(4 + y_off, 15 + y_off, 10), linestyle='solid', linewidth=0.5, color='gray')\n",
        "for i in range(2):\n",
        "    ax.plot(np.linspace(phan[i + 3] + 0.06, phan[i + 3] + 0.06, 10), np.linspace(4 + y_off, 15 + y_off, 10), linestyle='solid', linewidth=0.5, color='gray')\n",
        "for i in range(1):\n",
        "    ax.plot(np.linspace(phan[i + 5] + 0.06, phan[i + 5] + 0.06, 10), np.linspace(4 + y_off, 15 + y_off, 10), linestyle='solid', linewidth=0.5, color='gray')\n",
        "for i in range(1):\n",
        "    ax.plot(np.linspace(phan[i + 6] + 0.06, phan[i + 6] + 0.06, 10), np.linspace(4 + y_off, 15 + y_off, 10), linestyle='solid', linewidth=0.5, color='gray')\n",
        "for i in range(2):\n",
        "    ax.plot(np.linspace(phan[i + 7] + 0.06, phan[i + 7] + 0.06, 10), np.linspace(4 + y_off, 15 + y_off, 10), linestyle='solid', linewidth=0.5, color='gray')\n",
        "\n",
        "ax.plot(np.linspace((phan[0]) + 0.075, (phan[4]) + 0.045, 10), np.linspace(15 + y_off, 15 + y_off, 10), linestyle='solid', linewidth=4, color='gray')\n",
        "ax.plot(np.linspace((phan[1]) + 0.075, (phan[2]) + 0.045, 10), np.linspace(14 + y_off, 14 + y_off, 10), linestyle='solid', linewidth=4, color='gray')\n",
        "ax.plot(np.linspace((phan[5]) + 0.075, (phan[8]) + 0.04, 10), np.linspace(15 + y_off, 15 + y_off, 10), linestyle='solid', linewidth=4, color='gray')\n",
        "\n",
        "# set the y-axis limits, adjust layout, and display the plot:\n",
        "\n",
        "# different font family for matplotlib\n",
        "plt.rcParams['font.family'] = 'DejaVu Sans'\n",
        "\n",
        "ax.set_ylim(-35, 29)\n",
        "fig.set_tight_layout(True)\n",
        "plt.yticks([])\n",
        "plt.xticks([])\n",
        "\n",
        "# save if you want\n",
        "filename = f'notation_{fig_num}.jpg'\n",
        "plt.savefig(filename, format='jpg')\n",
        "fig_num += 1\n",
        "\n",
        "plt.show()\n"
      ],
      "metadata": {
        "colab": {
          "base_uri": "https://localhost:8080/",
          "height": 431
        },
        "id": "lJEyr89rUNIV",
        "outputId": "10cb69a8-ff92-4fed-bcd1-b9a6cf1a75e3"
      },
      "execution_count": 112,
      "outputs": [
        {
          "output_type": "stream",
          "name": "stderr",
          "text": [
            "<ipython-input-112-4a81c6bedcaf>:84: UserWarning: Glyph 108 (l) missing from current font.\n",
            "  plt.savefig(filename, format='jpg')\n",
            "<ipython-input-112-4a81c6bedcaf>:84: UserWarning: Glyph 112 (p) missing from current font.\n",
            "  plt.savefig(filename, format='jpg')\n",
            "/usr/local/lib/python3.10/dist-packages/IPython/core/pylabtools.py:151: UserWarning: Glyph 108 (l) missing from current font.\n",
            "  fig.canvas.print_figure(bytes_io, **kw)\n",
            "/usr/local/lib/python3.10/dist-packages/IPython/core/pylabtools.py:151: UserWarning: Glyph 112 (p) missing from current font.\n",
            "  fig.canvas.print_figure(bytes_io, **kw)\n"
          ]
        },
        {
          "output_type": "display_data",
          "data": {
            "text/plain": [
              "<Figure size 2400x600 with 1 Axes>"
            ],
            "image/png": "[encoded data removed]"
          },
          "metadata": {}
        }
      ]
    },
    {
      "cell_type": "code",
      "source": [
        "# update the slider values\n",
        "update_slider_values(None)"
      ],
      "metadata": {
        "id": "3cntKwxOD80R"
      },
      "execution_count": 113,
      "outputs": []
    },
    {
      "cell_type": "markdown",
      "source": [
        "### Check if the two datasets are of equal size. If not, you can generate more manually or..."
      ],
      "metadata": {
        "id": "JMoR5TOHnIZy"
      }
    },
    {
      "cell_type": "code",
      "source": [
        "# warn if the slider values are not equal to train_xy values\n",
        "\n",
        "with open('train_xy.json') as file:\n",
        "    train_xy = json.load(file)\n",
        "\n",
        "x_train = train_xy['x']\n",
        "y_train = train_xy['y']\n",
        "\n",
        "with open('slider_values.json') as file:\n",
        "    slider_values = json.load(file)\n",
        "\n",
        "# Check if the sizes are equal\n",
        "if len(x_train) != len(slider_values):\n",
        "    print(\"Warning: Sizes of xy_train.json and slider_values.json are not equal.\")\n",
        "else: print(\"You're good to go!\")"
      ],
      "metadata": {
        "colab": {
          "base_uri": "https://localhost:8080/"
        },
        "id": "Z7J_pBzakFZL",
        "outputId": "bdccb8ae-e35c-4ec6-83cc-614232828b0f"
      },
      "execution_count": 121,
      "outputs": [
        {
          "output_type": "stream",
          "name": "stdout",
          "text": [
            "You're good to go!\n"
          ]
        }
      ]
    },
    {
      "cell_type": "markdown",
      "source": [
        "### fill with random values by uncommenting and running the cell below."
      ],
      "metadata": {
        "id": "g6-wPRUro_sy"
      }
    },
    {
      "cell_type": "code",
      "source": [
        "# import json\n",
        "# import random\n",
        "\n",
        "# # Read the xy_train.json file\n",
        "# with open('train_xy.json') as file:\n",
        "#     train_xy = json.load(file)\n",
        "\n",
        "# x_train = train_xy['x']\n",
        "# y_train = train_xy['y']\n",
        "\n",
        "# # Read the slider_values.json file\n",
        "# with open('slider_values.json') as file:\n",
        "#     slider_values_data = json.load(file)\n",
        "\n",
        "# # Check if the sizes are equal\n",
        "# if len(x_train) != len(slider_values_data):\n",
        "#     # Generate random values to fill slider_values_data\n",
        "#     while len(slider_values_data) < len(x_train):\n",
        "#         random_value = {\n",
        "#             \"speed\": random.random(),\n",
        "#             \"size\": random.randint(1, 10),\n",
        "#             \"range_low\": random.randint(0, 10),\n",
        "#             \"range_hi\": random.randint(10, 20),\n",
        "#             \"x_offset\": random.random(),\n",
        "#             \"y_offset\": random.random(),\n",
        "#             \"rhy_irr\": random.random()\n",
        "#         }\n",
        "#         slider_values_data.append(random_value)\n",
        "\n",
        "#         # Save the updated slider_values.json file\n",
        "#         with open('slider_values.json', 'w') as file:\n",
        "#             json.dump(slider_values_data, file, indent=4)\n"
      ],
      "metadata": {
        "id": "3XGuleh9m5ji"
      },
      "execution_count": 119,
      "outputs": []
    },
    {
      "cell_type": "markdown",
      "source": [
        "### JSON files will be uploaded to your Google Drive (permission required)"
      ],
      "metadata": {
        "id": "tFVsv506gjMp"
      }
    },
    {
      "cell_type": "code",
      "source": [
        "# mount Google Drive\n",
        "from google.colab import drive\n",
        "drive.mount('/content/drive')"
      ],
      "metadata": {
        "colab": {
          "base_uri": "https://localhost:8080/"
        },
        "id": "9HmnoMNvhcVz",
        "outputId": "b226cf41-6886-4a80-8855-0f1fa738c7dc"
      },
      "execution_count": 114,
      "outputs": [
        {
          "output_type": "stream",
          "name": "stdout",
          "text": [
            "Drive already mounted at /content/drive; to attempt to forcibly remount, call drive.mount(\"/content/drive\", force_remount=True).\n"
          ]
        }
      ]
    },
    {
      "cell_type": "code",
      "source": [
        "import shutil\n",
        "\n",
        "# path to the source file\n",
        "source_file_path_1 = '/content/train_xy.json'\n",
        "source_file_path_2 = '/content/slider_values.json'\n",
        "\n",
        "# destination directory in Google Drive\n",
        "destination_directory = '/content/drive/MyDrive'\n",
        "\n",
        "shutil.copy(source_file_path_1, destination_directory)\n",
        "shutil.copy(source_file_path_2, destination_directory)"
      ],
      "metadata": {
        "colab": {
          "base_uri": "https://localhost:8080/",
          "height": 35
        },
        "id": "3r2Q9e2ehgz-",
        "outputId": "a9d387d7-edce-4319-f601-573673179d08"
      },
      "execution_count": 122,
      "outputs": [
        {
          "output_type": "execute_result",
          "data": {
            "text/plain": [
              "'/content/drive/MyDrive/slider_values.json'"
            ],
            "application/vnd.google.colaboratory.intrinsic+json": {
              "type": "string"
            }
          },
          "metadata": {},
          "execution_count": 122
        }
      ]
    },
    {
      "cell_type": "code",
      "source": [],
      "metadata": {
        "id": "s-CmUi_SpcWl"
      },
      "execution_count": null,
      "outputs": []
    }
  ]
}