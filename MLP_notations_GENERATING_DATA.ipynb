{
  "nbformat": 4,
  "nbformat_minor": 0,
  "metadata": {
    "colab": {
      "provenance": [],
      "machine_shape": "hm",
      "gpuType": "V100",
      "include_colab_link": true
    },
    "kernelspec": {
      "name": "python3",
      "display_name": "Python 3"
    },
    "language_info": {
      "name": "python"
    },
    "widgets": {
      "application/vnd.jupyter.widget-state+json": {
        "167d878d9beb4065b8e699454ff93a30": {
          "model_module": "@jupyter-widgets/controls",
          "model_name": "VBoxModel",
          "model_module_version": "1.5.0",
          "state": {
            "_dom_classes": [],
            "_model_module": "@jupyter-widgets/controls",
            "_model_module_version": "1.5.0",
            "_model_name": "VBoxModel",
            "_view_count": null,
            "_view_module": "@jupyter-widgets/controls",
            "_view_module_version": "1.5.0",
            "_view_name": "VBoxView",
            "box_style": "",
            "children": [
              "IPY_MODEL_41842293567b484da7b17fc026157057",
              "IPY_MODEL_b1e54b321a8944439452783bbf542233",
              "IPY_MODEL_6aeb04147ebf423eac4ee067b9c1ffc5",
              "IPY_MODEL_9e4fe12ca46247248756ef553a880842",
              "IPY_MODEL_ae403376c87a447ca6099a7b6f58fd48",
              "IPY_MODEL_d2b8b9cb2b8f44a88762b6958555bcdd",
              "IPY_MODEL_ec5cc7bd5d554246afcdfb5f577978ed",
              "IPY_MODEL_7b59de002340447e9bba19d68f60e80d",
              "IPY_MODEL_a18b4c2bf7d54238bc26f0358d640be4",
              "IPY_MODEL_d6cba87fc0bd4404b2d592cd63d3b64d"
            ],
            "layout": "IPY_MODEL_d83135de67254618ae8b4483f802f87d"
          }
        },
        "41842293567b484da7b17fc026157057": {
          "model_module": "@jupyter-widgets/controls",
          "model_name": "FloatSliderModel",
          "model_module_version": "1.5.0",
          "state": {
            "_dom_classes": [],
            "_model_module": "@jupyter-widgets/controls",
            "_model_module_version": "1.5.0",
            "_model_name": "FloatSliderModel",
            "_view_count": null,
            "_view_module": "@jupyter-widgets/controls",
            "_view_module_version": "1.5.0",
            "_view_name": "FloatSliderView",
            "continuous_update": true,
            "description": "speed:",
            "description_tooltip": null,
            "disabled": false,
            "layout": "IPY_MODEL_cb253f1c1ec942d88f72358c81745360",
            "max": 2,
            "min": 0.2,
            "orientation": "horizontal",
            "readout": true,
            "readout_format": ".2f",
            "step": 0.1,
            "style": "IPY_MODEL_4d0d04de582445dfb1f8cbb85662dd8d",
            "value": 1
          }
        },
        "b1e54b321a8944439452783bbf542233": {
          "model_module": "@jupyter-widgets/controls",
          "model_name": "IntSliderModel",
          "model_module_version": "1.5.0",
          "state": {
            "_dom_classes": [],
            "_model_module": "@jupyter-widgets/controls",
            "_model_module_version": "1.5.0",
            "_model_name": "IntSliderModel",
            "_view_count": null,
            "_view_module": "@jupyter-widgets/controls",
            "_view_module_version": "1.5.0",
            "_view_name": "IntSliderView",
            "continuous_update": true,
            "description": "size:",
            "description_tooltip": null,
            "disabled": false,
            "layout": "IPY_MODEL_cb253f1c1ec942d88f72358c81745360",
            "max": 12,
            "min": 2,
            "orientation": "horizontal",
            "readout": true,
            "readout_format": "d",
            "step": 1,
            "style": "IPY_MODEL_501e0893506e41739165493fc6b54574",
            "value": 8
          }
        },
        "6aeb04147ebf423eac4ee067b9c1ffc5": {
          "model_module": "@jupyter-widgets/controls",
          "model_name": "IntRangeSliderModel",
          "model_module_version": "1.5.0",
          "state": {
            "_dom_classes": [],
            "_model_module": "@jupyter-widgets/controls",
            "_model_module_version": "1.5.0",
            "_model_name": "IntRangeSliderModel",
            "_view_count": null,
            "_view_module": "@jupyter-widgets/controls",
            "_view_module_version": "1.5.0",
            "_view_name": "IntRangeSliderView",
            "continuous_update": true,
            "description": "range:",
            "description_tooltip": null,
            "disabled": false,
            "layout": "IPY_MODEL_cb253f1c1ec942d88f72358c81745360",
            "max": 12,
            "min": 0,
            "orientation": "horizontal",
            "readout": true,
            "readout_format": "d",
            "step": 1,
            "style": "IPY_MODEL_156a655bd93d480899934d56f605503d",
            "value": [
              0,
              12
            ]
          }
        },
        "9e4fe12ca46247248756ef553a880842": {
          "model_module": "@jupyter-widgets/controls",
          "model_name": "FloatSliderModel",
          "model_module_version": "1.5.0",
          "state": {
            "_dom_classes": [],
            "_model_module": "@jupyter-widgets/controls",
            "_model_module_version": "1.5.0",
            "_model_name": "FloatSliderModel",
            "_view_count": null,
            "_view_module": "@jupyter-widgets/controls",
            "_view_module_version": "1.5.0",
            "_view_name": "FloatSliderView",
            "continuous_update": true,
            "description": "x offset:",
            "description_tooltip": null,
            "disabled": false,
            "layout": "IPY_MODEL_cb253f1c1ec942d88f72358c81745360",
            "max": 7,
            "min": 0.4,
            "orientation": "horizontal",
            "readout": true,
            "readout_format": ".2f",
            "step": 0.05,
            "style": "IPY_MODEL_73cf597161fc414392bc449ba871d17a",
            "value": 0.4
          }
        },
        "ae403376c87a447ca6099a7b6f58fd48": {
          "model_module": "@jupyter-widgets/controls",
          "model_name": "FloatSliderModel",
          "model_module_version": "1.5.0",
          "state": {
            "_dom_classes": [],
            "_model_module": "@jupyter-widgets/controls",
            "_model_module_version": "1.5.0",
            "_model_name": "FloatSliderModel",
            "_view_count": null,
            "_view_module": "@jupyter-widgets/controls",
            "_view_module_version": "1.5.0",
            "_view_name": "FloatSliderView",
            "continuous_update": true,
            "description": "y offset:",
            "description_tooltip": null,
            "disabled": false,
            "layout": "IPY_MODEL_cb253f1c1ec942d88f72358c81745360",
            "max": 4,
            "min": -4,
            "orientation": "horizontal",
            "readout": true,
            "readout_format": ".2f",
            "step": 0.5,
            "style": "IPY_MODEL_607c1eb796e2429eb4fb6316c0678b94",
            "value": 0
          }
        },
        "d2b8b9cb2b8f44a88762b6958555bcdd": {
          "model_module": "@jupyter-widgets/controls",
          "model_name": "FloatSliderModel",
          "model_module_version": "1.5.0",
          "state": {
            "_dom_classes": [],
            "_model_module": "@jupyter-widgets/controls",
            "_model_module_version": "1.5.0",
            "_model_name": "FloatSliderModel",
            "_view_count": null,
            "_view_module": "@jupyter-widgets/controls",
            "_view_module_version": "1.5.0",
            "_view_name": "FloatSliderView",
            "continuous_update": true,
            "description": "rhythmic irregularity:",
            "description_tooltip": null,
            "disabled": false,
            "layout": "IPY_MODEL_cb253f1c1ec942d88f72358c81745360",
            "max": 0.5,
            "min": 0,
            "orientation": "horizontal",
            "readout": true,
            "readout_format": ".2f",
            "step": 0.01,
            "style": "IPY_MODEL_e14d124db6af491eb755a2d467f87efa",
            "value": 0
          }
        },
        "ec5cc7bd5d554246afcdfb5f577978ed": {
          "model_module": "@jupyter-widgets/controls",
          "model_name": "IntSliderModel",
          "model_module_version": "1.5.0",
          "state": {
            "_dom_classes": [],
            "_model_module": "@jupyter-widgets/controls",
            "_model_module_version": "1.5.0",
            "_model_name": "IntSliderModel",
            "_view_count": null,
            "_view_module": "@jupyter-widgets/controls",
            "_view_module_version": "1.5.0",
            "_view_name": "IntSliderView",
            "continuous_update": true,
            "description": "# of chords:",
            "description_tooltip": null,
            "disabled": false,
            "layout": "IPY_MODEL_cb253f1c1ec942d88f72358c81745360",
            "max": 8,
            "min": 0,
            "orientation": "horizontal",
            "readout": true,
            "readout_format": "d",
            "step": 1,
            "style": "IPY_MODEL_a6dc31725e124d25b4df626ec7419393",
            "value": 0
          }
        },
        "7b59de002340447e9bba19d68f60e80d": {
          "model_module": "@jupyter-widgets/controls",
          "model_name": "IntSliderModel",
          "model_module_version": "1.5.0",
          "state": {
            "_dom_classes": [],
            "_model_module": "@jupyter-widgets/controls",
            "_model_module_version": "1.5.0",
            "_model_name": "IntSliderModel",
            "_view_count": null,
            "_view_module": "@jupyter-widgets/controls",
            "_view_module_version": "1.5.0",
            "_view_name": "IntSliderView",
            "continuous_update": true,
            "description": "chord size:",
            "description_tooltip": null,
            "disabled": false,
            "layout": "IPY_MODEL_cb253f1c1ec942d88f72358c81745360",
            "max": 4,
            "min": 2,
            "orientation": "horizontal",
            "readout": true,
            "readout_format": "d",
            "step": 1,
            "style": "IPY_MODEL_a5b2715de81942e49fda359393f95a06",
            "value": 2
          }
        },
        "a18b4c2bf7d54238bc26f0358d640be4": {
          "model_module": "@jupyter-widgets/controls",
          "model_name": "ToggleButtonsModel",
          "model_module_version": "1.5.0",
          "state": {
            "_dom_classes": [],
            "_model_module": "@jupyter-widgets/controls",
            "_model_module_version": "1.5.0",
            "_model_name": "ToggleButtonsModel",
            "_options_labels": [
              "Secundal",
              "Tertian",
              "Quartal",
              "Mixed",
              "Mixed within chord"
            ],
            "_view_count": null,
            "_view_module": "@jupyter-widgets/controls",
            "_view_module_version": "1.5.0",
            "_view_name": "ToggleButtonsView",
            "button_style": "info",
            "description": "chord type:",
            "description_tooltip": null,
            "disabled": false,
            "icons": [],
            "index": 0,
            "layout": "IPY_MODEL_437d090faac94f92832cce8c91c8357a",
            "style": "IPY_MODEL_52f9ffd2afc54e5dad1b94cfa393d25a",
            "tooltips": []
          }
        },
        "d6cba87fc0bd4404b2d592cd63d3b64d": {
          "model_module": "@jupyter-widgets/controls",
          "model_name": "ToggleButtonsModel",
          "model_module_version": "1.5.0",
          "state": {
            "_dom_classes": [],
            "_model_module": "@jupyter-widgets/controls",
            "_model_module_version": "1.5.0",
            "_model_name": "ToggleButtonsModel",
            "_options_labels": [
              "Mixed",
              "Upwards",
              "Downwards"
            ],
            "_view_count": null,
            "_view_module": "@jupyter-widgets/controls",
            "_view_module_version": "1.5.0",
            "_view_name": "ToggleButtonsView",
            "button_style": "info",
            "description": "directionality:",
            "description_tooltip": null,
            "disabled": false,
            "icons": [],
            "index": 0,
            "layout": "IPY_MODEL_b9a65c73c18d4a259a2bac5bb746ea39",
            "style": "IPY_MODEL_a990e0c11fda44019bfda4d6ee2e2cf7",
            "tooltips": []
          }
        },
        "d83135de67254618ae8b4483f802f87d": {
          "model_module": "@jupyter-widgets/base",
          "model_name": "LayoutModel",
          "model_module_version": "1.2.0",
          "state": {
            "_model_module": "@jupyter-widgets/base",
            "_model_module_version": "1.2.0",
            "_model_name": "LayoutModel",
            "_view_count": null,
            "_view_module": "@jupyter-widgets/base",
            "_view_module_version": "1.2.0",
            "_view_name": "LayoutView",
            "align_content": null,
            "align_items": null,
            "align_self": null,
            "border": null,
            "bottom": null,
            "display": null,
            "flex": null,
            "flex_flow": null,
            "grid_area": null,
            "grid_auto_columns": null,
            "grid_auto_flow": null,
            "grid_auto_rows": null,
            "grid_column": null,
            "grid_gap": null,
            "grid_row": null,
            "grid_template_areas": null,
            "grid_template_columns": null,
            "grid_template_rows": null,
            "height": null,
            "justify_content": null,
            "justify_items": null,
            "left": null,
            "margin": null,
            "max_height": null,
            "max_width": null,
            "min_height": null,
            "min_width": null,
            "object_fit": null,
            "object_position": null,
            "order": null,
            "overflow": null,
            "overflow_x": null,
            "overflow_y": null,
            "padding": null,
            "right": null,
            "top": null,
            "visibility": null,
            "width": null
          }
        },
        "cb253f1c1ec942d88f72358c81745360": {
          "model_module": "@jupyter-widgets/base",
          "model_name": "LayoutModel",
          "model_module_version": "1.2.0",
          "state": {
            "_model_module": "@jupyter-widgets/base",
            "_model_module_version": "1.2.0",
            "_model_name": "LayoutModel",
            "_view_count": null,
            "_view_module": "@jupyter-widgets/base",
            "_view_module_version": "1.2.0",
            "_view_name": "LayoutView",
            "align_content": null,
            "align_items": null,
            "align_self": null,
            "border": null,
            "bottom": null,
            "display": null,
            "flex": null,
            "flex_flow": null,
            "grid_area": null,
            "grid_auto_columns": null,
            "grid_auto_flow": null,
            "grid_auto_rows": null,
            "grid_column": null,
            "grid_gap": null,
            "grid_row": null,
            "grid_template_areas": null,
            "grid_template_columns": null,
            "grid_template_rows": null,
            "height": null,
            "justify_content": null,
            "justify_items": null,
            "left": null,
            "margin": "0 0 10px 0",
            "max_height": null,
            "max_width": null,
            "min_height": null,
            "min_width": null,
            "object_fit": null,
            "object_position": null,
            "order": null,
            "overflow": null,
            "overflow_x": null,
            "overflow_y": null,
            "padding": null,
            "right": null,
            "top": null,
            "visibility": null,
            "width": "40%"
          }
        },
        "4d0d04de582445dfb1f8cbb85662dd8d": {
          "model_module": "@jupyter-widgets/controls",
          "model_name": "SliderStyleModel",
          "model_module_version": "1.5.0",
          "state": {
            "_model_module": "@jupyter-widgets/controls",
            "_model_module_version": "1.5.0",
            "_model_name": "SliderStyleModel",
            "_view_count": null,
            "_view_module": "@jupyter-widgets/base",
            "_view_module_version": "1.2.0",
            "_view_name": "StyleView",
            "description_width": "150px",
            "handle_color": null
          }
        },
        "501e0893506e41739165493fc6b54574": {
          "model_module": "@jupyter-widgets/controls",
          "model_name": "SliderStyleModel",
          "model_module_version": "1.5.0",
          "state": {
            "_model_module": "@jupyter-widgets/controls",
            "_model_module_version": "1.5.0",
            "_model_name": "SliderStyleModel",
            "_view_count": null,
            "_view_module": "@jupyter-widgets/base",
            "_view_module_version": "1.2.0",
            "_view_name": "StyleView",
            "description_width": "150px",
            "handle_color": null
          }
        },
        "156a655bd93d480899934d56f605503d": {
          "model_module": "@jupyter-widgets/controls",
          "model_name": "SliderStyleModel",
          "model_module_version": "1.5.0",
          "state": {
            "_model_module": "@jupyter-widgets/controls",
            "_model_module_version": "1.5.0",
            "_model_name": "SliderStyleModel",
            "_view_count": null,
            "_view_module": "@jupyter-widgets/base",
            "_view_module_version": "1.2.0",
            "_view_name": "StyleView",
            "description_width": "150px",
            "handle_color": null
          }
        },
        "73cf597161fc414392bc449ba871d17a": {
          "model_module": "@jupyter-widgets/controls",
          "model_name": "SliderStyleModel",
          "model_module_version": "1.5.0",
          "state": {
            "_model_module": "@jupyter-widgets/controls",
            "_model_module_version": "1.5.0",
            "_model_name": "SliderStyleModel",
            "_view_count": null,
            "_view_module": "@jupyter-widgets/base",
            "_view_module_version": "1.2.0",
            "_view_name": "StyleView",
            "description_width": "150px",
            "handle_color": null
          }
        },
        "607c1eb796e2429eb4fb6316c0678b94": {
          "model_module": "@jupyter-widgets/controls",
          "model_name": "SliderStyleModel",
          "model_module_version": "1.5.0",
          "state": {
            "_model_module": "@jupyter-widgets/controls",
            "_model_module_version": "1.5.0",
            "_model_name": "SliderStyleModel",
            "_view_count": null,
            "_view_module": "@jupyter-widgets/base",
            "_view_module_version": "1.2.0",
            "_view_name": "StyleView",
            "description_width": "150px",
            "handle_color": null
          }
        },
        "e14d124db6af491eb755a2d467f87efa": {
          "model_module": "@jupyter-widgets/controls",
          "model_name": "SliderStyleModel",
          "model_module_version": "1.5.0",
          "state": {
            "_model_module": "@jupyter-widgets/controls",
            "_model_module_version": "1.5.0",
            "_model_name": "SliderStyleModel",
            "_view_count": null,
            "_view_module": "@jupyter-widgets/base",
            "_view_module_version": "1.2.0",
            "_view_name": "StyleView",
            "description_width": "150px",
            "handle_color": null
          }
        },
        "a6dc31725e124d25b4df626ec7419393": {
          "model_module": "@jupyter-widgets/controls",
          "model_name": "SliderStyleModel",
          "model_module_version": "1.5.0",
          "state": {
            "_model_module": "@jupyter-widgets/controls",
            "_model_module_version": "1.5.0",
            "_model_name": "SliderStyleModel",
            "_view_count": null,
            "_view_module": "@jupyter-widgets/base",
            "_view_module_version": "1.2.0",
            "_view_name": "StyleView",
            "description_width": "150px",
            "handle_color": null
          }
        },
        "a5b2715de81942e49fda359393f95a06": {
          "model_module": "@jupyter-widgets/controls",
          "model_name": "SliderStyleModel",
          "model_module_version": "1.5.0",
          "state": {
            "_model_module": "@jupyter-widgets/controls",
            "_model_module_version": "1.5.0",
            "_model_name": "SliderStyleModel",
            "_view_count": null,
            "_view_module": "@jupyter-widgets/base",
            "_view_module_version": "1.2.0",
            "_view_name": "StyleView",
            "description_width": "150px",
            "handle_color": null
          }
        },
        "437d090faac94f92832cce8c91c8357a": {
          "model_module": "@jupyter-widgets/base",
          "model_name": "LayoutModel",
          "model_module_version": "1.2.0",
          "state": {
            "_model_module": "@jupyter-widgets/base",
            "_model_module_version": "1.2.0",
            "_model_name": "LayoutModel",
            "_view_count": null,
            "_view_module": "@jupyter-widgets/base",
            "_view_module_version": "1.2.0",
            "_view_name": "LayoutView",
            "align_content": null,
            "align_items": null,
            "align_self": null,
            "border": null,
            "bottom": null,
            "display": null,
            "flex": null,
            "flex_flow": null,
            "grid_area": null,
            "grid_auto_columns": null,
            "grid_auto_flow": null,
            "grid_auto_rows": null,
            "grid_column": null,
            "grid_gap": null,
            "grid_row": null,
            "grid_template_areas": null,
            "grid_template_columns": null,
            "grid_template_rows": null,
            "height": null,
            "justify_content": null,
            "justify_items": null,
            "left": null,
            "margin": null,
            "max_height": null,
            "max_width": null,
            "min_height": null,
            "min_width": null,
            "object_fit": null,
            "object_position": null,
            "order": null,
            "overflow": null,
            "overflow_x": null,
            "overflow_y": null,
            "padding": null,
            "right": null,
            "top": null,
            "visibility": null,
            "width": null
          }
        },
        "52f9ffd2afc54e5dad1b94cfa393d25a": {
          "model_module": "@jupyter-widgets/controls",
          "model_name": "ToggleButtonsStyleModel",
          "model_module_version": "1.5.0",
          "state": {
            "_model_module": "@jupyter-widgets/controls",
            "_model_module_version": "1.5.0",
            "_model_name": "ToggleButtonsStyleModel",
            "_view_count": null,
            "_view_module": "@jupyter-widgets/base",
            "_view_module_version": "1.2.0",
            "_view_name": "StyleView",
            "button_width": "",
            "description_width": "",
            "font_weight": ""
          }
        },
        "b9a65c73c18d4a259a2bac5bb746ea39": {
          "model_module": "@jupyter-widgets/base",
          "model_name": "LayoutModel",
          "model_module_version": "1.2.0",
          "state": {
            "_model_module": "@jupyter-widgets/base",
            "_model_module_version": "1.2.0",
            "_model_name": "LayoutModel",
            "_view_count": null,
            "_view_module": "@jupyter-widgets/base",
            "_view_module_version": "1.2.0",
            "_view_name": "LayoutView",
            "align_content": null,
            "align_items": null,
            "align_self": null,
            "border": null,
            "bottom": null,
            "display": null,
            "flex": null,
            "flex_flow": null,
            "grid_area": null,
            "grid_auto_columns": null,
            "grid_auto_flow": null,
            "grid_auto_rows": null,
            "grid_column": null,
            "grid_gap": null,
            "grid_row": null,
            "grid_template_areas": null,
            "grid_template_columns": null,
            "grid_template_rows": null,
            "height": null,
            "justify_content": null,
            "justify_items": null,
            "left": null,
            "margin": null,
            "max_height": null,
            "max_width": null,
            "min_height": null,
            "min_width": null,
            "object_fit": null,
            "object_position": null,
            "order": null,
            "overflow": null,
            "overflow_x": null,
            "overflow_y": null,
            "padding": null,
            "right": null,
            "top": null,
            "visibility": null,
            "width": null
          }
        },
        "a990e0c11fda44019bfda4d6ee2e2cf7": {
          "model_module": "@jupyter-widgets/controls",
          "model_name": "ToggleButtonsStyleModel",
          "model_module_version": "1.5.0",
          "state": {
            "_model_module": "@jupyter-widgets/controls",
            "_model_module_version": "1.5.0",
            "_model_name": "ToggleButtonsStyleModel",
            "_view_count": null,
            "_view_module": "@jupyter-widgets/base",
            "_view_module_version": "1.2.0",
            "_view_name": "StyleView",
            "button_width": "",
            "description_width": "",
            "font_weight": ""
          }
        }
      }
    }
  },
  "cells": [
    {
      "cell_type": "markdown",
      "metadata": {
        "id": "view-in-github",
        "colab_type": "text"
      },
      "source": [
        "<a href=\"https://colab.research.google.com/github/hayakzan/MLP-notations/blob/main/MLP_notations_GENERATING_DATA.ipynb\" target=\"_parent\"><img src=\"https://colab.research.google.com/assets/colab-badge.svg\" alt=\"Open In Colab\"/></a>"
      ]
    },
    {
      "cell_type": "markdown",
      "source": [
        "#### Before running the code\n",
        "#### - Upload the notation fonts `/fonts/OpusStd.ttf` and `/fonts/OpusSpecialStd.ttf` into `/content` folder\n",
        "#### - Upload `/xydata/train_xy.json` into `/content` folder\n"
      ],
      "metadata": {
        "id": "i-URQfyhgjLF"
      }
    },
    {
      "cell_type": "code",
      "execution_count": 1,
      "metadata": {
        "id": "AYycwWhBOXcG"
      },
      "outputs": [],
      "source": [
        "# -*- coding: utf-8 -*-\n",
        "\n",
        "# dependencies\n",
        "from __future__ import division\n",
        "import numpy as np\n",
        "import matplotlib\n",
        "import matplotlib.pyplot as plt\n",
        "import matplotlib.font_manager as fm\n",
        "import random\n",
        "from matplotlib.lines import Line2D\n",
        "import matplotlib.patches as mpatches\n",
        "from scipy import interpolate\n",
        "import csv\n",
        "import pandas as pd\n",
        "import json\n"
      ]
    },
    {
      "cell_type": "code",
      "source": [
        "global fig_num\n",
        "fig_num = 1\n",
        "\n",
        "font_dirs = [\"/content\"]\n",
        "font_files = fm.findSystemFonts(fontpaths=font_dirs)\n",
        "\n",
        "#TODO: fix the font issue\n",
        "fontprop2 = fm.FontProperties(fname=font_files[1], size=24)\n",
        "fontprop1 = fm.FontProperties(fname=font_files[0], size=25)\n",
        "\n"
      ],
      "metadata": {
        "id": "gldXCx8lPD8K"
      },
      "execution_count": 2,
      "outputs": []
    },
    {
      "cell_type": "markdown",
      "source": [
        "#### Create a JSON file for the parameters"
      ],
      "metadata": {
        "id": "WlVuW2vnH_QX"
      }
    },
    {
      "cell_type": "code",
      "source": [
        "# Create a list to store the slider values\n",
        "slider_values_list = []\n",
        "\n",
        "# Function to update the slider values\n",
        "def update_slider_values(change):\n",
        "    # Create a dictionary to store the slider values\n",
        "    slider_values = {\n",
        "        \"speed\": speed_slider.value,\n",
        "        \"size\": size_slider.value,\n",
        "        \"range_low\": range_slider.value[0],\n",
        "        \"range_hi\": range_slider.value[1],\n",
        "        \"x_offset\": x_offset_slider.value,\n",
        "        \"y_offset\": y_offset_slider.value,\n",
        "        \"rhy_irr\": irregularity_slider.value,\n",
        "        \"chord_num\": chord_num_slider.value,\n",
        "        \"chord_size\": chord_size_slider.value\n",
        "    }\n",
        "\n",
        "    # Append the slider values to the list\n",
        "    slider_values_list.append(slider_values)\n",
        "\n",
        "    # Write the updated data to the file\n",
        "    with open(\"slider_values.json\", \"w\") as file:\n",
        "        json.dump(slider_values_list, file, indent=4)\n"
      ],
      "metadata": {
        "id": "nlvJrvG5H3l9"
      },
      "execution_count": 3,
      "outputs": []
    },
    {
      "cell_type": "code",
      "source": [
        "def plot_note(rhythm, pitch, notes, accidental, x_off, acc_off, secundal_offset, pitch_offset, chord_type, index):\n",
        "\n",
        "    # note\n",
        "    plt.text((rhythm + 0.035) + x_off + secundal_offset, pitch + pitch_offset-((index)*chord_type), notes[0],\n",
        "             fontproperties=fontprop2, color='black')\n",
        "\n",
        "    # accidental\n",
        "    plt.text((rhythm - 0.025) + acc_off + secundal_offset, pitch + pitch_offset-((index)*chord_type), random.choice(acc_sym),\n",
        "             fontproperties=fontprop1, color='black')\n"
      ],
      "metadata": {
        "id": "UowC55ZHU4ca"
      },
      "execution_count": 4,
      "outputs": []
    },
    {
      "cell_type": "markdown",
      "source": [
        "#### Use the sliders to set up notational parameters\n"
      ],
      "metadata": {
        "id": "nqn0WAfSGQ5S"
      }
    },
    {
      "cell_type": "code",
      "source": [
        "import ipywidgets as widgets\n",
        "from IPython.display import display\n",
        "\n",
        "layout = widgets.Layout(margin='0 0 10px 0', width='40%')\n",
        "\n",
        "# Create a slider widget\n",
        "speed_slider = widgets.FloatSlider(value=1.0, min=0.2, max=2.0, step=0.1, description='speed:', style={'description_width': '150px'}, layout=layout)\n",
        "size_slider = widgets.IntSlider(value=8, min=2, max=12, step=1, description='size:', style={'description_width': '150px'}, layout=layout)\n",
        "range_slider = widgets.IntRangeSlider(value=[0, 12], min=0, max=12, step=1, description='range:', style={'description_width': '150px'}, layout=layout)\n",
        "x_offset_slider = widgets.FloatSlider(value=0.4, min=0.4, max=7.0, step=0.05, description='x offset:', style={'description_width': '150px'}, layout=layout)\n",
        "y_offset_slider = widgets.FloatSlider(value=0.0, min=-4.0, max=4.0, step=0.5, description='y offset:', style={'description_width': '150px'}, layout=layout)\n",
        "irregularity_slider = widgets.FloatSlider(value=0.0, min=0.0, max=0.5, step=0.01, description='rhythmic irregularity:', style={'description_width': '150px'}, layout=layout)\n",
        "chord_num_slider = widgets.IntSlider(value=0, min=0, max=size_slider.value, step=1, description='# of chords:', style={'description_width': '150px'}, layout=layout)\n",
        "chord_size_slider = widgets.IntSlider(value=2, min=2, max=4, step=1, description='chord size:', style={'description_width': '150px'}, layout=layout)\n",
        "chord_type_button = widgets.ToggleButtons(options=['Secundal', 'Tertian', 'Quartal', 'Mixed', 'Mixed within chord'], description='chord type:', disabled=False, button_style='info')\n",
        "direction_box = widgets.ToggleButtons(options=['Mixed', 'Upwards', 'Downwards'], description='directionality:', disabled=False, button_style='info')\n",
        "#poly_box = widgets.Checkbox(value=False, description='toggle polyphony', disabled=False, indent=True, layout=layout)\n",
        "\n",
        "slider_box = widgets.VBox([speed_slider, size_slider, range_slider, x_offset_slider, y_offset_slider, irregularity_slider, chord_num_slider, chord_size_slider, chord_type_button, direction_box])\n",
        "\n",
        "# Display the slider widget\n",
        "display(slider_box)\n"
      ],
      "metadata": {
        "colab": {
          "base_uri": "https://localhost:8080/",
          "height": 386,
          "referenced_widgets": [
            "167d878d9beb4065b8e699454ff93a30",
            "41842293567b484da7b17fc026157057",
            "b1e54b321a8944439452783bbf542233",
            "6aeb04147ebf423eac4ee067b9c1ffc5",
            "9e4fe12ca46247248756ef553a880842",
            "ae403376c87a447ca6099a7b6f58fd48",
            "d2b8b9cb2b8f44a88762b6958555bcdd",
            "ec5cc7bd5d554246afcdfb5f577978ed",
            "7b59de002340447e9bba19d68f60e80d",
            "a18b4c2bf7d54238bc26f0358d640be4",
            "d6cba87fc0bd4404b2d592cd63d3b64d",
            "d83135de67254618ae8b4483f802f87d",
            "cb253f1c1ec942d88f72358c81745360",
            "4d0d04de582445dfb1f8cbb85662dd8d",
            "501e0893506e41739165493fc6b54574",
            "156a655bd93d480899934d56f605503d",
            "73cf597161fc414392bc449ba871d17a",
            "607c1eb796e2429eb4fb6316c0678b94",
            "e14d124db6af491eb755a2d467f87efa",
            "a6dc31725e124d25b4df626ec7419393",
            "a5b2715de81942e49fda359393f95a06",
            "437d090faac94f92832cce8c91c8357a",
            "52f9ffd2afc54e5dad1b94cfa393d25a",
            "b9a65c73c18d4a259a2bac5bb746ea39",
            "a990e0c11fda44019bfda4d6ee2e2cf7"
          ]
        },
        "id": "WgES_KJ6Dko3",
        "outputId": "07803736-922a-4d1a-e5f5-3d3dc0f4b2b9"
      },
      "execution_count": 5,
      "outputs": [
        {
          "output_type": "display_data",
          "data": {
            "text/plain": [
              "VBox(children=(FloatSlider(value=1.0, description='speed:', layout=Layout(margin='0 0 10px 0', width='40%'), m…"
            ],
            "application/vnd.jupyter.widget-view+json": {
              "version_major": 2,
              "version_minor": 0,
              "model_id": "167d878d9beb4065b8e699454ff93a30"
            }
          },
          "metadata": {}
        }
      ]
    },
    {
      "cell_type": "markdown",
      "source": [
        "#### After the initial run, run after here (`Cmd/Ctrl+F10`) after each new slider setting (no need to re-run the slider cell). This will add new data into `slider_values.json`"
      ],
      "metadata": {
        "id": "w4uf2J_BfyoM"
      }
    },
    {
      "cell_type": "code",
      "source": [
        "# constants & variables\n",
        "seed_value = 1234\n",
        "np.random.seed(seed_value)\n",
        "\n",
        "x_off = x_offset_slider.value\n",
        "phan_off = x_off\n",
        "y_off = 0.0\n",
        "\n",
        "# staff lines\n",
        "X_1, Y_1 = np.linspace(0.06, 10.345, 10), np.zeros(10)\n",
        "# measure lines\n",
        "X_2, Y_2 = np.linspace(0.06, 0.06, 10), np.linspace(4, 0, 10)\n",
        "\n",
        "# notes:\n",
        "noteheads = ['f', ' ']\n",
        "notes = []\n",
        "accidentals = []\n",
        "acc_sym = ['n','#','b']\n",
        "acc_rest = [ ] #TODO add this above\n",
        "\n",
        "for i in range(len(noteheads)):\n",
        "  notes.append(noteheads[i])\n",
        "\n",
        "# arrays for data:\n",
        "rhy_map = []\n",
        "pi_map = []\n",
        "\n"
      ],
      "metadata": {
        "id": "UbL48mDdPuds"
      },
      "execution_count": 6,
      "outputs": []
    },
    {
      "cell_type": "code",
      "source": [
        "## input etc. TODO: dataset input option\n",
        "size = size_slider.value\n",
        "\n",
        "#raw_data = pd.read_csv(\"/content/src/pix.csv\", converters={\"0\": int})\n",
        "#chars = raw_data[\"0\"].values.tolist()\n",
        "\n",
        "# Generate random values\n",
        "range_slider_min = range_slider.value[0]\n",
        "range_slider_max = range_slider.value[1]\n",
        "raw_data = np.random.randint(low=range_slider_min, high=range_slider_max, size=size)\n"
      ],
      "metadata": {
        "id": "N3IfFu7uRoME"
      },
      "execution_count": 7,
      "outputs": []
    },
    {
      "cell_type": "code",
      "source": [
        "## Speed / rhythmic irregularity / textural direction\n",
        "\n",
        "speed = speed_slider.value\n",
        "mean = 0\n",
        "std_dev = irregularity_slider.value\n",
        "\n",
        "x_data = list(range(size))\n",
        "\n",
        "# Add randomness\n",
        "x_data = [x + np.random.normal(mean, std_dev) for x in x_data]\n",
        "x_data = [i*speed for i in x_data]\n",
        "\n",
        "y_data = raw_data\n",
        "\n",
        "if direction_box.value == 'Mixed':\n",
        "  pass\n",
        "elif direction_box.value == 'Upwards':\n",
        "  y_data = sorted(raw_data)\n",
        "elif direction_box.value == 'Downwards':\n",
        "  y_data = sorted(raw_data, reverse=True)\n",
        "else:\n",
        "    pass\n",
        "\n"
      ],
      "metadata": {
        "id": "fHkFXo5dR9P2"
      },
      "execution_count": 8,
      "outputs": []
    },
    {
      "cell_type": "markdown",
      "source": [
        "#### Generate the notation"
      ],
      "metadata": {
        "id": "MrjlAafGpexl"
      }
    },
    {
      "cell_type": "code",
      "source": [
        "import warnings\n",
        "# create the figure and subplot:\n",
        "fig = plt.figure(figsize=(24, 6))\n",
        "ax = plt.subplot(1, 1, 1)\n",
        "\n",
        "# customize the subplot spines\n",
        "ax.spines['top'].set_visible(False)\n",
        "ax.spines['bottom'].set_visible(False)\n",
        "ax.spines['left'].set_visible(False)\n",
        "ax.spines['right'].set_visible(False)\n",
        "\n",
        "accidentals = []\n",
        "chord_type_list = []\n",
        "rest_positions = []\n",
        "rest_index = []\n",
        "\n",
        "for j in range(size):\n",
        "    # no sharps on Es in this context\n",
        "    if y_data[j] % 3.5 == 0.0:\n",
        "      accidentals.append(random.choice([acc_sym[0], acc_sym[2]]))\n",
        "    # no flats on Fs in this context\n",
        "    elif y_data[j] % 3.5 == 0.5:\n",
        "      accidentals.append(random.choice(acc_sym[:2]))\n",
        "    # no sharps on Bs in this context\n",
        "    elif y_data[j] % 3.5 == 2.0:\n",
        "      accidentals.append(random.choice([acc_sym[0], acc_sym[2]]))\n",
        "    # no flats on Cs in this context\n",
        "    elif y_data[j] % 3.5 == 2.5:\n",
        "      accidentals.append(random.choice(acc_sym[:2]))\n",
        "    else:\n",
        "      accidentals.append(random.choice(acc_sym))\n",
        "\n",
        "# chords\n",
        "chord_indices = random.sample(range(0, size), chord_num_slider.value)\n",
        "for chord in chord_indices:\n",
        "  pitch = y_data[chord]+y_offset_slider.value\n",
        "  pitch_offset = -3.55\n",
        "  rhythm = x_data[chord]\n",
        "  accidental = accidentals[chord]\n",
        "  ledger_off_low = (pitch+pitch_offset)+0.55\n",
        "  ledger_off_hi = (pitch+pitch_offset)-4.45\n",
        "  rest_positions.append(x_data[chord])\n",
        "\n",
        "  # second_arr = [left_second, right_second, left_second]\n",
        "\n",
        "  for i in range(1, chord_size_slider.value):\n",
        "    if chord_type_button.value == 'Secundal':\n",
        "      chord_type = 0.5\n",
        "      secundal_offset_left = 0.025\n",
        "      secundal_offset_right = -0.035\n",
        "      acc_off_1 = x_off-0.17\n",
        "      acc_off_2 = x_off-0.06\n",
        "      secundal_offset_array = [secundal_offset_left, secundal_offset_right, secundal_offset_left, secundal_offset_right]\n",
        "      secundal_acc_offset_arr = [acc_off_1, acc_off_2, acc_off_1, acc_off_2-0.1]\n",
        "      plot_note(rhythm, pitch, notes, accidental, x_off, secundal_acc_offset_arr[i], secundal_offset_array[i], pitch_offset, chord_type, i)\n",
        "\n",
        "    elif chord_type_button.value == 'Tertian':\n",
        "      chord_type = 1.0\n",
        "      rest_positions = []\n",
        "      plt.text((x_data[chord] + 0.035)+x_off, y_data[chord]+pitch_offset-(i*chord_type), notes[0], fontproperties=fontprop2, color='black')\n",
        "      plt.text((x_data[chord] - 0.025)+x_off, y_data[chord]+pitch_offset-(i*chord_type), accidentals[chord], fontproperties=fontprop1, color='black')\n",
        "\n",
        "    elif chord_type_button.value == 'Quartal':\n",
        "      chord_type = 1.45\n",
        "      rest_positions = []\n",
        "      plt.text((x_data[chord] + 0.035)+x_off, y_data[chord]+pitch_offset-(i*chord_type), notes[0], fontproperties=fontprop2, color='black')\n",
        "      plt.text((x_data[chord] - 0.025)+x_off, y_data[chord]+pitch_offset-(i*chord_type), accidentals[chord], fontproperties=fontprop1, color='black')\n",
        "\n",
        "    elif chord_type_button.value == 'Mixed':\n",
        "      plt.text((x_data[chord] + 0.035)+x_off, y_data[chord]+pitch_offset-(i*chord_type_list[chord]), notes[0], fontproperties=fontprop2, color='black')\n",
        "      plt.text((x_data[chord] - 0.025)+x_off, y_data[chord]+pitch_offset-(i*chord_type_list[chord]), accidentals[chord], fontproperties=fontprop1, color='black')\n",
        "\n",
        "\n",
        "    elif chord_type_button.value == 'Mixed within chord':\n",
        "      chord_type = random.choice([0.5, 1.0, 1.45])\n",
        "      plt.text((x_data[chord] + 0.035)+x_off, y_data[chord]+pitch_offset-(i*chord_type), notes[0], fontproperties=fontprop2, color='black')\n",
        "      plt.text((x_data[chord] - 0.025)+x_off, y_data[chord]+pitch_offset-(i*chord_type), accidentals[chord], fontproperties=fontprop1, color='black')\n",
        "\n",
        "      ax.plot(np.linspace(rhythm+x_off + 0.06, rhythm+x_off + 0.06, 10), np.linspace((pitch+pitch_offset), -13.3, 10), linestyle='solid', linewidth=0.5, color='black')\n",
        "\n",
        "# Create a new array with 1s at specified positions and 0s elsewhere\n",
        "rest_index = [1 if i in rest_positions else 0 for i in range(size)]\n",
        "\n",
        "for i in range(size):\n",
        "  pitch = y_data[i]+y_offset_slider.value\n",
        "  pitch_offset = -3.55\n",
        "  rhythm = x_data[i]\n",
        "  accidental = accidentals[i]\n",
        "  ledger_off_low = (pitch+pitch_offset)+0.55\n",
        "  ledger_off_hi = (pitch+pitch_offset)-4.45\n",
        "  chord_type_list.append(random.choice([0.5, 1.0, 1.45]))\n",
        "  # ledger lines\n",
        "  L1_x, L1_y = np.linspace(rhythm+x_off+0.01, rhythm++x_off+0.11, 10), np.full((10, ), ledger_off_low)\n",
        "  L2_x, L2_y = np.linspace(rhythm+x_off+0.01, rhythm++x_off+0.11, 10), np.full((10, ), ledger_off_hi)\n",
        "\n",
        "# main melody #TODO- use def\n",
        "  if rest_index[i] == 1:\n",
        "    plt.text((rhythm + 0.033)+x_off+0.03, pitch+pitch_offset, notes[0], fontproperties=fontprop2, color='black')\n",
        "    plt.text((rhythm - 0.025)+x_off-0.04, pitch+pitch_offset, accidental, fontproperties=fontprop1, color='black')\n",
        "\n",
        "  if rest_index[i] == 0:\n",
        "    plt.text((rhythm + 0.035)+x_off+0.0, pitch+pitch_offset, notes[0], fontproperties=fontprop2, color='black')\n",
        "    plt.text((rhythm - 0.025)+x_off+0.0, pitch+pitch_offset, accidental, fontproperties=fontprop1, color='black')\n",
        "\n",
        "# stems\n",
        "  ax.plot(np.linspace(rhythm+x_off + 0.06, rhythm+x_off + 0.06, 10), np.linspace((pitch+pitch_offset), -13.3, 10), linestyle='solid', linewidth=0.5, color='black')\n",
        "\n",
        "  if pitch < 3.0 and (pitch % 1) == 0.0:\n",
        "    for i in range(5):\n",
        "      ax.plot(L1_x, L1_y + i, linestyle='solid', linewidth=0.5, color='black')\n",
        "  elif pitch < 3.0 and (pitch % 1) != 0.0:\n",
        "    for i in range(5):\n",
        "      ax.plot(L1_x, L1_y-0.5 + i, linestyle='solid', linewidth=0.5, color='black')\n",
        "  if pitch > 8.0 and (pitch % 1) == 0.0:\n",
        "    for i in range(5):\n",
        "      ax.plot(L2_x, L2_y + i, linestyle='solid', linewidth=0.5, color='black')\n",
        "  elif pitch > 8.0 and (pitch % 1) != 0.0:\n",
        "    for i in range(5):\n",
        "      ax.plot(L2_x, L2_y+0.5 + i, linestyle='solid', linewidth=0.5, color='black')\n",
        "\n",
        "# plot the staff lines\n",
        "for i in range(5):\n",
        "    ax.plot(X_1, y_off + Y_1 + i, linestyle='solid', linewidth=0.5, color='black')\n",
        "\n",
        "# plot the treble clef\n",
        "plt.text(0.1, 1.1 + y_off, '&', fontproperties=fontprop1)\n",
        "\n",
        "# plot the measure lines and lower beams:\n",
        "ax.plot(X_2, Y_2, linestyle='solid', linewidth=0.5, color='black')\n",
        "ax.plot(np.linspace((x_data[0])+x_off + 0.075, (x_data[size-1])+x_off+ 0.05, 10), np.linspace(-13.1, -13.1, 10), linestyle='solid', linewidth=4, color='black')\n",
        "\n",
        "# slur w/ Bezier curve\n",
        "x_start, y_start = x_data[0], y_data[0]+y_offset_slider.value\n",
        "x_end, y_end = x_data[size-1], y_data[size-1]+y_offset_slider.value\n",
        "\n",
        "# control points for the Bezier\n",
        "control_x, control_y = (x_data[0] + x_data[size-1]) - 0.5, (y_data[0]+y_offset_slider.value) + 32\n",
        "\n",
        "# path of the Bezier\n",
        "path = mpatches.Path([(x_start+0.45, y_start-1.0),\n",
        "                      (control_x, control_y),\n",
        "                      (x_end+0.5, y_end-1.0)], [1, 3, 3], closed=False)\n",
        "\n",
        "patch = mpatches.PathPatch(path, edgecolor='black', facecolor='none', lw=0.5)\n",
        "\n",
        "ax.add_patch(patch)\n",
        "\n",
        "# phantom rhythms:\n",
        "phan_off = x_off + 0.06\n",
        "beat = 1.235\n",
        "beats = []\n",
        "divisions = []\n",
        "\n",
        "tuplet_val = 2\n",
        "div_val = 1/tuplet_val\n",
        "true_div_val = beat*div_val\n",
        "\n",
        "# div_val = random.choice(beat_div)\n",
        "\n",
        "for i in range(8):\n",
        "  beats.append(beat*i)\n",
        "for j in range(8*tuplet_val):\n",
        "  divisions.append(true_div_val*j)\n",
        "\n",
        "beat_start = 1\n",
        "beat_end = 6\n",
        "div_start = beat_start*tuplet_val\n",
        "div_end = beat_end*tuplet_val\n",
        "\n",
        "#TODO: erase divisions when [x:y:1] when x and y > 0.\n",
        "if beat_end == 8:\n",
        "  beam_grp_1_end = int((3*tuplet_val)+tuplet_val-1)\n",
        "  beam_grp_2_end = int((7*tuplet_val)+tuplet_val-1)\n",
        "else:\n",
        "  beam_grp_1_end = int((3*tuplet_val))\n",
        "  beam_grp_2_end = int((7*tuplet_val))\n",
        "\n",
        "print(\"beats: \", beats)\n",
        "print(\"phan_off: \", phan_off)\n",
        "print(\"beam_grp_1_end: \", beam_grp_1_end)\n",
        "print(\"beam_grp_2_end: \", beam_grp_2_end)\n",
        "\n",
        "print(\"divisions: \", divisions)\n",
        "print(\"beat range: \", beats[1::1])\n",
        "\n",
        "for p1 in beats[beat_start:beat_end:1]: #start from every beat\n",
        "  font = {'style': 'italic', 'size': 14}\n",
        "  pair = [p1, p1+(true_div_val*(tuplet_val-1))] #true_div_val controls the interval\n",
        "  if tuplet_val == 1:\n",
        "    pass\n",
        "  if tuplet_val == 2:\n",
        "    ax.plot(np.linspace(pair[0], pair[1], 10)+phan_off, np.linspace(13.7 + y_off, 13.7 + y_off, 10), linestyle='solid', linewidth=4, color='gray')\n",
        "    ax.plot(np.linspace(divisions[div_start:div_end:], divisions[div_start:div_end:], 10)+phan_off, np.linspace(4 + y_off, 15 + y_off, 10), linestyle='solid', linewidth=0.5, color='gray')\n",
        "  if tuplet_val == 3 or tuplet_val == 5:\n",
        "    ax.plot(np.linspace(pair[0], pair[1], 10)+phan_off, np.linspace(13.7 + y_off, 13.7 + y_off, 10), linestyle='solid', linewidth=4, color='gray')\n",
        "    ax.plot(np.linspace(divisions[div_start:div_end:], divisions[div_start:div_end:], 10)+phan_off, np.linspace(4 + y_off, 15 + y_off, 10), linestyle='solid', linewidth=0.5, color='gray')\n",
        "    ax.text(p1+0.85, 16, f'{tuplet_val}', fontdict=font)\n",
        "  if tuplet_val == 4:\n",
        "    ax.plot(np.linspace(pair[0], pair[1], 10)+phan_off, np.linspace(13.7 + y_off, 13.7 + y_off, 10), linestyle='solid', linewidth=4, color='gray')\n",
        "    ax.plot(np.linspace(pair[0], pair[1], 10)+phan_off, np.linspace(12.4 + y_off, 12.4 + y_off, 10), linestyle='solid', linewidth=4, color='gray')\n",
        "    ax.plot(np.linspace(divisions[div_start:div_end:], divisions[div_start:div_end:], 10)+phan_off, np.linspace(4 + y_off, 15 + y_off, 10), linestyle='solid', linewidth=0.5, color='gray')\n",
        "\n",
        "#phantom stems\n",
        "ax.plot(np.linspace(beats, beats, 10)+phan_off, np.linspace(4 + y_off, 17 + y_off, 10), linestyle='solid', linewidth=0.5, color='gray')\n",
        "\n",
        "#phantom beams\n",
        "#TODO: the group ends shouldn't extend if the divisions are not at the end\n",
        "ax.plot(np.linspace(beats[0], divisions[beam_grp_1_end], 10)+phan_off, np.linspace(15 + y_off, 15 + y_off, 10), linestyle='solid', linewidth=4, color='gray')\n",
        "ax.plot(np.linspace(beats[4], divisions[beam_grp_2_end], 10)+phan_off, np.linspace(15 + y_off, 15 + y_off, 10), linestyle='solid', linewidth=4, color='gray')\n",
        "\n",
        "# Add text to the plot\n",
        "# ax.text(beats[0]+0.85, 16, '3', fontdict=font)\n",
        "\n",
        "### TIMBRE ###\n",
        "from matplotlib.colors import LinearSegmentedColormap\n",
        "\n",
        "# Generate x values\n",
        "x = np.linspace((x_data[0])+x_off + 0.075, (x_data[size-1])+x_off+ 0.05, 1000)\n",
        "# Define the parameters for the Gaussian functions\n",
        "mean1, mean2 = 5.0, 6.0\n",
        "std_dev1, std_dev2 = 1.0, 0.2\n",
        "amp1, amp2, amp3 = 0.4, 0.9, 0.5\n",
        "amp1, amp2, amp3 = 12*amp1, 12*amp2, 12*amp3\n",
        "\n",
        "# Calculate the y values using the Gaussian functions\n",
        "y1 = amp1 * np.exp(-(x - mean1)**2 / (2 * std_dev1**2))\n",
        "y2 = amp2 * np.exp(-(x - mean2)**2 / (2 * std_dev2**2))\n",
        "y3 = amp3 * np.exp(-(x - mean2)**2 / (2 * std_dev2**2))\n",
        "\n",
        "\n",
        "# Create the combined curve with multiple maxima\n",
        "y = y1 + y2 + y3\n",
        "y = -y\n",
        "y = y-13.1\n",
        "\n",
        "n = 10\n",
        "\n",
        "# Plot the curve\n",
        "plt.plot(x, y, color='black')\n",
        "\n",
        "# # Generate x values\n",
        "base_x = np.linspace((x_data[0])+x_off + 0.075, (x_data[size-1])+x_off+ 0.05, 1000)\n",
        "base_y = np.linspace(-13.1, -13.1, 1000)\n",
        "\n",
        "interpolations = np.linspace(0, 1, n+2)[1:-1]\n",
        "interpolated_y = [np.interp(x, base_x, base_y + t * (y - base_y)) for t in interpolations]\n",
        "\n",
        "# ######\n",
        "# # Define the color gradient range and values\n",
        "# color_start = 'black'\n",
        "# color_end = 'white'\n",
        "\n",
        "# # Create a linear grayscale color gradient colormap\n",
        "# cmap = LinearSegmentedColormap.from_list('gradient', [color_start, color_end])\n",
        "\n",
        "# # Normalize the y values to [0, 1]\n",
        "# y_norm = (y - np.min(y)) / (np.max(y) - np.min(y))\n",
        "\n",
        "\n",
        "# # Plot the curve with gradual grayscale change using np.scatter\n",
        "# for i, interpolated_curve in enumerate(interpolated_y):\n",
        "#     color = cmap(y_norm)  # Calculate the color based on the normalized y values\n",
        "#     ax.scatter(x, interpolated_curve, color=color, s=1)  # Adjust the marker size (scatter width) using the 's' parameter\n",
        "\n",
        "# Plot the curve and interpolations\n",
        "plt.plot(x, y, color='black', linewidth=1)\n",
        "for i, interpolated_curve in enumerate(interpolated_y):\n",
        "    plt.plot(x, interpolated_curve, color='black', alpha=0.5, linewidth=1)\n",
        "\n",
        "\n",
        "# plt.plot(base_x, base_y, color='black', linewidth=1)  # Adjust the linewidth as desired\n",
        "\n",
        "# set the y-axis limits, adjust layout, and display the plot:\n",
        "warnings.filterwarnings(\"ignore\", category=UserWarning)\n",
        "\n",
        "ax.set_ylim(-35, 29)\n",
        "fig.set_tight_layout(True)\n",
        "plt.yticks([])\n",
        "plt.xticks([])\n",
        "\n",
        "# save if you want\n",
        "#filename = f'notation_{fig_num}.jpg'\n",
        "#plt.savefig(filename, format='jpg')\n",
        "#fig_num += 1\n",
        "\n",
        "plt.show()\n"
      ],
      "metadata": {
        "colab": {
          "base_uri": "https://localhost:8080/",
          "height": 395
        },
        "id": "lJEyr89rUNIV",
        "outputId": "07359580-724a-4832-a891-f6761d1650ef"
      },
      "execution_count": null,
      "outputs": [
        {
          "output_type": "stream",
          "name": "stdout",
          "text": [
            "beats:  [0.0, 1.235, 2.47, 3.705, 4.94, 6.175000000000001, 7.41, 8.645000000000001]\n",
            "phan_off:  0.46\n",
            "beam_grp_1_end:  6\n",
            "beam_grp_2_end:  14\n",
            "divisions:  [0.0, 0.6175, 1.235, 1.8525, 2.47, 3.0875000000000004, 3.705, 4.322500000000001, 4.94, 5.5575, 6.175000000000001, 6.7925, 7.41, 8.0275, 8.645000000000001, 9.262500000000001]\n",
            "beat range:  [1.235, 2.47, 3.705, 4.94, 6.175000000000001, 7.41, 8.645000000000001]\n"
          ]
        },
        {
          "output_type": "display_data",
          "data": {
            "text/plain": [
              "<Figure size 2400x600 with 1 Axes>"
            ],
            "image/png": "[encoded data removed]"
          },
          "metadata": {}
        }
      ]
    },
    {
      "cell_type": "code",
      "source": [
        "# update the slider values\n",
        "update_slider_values(None)"
      ],
      "metadata": {
        "id": "3cntKwxOD80R"
      },
      "execution_count": null,
      "outputs": []
    },
    {
      "cell_type": "markdown",
      "source": [
        "#### Check if the two datasets are of equal size by running the cell below. If they are not equal, you can generate more manually by `running before (cmd/ctrl + F8)` after setting up new slide values, or..."
      ],
      "metadata": {
        "id": "JMoR5TOHnIZy"
      }
    },
    {
      "cell_type": "code",
      "source": [
        "# warn if the slider values are not equal to train_xy values\n",
        "\n",
        "with open('train_xy.json') as file:\n",
        "    train_xy = json.load(file)\n",
        "\n",
        "x_train = train_xy['x']\n",
        "y_train = train_xy['y']\n",
        "\n",
        "with open('slider_values.json') as file:\n",
        "    slider_values = json.load(file)\n",
        "\n",
        "# Check if the sizes are equal\n",
        "if len(x_train) != len(slider_values):\n",
        "    print(\"Sizes of xy_train.json and slider_values.json are not equal.\")\n",
        "else: print(\"You're good to go!\")"
      ],
      "metadata": {
        "id": "Z7J_pBzakFZL",
        "colab": {
          "base_uri": "https://localhost:8080/",
          "height": 240
        },
        "outputId": "83a4608f-f105-496a-e3b4-e70285fd1d70"
      },
      "execution_count": null,
      "outputs": [
        {
          "output_type": "error",
          "ename": "FileNotFoundError",
          "evalue": "ignored",
          "traceback": [
            "\u001b[0;31m---------------------------------------------------------------------------\u001b[0m",
            "\u001b[0;31mFileNotFoundError\u001b[0m                         Traceback (most recent call last)",
            "\u001b[0;32m<ipython-input-169-7b713cdce2e8>\u001b[0m in \u001b[0;36m<cell line: 3>\u001b[0;34m()\u001b[0m\n\u001b[1;32m      1\u001b[0m \u001b[0;31m# warn if the slider values are not equal to train_xy values\u001b[0m\u001b[0;34m\u001b[0m\u001b[0;34m\u001b[0m\u001b[0m\n\u001b[1;32m      2\u001b[0m \u001b[0;34m\u001b[0m\u001b[0m\n\u001b[0;32m----> 3\u001b[0;31m \u001b[0;32mwith\u001b[0m \u001b[0mopen\u001b[0m\u001b[0;34m(\u001b[0m\u001b[0;34m'train_xy.json'\u001b[0m\u001b[0;34m)\u001b[0m \u001b[0;32mas\u001b[0m \u001b[0mfile\u001b[0m\u001b[0;34m:\u001b[0m\u001b[0;34m\u001b[0m\u001b[0;34m\u001b[0m\u001b[0m\n\u001b[0m\u001b[1;32m      4\u001b[0m     \u001b[0mtrain_xy\u001b[0m \u001b[0;34m=\u001b[0m \u001b[0mjson\u001b[0m\u001b[0;34m.\u001b[0m\u001b[0mload\u001b[0m\u001b[0;34m(\u001b[0m\u001b[0mfile\u001b[0m\u001b[0;34m)\u001b[0m\u001b[0;34m\u001b[0m\u001b[0;34m\u001b[0m\u001b[0m\n\u001b[1;32m      5\u001b[0m \u001b[0;34m\u001b[0m\u001b[0m\n",
            "\u001b[0;31mFileNotFoundError\u001b[0m: [Errno 2] No such file or directory: 'train_xy.json'"
          ]
        }
      ]
    },
    {
      "cell_type": "markdown",
      "source": [
        "#### fill with random values by uncommenting and running `after the cell (Ctrl/Cmd+F10)` below."
      ],
      "metadata": {
        "id": "g6-wPRUro_sy"
      }
    },
    {
      "cell_type": "code",
      "source": [
        "with open('train_xy.json') as file:\n",
        "    train_xy = json.load(file)\n",
        "\n",
        "x_train = train_xy['x']\n",
        "y_train = train_xy['y']\n",
        "\n",
        "with open('slider_values.json') as file:\n",
        "    slider_values_data = json.load(file)\n",
        "\n",
        "# check if the sizes are equal\n",
        "if len(x_train) != len(slider_values_data):\n",
        "    # Generate random values to fill slider_values_data\n",
        "    while len(slider_values_data) < len(x_train):\n",
        "        random_value = {\n",
        "            \"speed\": round(random.random(), 2),\n",
        "            \"size\": random.randint(1, 10),\n",
        "            \"range_low\": random.randint(0, 10),\n",
        "            \"range_hi\": random.randint(10, 20),\n",
        "            \"x_offset\": round(random.random(), 2),\n",
        "            \"y_offset\": round(random.random(), 2),\n",
        "            \"rhy_irr\": round(random.random(), 2)\n",
        "        }\n",
        "        slider_values_data.append(random_value)\n",
        "\n",
        "    with open('slider_values.json', 'w') as file:\n",
        "        json.dump(slider_values_data, file, indent=4)\n"
      ],
      "metadata": {
        "id": "3XGuleh9m5ji"
      },
      "execution_count": null,
      "outputs": []
    },
    {
      "cell_type": "markdown",
      "source": [
        "#### JSON files will be uploaded to your Google Drive (permission required)"
      ],
      "metadata": {
        "id": "tFVsv506gjMp"
      }
    },
    {
      "cell_type": "code",
      "source": [
        "# mount Google Drive\n",
        "from google.colab import drive\n",
        "drive.mount('/content/drive')"
      ],
      "metadata": {
        "id": "9HmnoMNvhcVz"
      },
      "execution_count": null,
      "outputs": []
    },
    {
      "cell_type": "code",
      "source": [
        "import shutil\n",
        "\n",
        "# path to the source file\n",
        "source_file_path_1 = '/content/train_xy.json'\n",
        "source_file_path_2 = '/content/slider_values.json'\n",
        "\n",
        "# destination directory in Google Drive\n",
        "destination_directory = '/content/drive/MyDrive'\n",
        "\n",
        "shutil.copy(source_file_path_1, destination_directory)\n",
        "shutil.copy(source_file_path_2, destination_directory)"
      ],
      "metadata": {
        "id": "3r2Q9e2ehgz-"
      },
      "execution_count": null,
      "outputs": []
    },
    {
      "cell_type": "code",
      "source": [
        "import warnings\n",
        "# create the figure and subplot:\n",
        "fig = plt.figure(figsize=(24, 6))\n",
        "ax = plt.subplot(1, 1, 1)\n",
        "\n",
        "# customize the subplot spines\n",
        "ax.spines['top'].set_visible(False)\n",
        "ax.spines['bottom'].set_visible(False)\n",
        "ax.spines['left'].set_visible(False)\n",
        "ax.spines['right'].set_visible(False)\n",
        "\n",
        "# plot the staff lines\n",
        "for i in range(5):\n",
        "    ax.plot(X_1, y_off + Y_1 + i, linestyle='solid', linewidth=0.5, color='black')\n",
        "\n",
        "# plot the treble clef\n",
        "plt.text(0.1, 1.1 + y_off, '&', fontproperties=fontprop1)\n",
        "\n",
        "# plot the measure lines and lower beams:\n",
        "ax.plot(X_2, Y_2, linestyle='solid', linewidth=0.5, color='black')\n",
        "ax.plot(np.linspace((x_data[0])+x_off + 0.075, (x_data[size-1])+x_off+ 0.05, 10), np.linspace(-13.1, -13.1, 10), linestyle='solid', linewidth=4, color='black')\n",
        "\n",
        "# Generate x values\n",
        "x = np.linspace((x_data[0])+x_off + 0.075, (x_data[size-1])+x_off+ 0.05, 1000)\n",
        "# Define the parameters for the Gaussian functions\n",
        "# mean1, mean2 = -1, 1\n",
        "mean1, mean2 = 4.0, 6.0\n",
        "# std_dev1, std_dev2 = 1, 0.5\n",
        "std_dev1, std_dev2 = 1, 0.2\n",
        "# amplitude1, amplitude2 = 1, 0.7\n",
        "amplitude1, amplitude2 = 10, 7\n",
        "\n",
        "\n",
        "# Calculate the y values using the Gaussian functions\n",
        "y1 = amplitude1 * np.exp(-(x - mean1)**2 / (2 * std_dev1**2))\n",
        "y2 = amplitude2 * np.exp(-(x - mean2)**2 / (2 * std_dev2**2))\n",
        "\n",
        "# Create the combined curve with multiple maxima\n",
        "y = y1 + y2\n",
        "y = -y\n",
        "\n",
        "# Plot the curve\n",
        "plt.plot(x, y, color='black')\n",
        "\n",
        "# set the y-axis limits, adjust layout, and display the plot:\n",
        "warnings.filterwarnings(\"ignore\", category=UserWarning)\n",
        "\n",
        "ax.set_ylim(-35, 29)\n",
        "fig.set_tight_layout(True)\n",
        "plt.yticks([])\n",
        "plt.xticks([])\n",
        "\n",
        "plt.show()\n"
      ],
      "metadata": {
        "id": "Key9qeausFxe"
      },
      "execution_count": null,
      "outputs": []
    },
    {
      "cell_type": "code",
      "source": [
        "points = [1, 2, 3, 4, 5, 6, 7, 8, 9]\n",
        "\n",
        "for p1 in points[::2]: #start from every n element\n",
        "  pair = [p1, p1+1] #+2 controls the interval\n",
        "  # pair1 = [p1, p1+1]\n",
        "  # pair2 = [p2, p2+1]\n",
        "  # print(pair1, pair2)\n",
        "  print(pair)\n",
        "\n",
        "# # original example\n",
        "# for p1, p2 in zip(points[::3], points[2::3]):\n",
        "#     pair1 = [p1, p1+1]\n",
        "#     pair2 = [p2-1, p2]\n",
        "#     print(pair1, pair2)\n"
      ],
      "metadata": {
        "id": "GMPIbWRIUcxy"
      },
      "execution_count": null,
      "outputs": []
    },
    {
      "cell_type": "code",
      "source": [
        "print(divisions[::])\n",
        "print(divisions[3::])"
      ],
      "metadata": {
        "colab": {
          "base_uri": "https://localhost:8080/"
        },
        "id": "iUQjE8XIabjG",
        "outputId": "890aca66-fd27-4f01-f369-dee0cf42997f"
      },
      "execution_count": null,
      "outputs": [
        {
          "output_type": "stream",
          "name": "stdout",
          "text": [
            "[0.0, 0.4116666666666667, 0.8233333333333334, 1.235, 1.6466666666666667, 2.0583333333333336, 2.47, 2.881666666666667, 3.2933333333333334, 3.705, 4.116666666666667, 4.528333333333333, 4.94, 5.351666666666667, 5.763333333333334, 6.175, 6.586666666666667, 6.998333333333334, 7.41, 7.821666666666667, 8.233333333333334, 8.645, 9.056666666666667, 9.468333333333334]\n",
            "[1.235, 1.6466666666666667, 2.0583333333333336, 2.47, 2.881666666666667, 3.2933333333333334, 3.705, 4.116666666666667, 4.528333333333333, 4.94, 5.351666666666667, 5.763333333333334, 6.175, 6.586666666666667, 6.998333333333334, 7.41, 7.821666666666667, 8.233333333333334, 8.645, 9.056666666666667, 9.468333333333334]\n"
          ]
        }
      ]
    },
    {
      "cell_type": "code",
      "source": [],
      "metadata": {
        "id": "4iDmWBr9KO5l"
      },
      "execution_count": null,
      "outputs": []
    }
  ]
}