{
  "nbformat": 4,
  "nbformat_minor": 0,
  "metadata": {
    "colab": {
      "provenance": [],
      "machine_shape": "hm",
      "gpuType": "V100",
      "include_colab_link": true
    },
    "kernelspec": {
      "name": "python3",
      "display_name": "Python 3"
    },
    "language_info": {
      "name": "python"
    },
    "widgets": {
      "application/vnd.jupyter.widget-state+json": {
        "be0ce172bc4c4faba7e237b78ca47710": {
          "model_module": "@jupyter-widgets/controls",
          "model_name": "VBoxModel",
          "model_module_version": "1.5.0",
          "state": {
            "_dom_classes": [],
            "_model_module": "@jupyter-widgets/controls",
            "_model_module_version": "1.5.0",
            "_model_name": "VBoxModel",
            "_view_count": null,
            "_view_module": "@jupyter-widgets/controls",
            "_view_module_version": "1.5.0",
            "_view_name": "VBoxView",
            "box_style": "",
            "children": [
              "IPY_MODEL_b5b378746dbf4d6a85ff0dc736ba2aed",
              "IPY_MODEL_9b099177122b47c98baaa5698b7abd60",
              "IPY_MODEL_3b92bcafea11446ca9b6b14dc14c1f9f",
              "IPY_MODEL_3a2f92fbcdb24bd0929a1fbb6ad7f1ba",
              "IPY_MODEL_582c0d166ea04fc48a23c63d521a61e7",
              "IPY_MODEL_0b989f2c058742d4af9cbab0f7f540cd",
              "IPY_MODEL_d18efbfd9dc24e50a53ccfec84678397",
              "IPY_MODEL_091ab1380e114597872fcc5167ddf7e2",
              "IPY_MODEL_0c4aa390f21d47dfa62f9eaebb658dd0",
              "IPY_MODEL_c89f0301df864560b60a55f58801705b"
            ],
            "layout": "IPY_MODEL_9eed75b38819421c872b71eb716ae9d5"
          }
        },
        "b5b378746dbf4d6a85ff0dc736ba2aed": {
          "model_module": "@jupyter-widgets/controls",
          "model_name": "FloatSliderModel",
          "model_module_version": "1.5.0",
          "state": {
            "_dom_classes": [],
            "_model_module": "@jupyter-widgets/controls",
            "_model_module_version": "1.5.0",
            "_model_name": "FloatSliderModel",
            "_view_count": null,
            "_view_module": "@jupyter-widgets/controls",
            "_view_module_version": "1.5.0",
            "_view_name": "FloatSliderView",
            "continuous_update": true,
            "description": "speed:",
            "description_tooltip": null,
            "disabled": false,
            "layout": "IPY_MODEL_4569b97d6b404b1a859c67d211437717",
            "max": 2,
            "min": 0.2,
            "orientation": "horizontal",
            "readout": true,
            "readout_format": ".2f",
            "step": 0.1,
            "style": "IPY_MODEL_6c599d784855433a824a2d0fbf3bfcdb",
            "value": 1
          }
        },
        "9b099177122b47c98baaa5698b7abd60": {
          "model_module": "@jupyter-widgets/controls",
          "model_name": "IntSliderModel",
          "model_module_version": "1.5.0",
          "state": {
            "_dom_classes": [],
            "_model_module": "@jupyter-widgets/controls",
            "_model_module_version": "1.5.0",
            "_model_name": "IntSliderModel",
            "_view_count": null,
            "_view_module": "@jupyter-widgets/controls",
            "_view_module_version": "1.5.0",
            "_view_name": "IntSliderView",
            "continuous_update": true,
            "description": "size:",
            "description_tooltip": null,
            "disabled": false,
            "layout": "IPY_MODEL_4569b97d6b404b1a859c67d211437717",
            "max": 12,
            "min": 2,
            "orientation": "horizontal",
            "readout": true,
            "readout_format": "d",
            "step": 1,
            "style": "IPY_MODEL_4859ea9276c04b4b886d2dbdb38e6a1c",
            "value": 8
          }
        },
        "3b92bcafea11446ca9b6b14dc14c1f9f": {
          "model_module": "@jupyter-widgets/controls",
          "model_name": "IntRangeSliderModel",
          "model_module_version": "1.5.0",
          "state": {
            "_dom_classes": [],
            "_model_module": "@jupyter-widgets/controls",
            "_model_module_version": "1.5.0",
            "_model_name": "IntRangeSliderModel",
            "_view_count": null,
            "_view_module": "@jupyter-widgets/controls",
            "_view_module_version": "1.5.0",
            "_view_name": "IntRangeSliderView",
            "continuous_update": true,
            "description": "range:",
            "description_tooltip": null,
            "disabled": false,
            "layout": "IPY_MODEL_4569b97d6b404b1a859c67d211437717",
            "max": 12,
            "min": 0,
            "orientation": "horizontal",
            "readout": true,
            "readout_format": "d",
            "step": 1,
            "style": "IPY_MODEL_f4fcffc9ca404a53b2b652c53cd30715",
            "value": [
              0,
              12
            ]
          }
        },
        "3a2f92fbcdb24bd0929a1fbb6ad7f1ba": {
          "model_module": "@jupyter-widgets/controls",
          "model_name": "FloatSliderModel",
          "model_module_version": "1.5.0",
          "state": {
            "_dom_classes": [],
            "_model_module": "@jupyter-widgets/controls",
            "_model_module_version": "1.5.0",
            "_model_name": "FloatSliderModel",
            "_view_count": null,
            "_view_module": "@jupyter-widgets/controls",
            "_view_module_version": "1.5.0",
            "_view_name": "FloatSliderView",
            "continuous_update": true,
            "description": "x offset:",
            "description_tooltip": null,
            "disabled": false,
            "layout": "IPY_MODEL_4569b97d6b404b1a859c67d211437717",
            "max": 7,
            "min": 0.25,
            "orientation": "horizontal",
            "readout": true,
            "readout_format": ".2f",
            "step": 0.05,
            "style": "IPY_MODEL_88a56ad04580451e8b47e6ef0e0c6e0a",
            "value": 0.25
          }
        },
        "582c0d166ea04fc48a23c63d521a61e7": {
          "model_module": "@jupyter-widgets/controls",
          "model_name": "FloatSliderModel",
          "model_module_version": "1.5.0",
          "state": {
            "_dom_classes": [],
            "_model_module": "@jupyter-widgets/controls",
            "_model_module_version": "1.5.0",
            "_model_name": "FloatSliderModel",
            "_view_count": null,
            "_view_module": "@jupyter-widgets/controls",
            "_view_module_version": "1.5.0",
            "_view_name": "FloatSliderView",
            "continuous_update": true,
            "description": "y offset:",
            "description_tooltip": null,
            "disabled": false,
            "layout": "IPY_MODEL_4569b97d6b404b1a859c67d211437717",
            "max": 4,
            "min": -4,
            "orientation": "horizontal",
            "readout": true,
            "readout_format": ".2f",
            "step": 0.5,
            "style": "IPY_MODEL_ef71de6071e84a44b2b36f7bfabff32d",
            "value": 0
          }
        },
        "0b989f2c058742d4af9cbab0f7f540cd": {
          "model_module": "@jupyter-widgets/controls",
          "model_name": "FloatSliderModel",
          "model_module_version": "1.5.0",
          "state": {
            "_dom_classes": [],
            "_model_module": "@jupyter-widgets/controls",
            "_model_module_version": "1.5.0",
            "_model_name": "FloatSliderModel",
            "_view_count": null,
            "_view_module": "@jupyter-widgets/controls",
            "_view_module_version": "1.5.0",
            "_view_name": "FloatSliderView",
            "continuous_update": true,
            "description": "rhythmic irregularity:",
            "description_tooltip": null,
            "disabled": false,
            "layout": "IPY_MODEL_4569b97d6b404b1a859c67d211437717",
            "max": 0.5,
            "min": 0,
            "orientation": "horizontal",
            "readout": true,
            "readout_format": ".2f",
            "step": 0.01,
            "style": "IPY_MODEL_3a16f2837a624adeb5720ad95bfd15cc",
            "value": 0
          }
        },
        "d18efbfd9dc24e50a53ccfec84678397": {
          "model_module": "@jupyter-widgets/controls",
          "model_name": "IntSliderModel",
          "model_module_version": "1.5.0",
          "state": {
            "_dom_classes": [],
            "_model_module": "@jupyter-widgets/controls",
            "_model_module_version": "1.5.0",
            "_model_name": "IntSliderModel",
            "_view_count": null,
            "_view_module": "@jupyter-widgets/controls",
            "_view_module_version": "1.5.0",
            "_view_name": "IntSliderView",
            "continuous_update": true,
            "description": "# of chords:",
            "description_tooltip": null,
            "disabled": false,
            "layout": "IPY_MODEL_4569b97d6b404b1a859c67d211437717",
            "max": 8,
            "min": 0,
            "orientation": "horizontal",
            "readout": true,
            "readout_format": "d",
            "step": 1,
            "style": "IPY_MODEL_a8bae41dd2474a9482ad2d8176858e51",
            "value": 8
          }
        },
        "091ab1380e114597872fcc5167ddf7e2": {
          "model_module": "@jupyter-widgets/controls",
          "model_name": "IntSliderModel",
          "model_module_version": "1.5.0",
          "state": {
            "_dom_classes": [],
            "_model_module": "@jupyter-widgets/controls",
            "_model_module_version": "1.5.0",
            "_model_name": "IntSliderModel",
            "_view_count": null,
            "_view_module": "@jupyter-widgets/controls",
            "_view_module_version": "1.5.0",
            "_view_name": "IntSliderView",
            "continuous_update": true,
            "description": "chord size:",
            "description_tooltip": null,
            "disabled": false,
            "layout": "IPY_MODEL_4569b97d6b404b1a859c67d211437717",
            "max": 4,
            "min": 1,
            "orientation": "horizontal",
            "readout": true,
            "readout_format": "d",
            "step": 1,
            "style": "IPY_MODEL_f2acbe54a3eb4aeba9da804b30c21bfd",
            "value": 3
          }
        },
        "0c4aa390f21d47dfa62f9eaebb658dd0": {
          "model_module": "@jupyter-widgets/controls",
          "model_name": "ToggleButtonsModel",
          "model_module_version": "1.5.0",
          "state": {
            "_dom_classes": [],
            "_model_module": "@jupyter-widgets/controls",
            "_model_module_version": "1.5.0",
            "_model_name": "ToggleButtonsModel",
            "_options_labels": [
              "Secundal",
              "Tertian",
              "Quartal",
              "Mixed",
              "Mixed within chord"
            ],
            "_view_count": null,
            "_view_module": "@jupyter-widgets/controls",
            "_view_module_version": "1.5.0",
            "_view_name": "ToggleButtonsView",
            "button_style": "info",
            "description": "chord type:",
            "description_tooltip": null,
            "disabled": false,
            "icons": [],
            "index": 2,
            "layout": "IPY_MODEL_80d50041c8ac4b90824abd6a68ca6d62",
            "style": "IPY_MODEL_cd2599f749e84a6981bd3489783c110a",
            "tooltips": []
          }
        },
        "c89f0301df864560b60a55f58801705b": {
          "model_module": "@jupyter-widgets/controls",
          "model_name": "ToggleButtonsModel",
          "model_module_version": "1.5.0",
          "state": {
            "_dom_classes": [],
            "_model_module": "@jupyter-widgets/controls",
            "_model_module_version": "1.5.0",
            "_model_name": "ToggleButtonsModel",
            "_options_labels": [
              "Mixed",
              "Upwards",
              "Downwards"
            ],
            "_view_count": null,
            "_view_module": "@jupyter-widgets/controls",
            "_view_module_version": "1.5.0",
            "_view_name": "ToggleButtonsView",
            "button_style": "info",
            "description": "directionality:",
            "description_tooltip": null,
            "disabled": false,
            "icons": [],
            "index": 0,
            "layout": "IPY_MODEL_a04bf8222a8c412abd9b75283930a71d",
            "style": "IPY_MODEL_1565db64f552468a87c7d3d6eddca853",
            "tooltips": []
          }
        },
        "9eed75b38819421c872b71eb716ae9d5": {
          "model_module": "@jupyter-widgets/base",
          "model_name": "LayoutModel",
          "model_module_version": "1.2.0",
          "state": {
            "_model_module": "@jupyter-widgets/base",
            "_model_module_version": "1.2.0",
            "_model_name": "LayoutModel",
            "_view_count": null,
            "_view_module": "@jupyter-widgets/base",
            "_view_module_version": "1.2.0",
            "_view_name": "LayoutView",
            "align_content": null,
            "align_items": null,
            "align_self": null,
            "border": null,
            "bottom": null,
            "display": null,
            "flex": null,
            "flex_flow": null,
            "grid_area": null,
            "grid_auto_columns": null,
            "grid_auto_flow": null,
            "grid_auto_rows": null,
            "grid_column": null,
            "grid_gap": null,
            "grid_row": null,
            "grid_template_areas": null,
            "grid_template_columns": null,
            "grid_template_rows": null,
            "height": null,
            "justify_content": null,
            "justify_items": null,
            "left": null,
            "margin": null,
            "max_height": null,
            "max_width": null,
            "min_height": null,
            "min_width": null,
            "object_fit": null,
            "object_position": null,
            "order": null,
            "overflow": null,
            "overflow_x": null,
            "overflow_y": null,
            "padding": null,
            "right": null,
            "top": null,
            "visibility": null,
            "width": null
          }
        },
        "4569b97d6b404b1a859c67d211437717": {
          "model_module": "@jupyter-widgets/base",
          "model_name": "LayoutModel",
          "model_module_version": "1.2.0",
          "state": {
            "_model_module": "@jupyter-widgets/base",
            "_model_module_version": "1.2.0",
            "_model_name": "LayoutModel",
            "_view_count": null,
            "_view_module": "@jupyter-widgets/base",
            "_view_module_version": "1.2.0",
            "_view_name": "LayoutView",
            "align_content": null,
            "align_items": null,
            "align_self": null,
            "border": null,
            "bottom": null,
            "display": null,
            "flex": null,
            "flex_flow": null,
            "grid_area": null,
            "grid_auto_columns": null,
            "grid_auto_flow": null,
            "grid_auto_rows": null,
            "grid_column": null,
            "grid_gap": null,
            "grid_row": null,
            "grid_template_areas": null,
            "grid_template_columns": null,
            "grid_template_rows": null,
            "height": null,
            "justify_content": null,
            "justify_items": null,
            "left": null,
            "margin": "0 0 10px 0",
            "max_height": null,
            "max_width": null,
            "min_height": null,
            "min_width": null,
            "object_fit": null,
            "object_position": null,
            "order": null,
            "overflow": null,
            "overflow_x": null,
            "overflow_y": null,
            "padding": null,
            "right": null,
            "top": null,
            "visibility": null,
            "width": "40%"
          }
        },
        "6c599d784855433a824a2d0fbf3bfcdb": {
          "model_module": "@jupyter-widgets/controls",
          "model_name": "SliderStyleModel",
          "model_module_version": "1.5.0",
          "state": {
            "_model_module": "@jupyter-widgets/controls",
            "_model_module_version": "1.5.0",
            "_model_name": "SliderStyleModel",
            "_view_count": null,
            "_view_module": "@jupyter-widgets/base",
            "_view_module_version": "1.2.0",
            "_view_name": "StyleView",
            "description_width": "150px",
            "handle_color": null
          }
        },
        "4859ea9276c04b4b886d2dbdb38e6a1c": {
          "model_module": "@jupyter-widgets/controls",
          "model_name": "SliderStyleModel",
          "model_module_version": "1.5.0",
          "state": {
            "_model_module": "@jupyter-widgets/controls",
            "_model_module_version": "1.5.0",
            "_model_name": "SliderStyleModel",
            "_view_count": null,
            "_view_module": "@jupyter-widgets/base",
            "_view_module_version": "1.2.0",
            "_view_name": "StyleView",
            "description_width": "150px",
            "handle_color": null
          }
        },
        "f4fcffc9ca404a53b2b652c53cd30715": {
          "model_module": "@jupyter-widgets/controls",
          "model_name": "SliderStyleModel",
          "model_module_version": "1.5.0",
          "state": {
            "_model_module": "@jupyter-widgets/controls",
            "_model_module_version": "1.5.0",
            "_model_name": "SliderStyleModel",
            "_view_count": null,
            "_view_module": "@jupyter-widgets/base",
            "_view_module_version": "1.2.0",
            "_view_name": "StyleView",
            "description_width": "150px",
            "handle_color": null
          }
        },
        "88a56ad04580451e8b47e6ef0e0c6e0a": {
          "model_module": "@jupyter-widgets/controls",
          "model_name": "SliderStyleModel",
          "model_module_version": "1.5.0",
          "state": {
            "_model_module": "@jupyter-widgets/controls",
            "_model_module_version": "1.5.0",
            "_model_name": "SliderStyleModel",
            "_view_count": null,
            "_view_module": "@jupyter-widgets/base",
            "_view_module_version": "1.2.0",
            "_view_name": "StyleView",
            "description_width": "150px",
            "handle_color": null
          }
        },
        "ef71de6071e84a44b2b36f7bfabff32d": {
          "model_module": "@jupyter-widgets/controls",
          "model_name": "SliderStyleModel",
          "model_module_version": "1.5.0",
          "state": {
            "_model_module": "@jupyter-widgets/controls",
            "_model_module_version": "1.5.0",
            "_model_name": "SliderStyleModel",
            "_view_count": null,
            "_view_module": "@jupyter-widgets/base",
            "_view_module_version": "1.2.0",
            "_view_name": "StyleView",
            "description_width": "150px",
            "handle_color": null
          }
        },
        "3a16f2837a624adeb5720ad95bfd15cc": {
          "model_module": "@jupyter-widgets/controls",
          "model_name": "SliderStyleModel",
          "model_module_version": "1.5.0",
          "state": {
            "_model_module": "@jupyter-widgets/controls",
            "_model_module_version": "1.5.0",
            "_model_name": "SliderStyleModel",
            "_view_count": null,
            "_view_module": "@jupyter-widgets/base",
            "_view_module_version": "1.2.0",
            "_view_name": "StyleView",
            "description_width": "150px",
            "handle_color": null
          }
        },
        "a8bae41dd2474a9482ad2d8176858e51": {
          "model_module": "@jupyter-widgets/controls",
          "model_name": "SliderStyleModel",
          "model_module_version": "1.5.0",
          "state": {
            "_model_module": "@jupyter-widgets/controls",
            "_model_module_version": "1.5.0",
            "_model_name": "SliderStyleModel",
            "_view_count": null,
            "_view_module": "@jupyter-widgets/base",
            "_view_module_version": "1.2.0",
            "_view_name": "StyleView",
            "description_width": "150px",
            "handle_color": null
          }
        },
        "f2acbe54a3eb4aeba9da804b30c21bfd": {
          "model_module": "@jupyter-widgets/controls",
          "model_name": "SliderStyleModel",
          "model_module_version": "1.5.0",
          "state": {
            "_model_module": "@jupyter-widgets/controls",
            "_model_module_version": "1.5.0",
            "_model_name": "SliderStyleModel",
            "_view_count": null,
            "_view_module": "@jupyter-widgets/base",
            "_view_module_version": "1.2.0",
            "_view_name": "StyleView",
            "description_width": "150px",
            "handle_color": null
          }
        },
        "80d50041c8ac4b90824abd6a68ca6d62": {
          "model_module": "@jupyter-widgets/base",
          "model_name": "LayoutModel",
          "model_module_version": "1.2.0",
          "state": {
            "_model_module": "@jupyter-widgets/base",
            "_model_module_version": "1.2.0",
            "_model_name": "LayoutModel",
            "_view_count": null,
            "_view_module": "@jupyter-widgets/base",
            "_view_module_version": "1.2.0",
            "_view_name": "LayoutView",
            "align_content": null,
            "align_items": null,
            "align_self": null,
            "border": null,
            "bottom": null,
            "display": null,
            "flex": null,
            "flex_flow": null,
            "grid_area": null,
            "grid_auto_columns": null,
            "grid_auto_flow": null,
            "grid_auto_rows": null,
            "grid_column": null,
            "grid_gap": null,
            "grid_row": null,
            "grid_template_areas": null,
            "grid_template_columns": null,
            "grid_template_rows": null,
            "height": null,
            "justify_content": null,
            "justify_items": null,
            "left": null,
            "margin": null,
            "max_height": null,
            "max_width": null,
            "min_height": null,
            "min_width": null,
            "object_fit": null,
            "object_position": null,
            "order": null,
            "overflow": null,
            "overflow_x": null,
            "overflow_y": null,
            "padding": null,
            "right": null,
            "top": null,
            "visibility": null,
            "width": null
          }
        },
        "cd2599f749e84a6981bd3489783c110a": {
          "model_module": "@jupyter-widgets/controls",
          "model_name": "ToggleButtonsStyleModel",
          "model_module_version": "1.5.0",
          "state": {
            "_model_module": "@jupyter-widgets/controls",
            "_model_module_version": "1.5.0",
            "_model_name": "ToggleButtonsStyleModel",
            "_view_count": null,
            "_view_module": "@jupyter-widgets/base",
            "_view_module_version": "1.2.0",
            "_view_name": "StyleView",
            "button_width": "",
            "description_width": "",
            "font_weight": ""
          }
        },
        "a04bf8222a8c412abd9b75283930a71d": {
          "model_module": "@jupyter-widgets/base",
          "model_name": "LayoutModel",
          "model_module_version": "1.2.0",
          "state": {
            "_model_module": "@jupyter-widgets/base",
            "_model_module_version": "1.2.0",
            "_model_name": "LayoutModel",
            "_view_count": null,
            "_view_module": "@jupyter-widgets/base",
            "_view_module_version": "1.2.0",
            "_view_name": "LayoutView",
            "align_content": null,
            "align_items": null,
            "align_self": null,
            "border": null,
            "bottom": null,
            "display": null,
            "flex": null,
            "flex_flow": null,
            "grid_area": null,
            "grid_auto_columns": null,
            "grid_auto_flow": null,
            "grid_auto_rows": null,
            "grid_column": null,
            "grid_gap": null,
            "grid_row": null,
            "grid_template_areas": null,
            "grid_template_columns": null,
            "grid_template_rows": null,
            "height": null,
            "justify_content": null,
            "justify_items": null,
            "left": null,
            "margin": null,
            "max_height": null,
            "max_width": null,
            "min_height": null,
            "min_width": null,
            "object_fit": null,
            "object_position": null,
            "order": null,
            "overflow": null,
            "overflow_x": null,
            "overflow_y": null,
            "padding": null,
            "right": null,
            "top": null,
            "visibility": null,
            "width": null
          }
        },
        "1565db64f552468a87c7d3d6eddca853": {
          "model_module": "@jupyter-widgets/controls",
          "model_name": "ToggleButtonsStyleModel",
          "model_module_version": "1.5.0",
          "state": {
            "_model_module": "@jupyter-widgets/controls",
            "_model_module_version": "1.5.0",
            "_model_name": "ToggleButtonsStyleModel",
            "_view_count": null,
            "_view_module": "@jupyter-widgets/base",
            "_view_module_version": "1.2.0",
            "_view_name": "StyleView",
            "button_width": "",
            "description_width": "",
            "font_weight": ""
          }
        }
      }
    }
  },
  "cells": [
    {
      "cell_type": "markdown",
      "metadata": {
        "id": "view-in-github",
        "colab_type": "text"
      },
      "source": [
        "<a href=\"https://colab.research.google.com/github/hayakzan/MLP-notations/blob/main/MLP_notations_GENERATING_DATA.ipynb\" target=\"_parent\"><img src=\"https://colab.research.google.com/assets/colab-badge.svg\" alt=\"Open In Colab\"/></a>"
      ]
    },
    {
      "cell_type": "markdown",
      "source": [
        "#### Before running the code\n",
        "#### - Upload the notation fonts `/fonts/OpusStd.ttf` and `/fonts/OpusSpecialStd.ttf` into `/content` folder\n",
        "#### - Upload `/xydata/train_xy.json` into `/content` folder\n"
      ],
      "metadata": {
        "id": "i-URQfyhgjLF"
      }
    },
    {
      "cell_type": "code",
      "execution_count": 24,
      "metadata": {
        "id": "AYycwWhBOXcG"
      },
      "outputs": [],
      "source": [
        "# -*- coding: utf-8 -*-\n",
        "\n",
        "# dependencies\n",
        "from __future__ import division\n",
        "import numpy as np\n",
        "import matplotlib\n",
        "import matplotlib.pyplot as plt\n",
        "import matplotlib.font_manager as fm\n",
        "import random\n",
        "from matplotlib.lines import Line2D\n",
        "from scipy import interpolate\n",
        "import csv\n",
        "import pandas as pd\n",
        "import json\n"
      ]
    },
    {
      "cell_type": "code",
      "source": [
        "global fig_num\n",
        "fig_num = 1\n",
        "\n",
        "font_dirs = [\"/content\"]\n",
        "font_files = fm.findSystemFonts(fontpaths=font_dirs)\n",
        "\n",
        "fontprop1 = fm.FontProperties(fname=font_files[1], size=24)\n",
        "fontprop2 = fm.FontProperties(fname=font_files[0], size=25)\n",
        "\n"
      ],
      "metadata": {
        "id": "gldXCx8lPD8K"
      },
      "execution_count": 35,
      "outputs": []
    },
    {
      "cell_type": "markdown",
      "source": [
        "#### Create a JSON file for the parameters"
      ],
      "metadata": {
        "id": "WlVuW2vnH_QX"
      }
    },
    {
      "cell_type": "code",
      "source": [
        "# Create a list to store the slider values\n",
        "slider_values_list = []\n",
        "\n",
        "# Function to update the slider values\n",
        "def update_slider_values(change):\n",
        "    # Create a dictionary to store the slider values\n",
        "    slider_values = {\n",
        "        \"speed\": speed_slider.value,\n",
        "        \"size\": size_slider.value,\n",
        "        \"range_low\": range_slider.value[0],\n",
        "        \"range_hi\": range_slider.value[1],\n",
        "        \"x_offset\": x_offset_slider.value,\n",
        "        \"y_offset\": y_offset_slider.value,\n",
        "        \"rhy_irr\": irregularity_slider.value,\n",
        "        \"chord_num\": chord_num_slider.value,\n",
        "        \"chord_size\": chord_size_slider.value\n",
        "    }\n",
        "\n",
        "    # Append the slider values to the list\n",
        "    slider_values_list.append(slider_values)\n",
        "\n",
        "    # Write the updated data to the file\n",
        "    with open(\"slider_values.json\", \"w\") as file:\n",
        "        json.dump(slider_values_list, file, indent=4)\n"
      ],
      "metadata": {
        "id": "nlvJrvG5H3l9"
      },
      "execution_count": 26,
      "outputs": []
    },
    {
      "cell_type": "markdown",
      "source": [
        "#### Use the sliders to set up notational parameters\n"
      ],
      "metadata": {
        "id": "nqn0WAfSGQ5S"
      }
    },
    {
      "cell_type": "code",
      "source": [
        "import ipywidgets as widgets\n",
        "from IPython.display import display\n",
        "\n",
        "layout = widgets.Layout(margin='0 0 10px 0', width='40%')\n",
        "\n",
        "# Create a slider widget\n",
        "speed_slider = widgets.FloatSlider(value=1.0, min=0.2, max=2.0, step=0.1, description='speed:', style={'description_width': '150px'}, layout=layout)\n",
        "size_slider = widgets.IntSlider(value=8, min=2, max=12, step=1, description='size:', style={'description_width': '150px'}, layout=layout)\n",
        "range_slider = widgets.IntRangeSlider(value=[0, 12], min=0, max=12, step=1, description='range:', style={'description_width': '150px'}, layout=layout)\n",
        "x_offset_slider = widgets.FloatSlider(value=0.25, min=0.25, max=7.0, step=0.05, description='x offset:', style={'description_width': '150px'}, layout=layout)\n",
        "y_offset_slider = widgets.FloatSlider(value=0.0, min=-4.0, max=4.0, step=0.5, description='y offset:', style={'description_width': '150px'}, layout=layout)\n",
        "irregularity_slider = widgets.FloatSlider(value=0.0, min=0.0, max=0.5, step=0.01, description='rhythmic irregularity:', style={'description_width': '150px'}, layout=layout)\n",
        "chord_num_slider = widgets.IntSlider(value=0, min=0, max=size_slider.value, step=1, description='# of chords:', style={'description_width': '150px'}, layout=layout)\n",
        "chord_size_slider = widgets.IntSlider(value=1, min=1, max=4, step=1, description='chord size:', style={'description_width': '150px'}, layout=layout)\n",
        "chord_type_button = widgets.ToggleButtons(options=['Secundal', 'Tertian', 'Quartal', 'Mixed', 'Mixed within chord'], description='chord type:', disabled=False, button_style='info')\n",
        "direction_box = widgets.ToggleButtons(options=['Mixed', 'Upwards', 'Downwards'], description='directionality:', disabled=False, button_style='info')\n",
        "#poly_box = widgets.Checkbox(value=False, description='toggle polyphony', disabled=False, indent=True, layout=layout)\n",
        "\n",
        "slider_box = widgets.VBox([speed_slider, size_slider, range_slider, x_offset_slider, y_offset_slider, irregularity_slider, chord_num_slider, chord_size_slider, chord_type_button, direction_box])\n",
        "\n",
        "# Display the slider widget\n",
        "display(slider_box)\n"
      ],
      "metadata": {
        "colab": {
          "base_uri": "https://localhost:8080/",
          "height": 387,
          "referenced_widgets": [
            "be0ce172bc4c4faba7e237b78ca47710",
            "b5b378746dbf4d6a85ff0dc736ba2aed",
            "9b099177122b47c98baaa5698b7abd60",
            "3b92bcafea11446ca9b6b14dc14c1f9f",
            "3a2f92fbcdb24bd0929a1fbb6ad7f1ba",
            "582c0d166ea04fc48a23c63d521a61e7",
            "0b989f2c058742d4af9cbab0f7f540cd",
            "d18efbfd9dc24e50a53ccfec84678397",
            "091ab1380e114597872fcc5167ddf7e2",
            "0c4aa390f21d47dfa62f9eaebb658dd0",
            "c89f0301df864560b60a55f58801705b",
            "9eed75b38819421c872b71eb716ae9d5",
            "4569b97d6b404b1a859c67d211437717",
            "6c599d784855433a824a2d0fbf3bfcdb",
            "4859ea9276c04b4b886d2dbdb38e6a1c",
            "f4fcffc9ca404a53b2b652c53cd30715",
            "88a56ad04580451e8b47e6ef0e0c6e0a",
            "ef71de6071e84a44b2b36f7bfabff32d",
            "3a16f2837a624adeb5720ad95bfd15cc",
            "a8bae41dd2474a9482ad2d8176858e51",
            "f2acbe54a3eb4aeba9da804b30c21bfd",
            "80d50041c8ac4b90824abd6a68ca6d62",
            "cd2599f749e84a6981bd3489783c110a",
            "a04bf8222a8c412abd9b75283930a71d",
            "1565db64f552468a87c7d3d6eddca853"
          ]
        },
        "id": "WgES_KJ6Dko3",
        "outputId": "082448ee-b73e-4396-8b4f-7fc613f8d208"
      },
      "execution_count": 27,
      "outputs": [
        {
          "output_type": "display_data",
          "data": {
            "text/plain": [
              "VBox(children=(FloatSlider(value=1.0, description='speed:', layout=Layout(margin='0 0 10px 0', width='40%'), m…"
            ],
            "application/vnd.jupyter.widget-view+json": {
              "version_major": 2,
              "version_minor": 0,
              "model_id": "be0ce172bc4c4faba7e237b78ca47710"
            }
          },
          "metadata": {}
        }
      ]
    },
    {
      "cell_type": "markdown",
      "source": [
        "#### After the initial run, run after here (`Cmd/Ctrl+F10`) after each new slider setting (no need to re-run the slider cell). This will add new data into `slider_values.json`"
      ],
      "metadata": {
        "id": "w4uf2J_BfyoM"
      }
    },
    {
      "cell_type": "code",
      "source": [
        "# constants & variables\n",
        "seed_value = 1234\n",
        "np.random.seed(seed_value)\n",
        "\n",
        "phan_off = 0.25\n",
        "x_off = x_offset_slider.value\n",
        "y_off = 0.0\n",
        "\n",
        "# staff lines\n",
        "X_1, Y_1 = np.linspace(0.06, 10.345, 10), np.zeros(10)\n",
        "# measure lines\n",
        "X_2, Y_2 = np.linspace(0.06, 0.06, 10), np.linspace(4, 0, 10)\n",
        "# phantoms\n",
        "phantoms = [1, 2, 2.5, 3, 4, 5, 6, 7, 8]\n",
        "\n",
        "# notes:\n",
        "noteheads = ['f']\n",
        "notes = []\n",
        "accidentals = []\n",
        "acc_sym = ['n','#','b']\n",
        "\n",
        "notes.append(noteheads[0])\n",
        "\n",
        "# arrays for data:\n",
        "rhy_map = []\n",
        "pi_map = []\n",
        "\n"
      ],
      "metadata": {
        "id": "UbL48mDdPuds"
      },
      "execution_count": 28,
      "outputs": []
    },
    {
      "cell_type": "code",
      "source": [
        "# dicts\n",
        "pha_dict = {1: phan_off, 2: 1.235 + phan_off, 2.5: (1.235 + 0.6175) + phan_off, 3: (1.235 * 2) + phan_off, 4: (1.235 * 3) + phan_off, 5: (1.235 * 4) + phan_off, 6: (1.235 * 5) + phan_off, 7: (1.235 * 6) + phan_off, 8: (1.235 * 7) + phan_off}\n"
      ],
      "metadata": {
        "id": "SeHNUVynRa-8"
      },
      "execution_count": 29,
      "outputs": []
    },
    {
      "cell_type": "code",
      "source": [
        "def paramMapping(pos, maptype, mini, maxi, rnd):\n",
        "    min_pos = min(pos)\n",
        "    max_pos = max(pos)\n",
        "    if min_pos == max_pos:\n",
        "        # Handle case when all input values are the same\n",
        "        mapped_value = round((mini + maxi) / 2, rnd)\n",
        "        maptype.extend([mapped_value] * len(pos))\n",
        "    else:\n",
        "        for i in range(size):\n",
        "            mapped_value = round((maxi - mini) * ((pos[i] - min_pos) / (max_pos - min_pos)) + mini, rnd)\n",
        "            maptype.append(mapped_value)\n"
      ],
      "metadata": {
        "id": "skQWuOksRj0-"
      },
      "execution_count": 30,
      "outputs": []
    },
    {
      "cell_type": "code",
      "source": [
        "## input etc. TODO: dataset input option\n",
        "\n",
        "size = size_slider.value\n",
        "\n",
        "#raw_data = pd.read_csv(\"/content/src/pix.csv\", converters={\"0\": int})\n",
        "#chars = raw_data[\"0\"].values.tolist()\n",
        "\n",
        "# Generate random values\n",
        "range_slider_min = range_slider.value[0]\n",
        "range_slider_max = range_slider.value[1]\n",
        "raw_data = np.random.randint(low=range_slider_min, high=range_slider_max, size=size)\n"
      ],
      "metadata": {
        "id": "N3IfFu7uRoME"
      },
      "execution_count": 31,
      "outputs": []
    },
    {
      "cell_type": "code",
      "source": [
        "## Speed / rhythmic irregularity / textural direction\n",
        "\n",
        "speed = speed_slider.value\n",
        "mean = 0\n",
        "std_dev = irregularity_slider.value\n",
        "\n",
        "x_data = list(range(size))\n",
        "# Add randomness\n",
        "x_data = [x + np.random.normal(mean, std_dev) for x in x_data]\n",
        "x_data = [i*speed for i in x_data]\n",
        "\n",
        "y_data = raw_data\n",
        "\n",
        "if direction_box.value == 'Mixed':\n",
        "  pass\n",
        "elif direction_box.value == 'Upwards':\n",
        "  y_data = sorted(raw_data)\n",
        "elif direction_box.value == 'Downwards':\n",
        "  y_data = sorted(raw_data, reverse=True)\n",
        "else:\n",
        "    pass\n",
        "\n",
        "\n",
        "# print(\"x_data: \", x_data)\n",
        "# print(\"y_data: \", y_data)"
      ],
      "metadata": {
        "id": "fHkFXo5dR9P2"
      },
      "execution_count": 32,
      "outputs": []
    },
    {
      "cell_type": "code",
      "source": [
        "# perform mapping\n",
        "# paramMapping(x_pos, rhy_map, 0.15, 1.85, 2)\n",
        "# paramMapping(y_pos, pi_map, 68.0, 70.0, 0)\n",
        "phan = [pha_dict[i] for i in phantoms] #do we need a dictionary for phantoms?\n",
        "# pitches = [pitch_dict[i] for i in y_data]\n",
        "pitches = y_data\n",
        "\n",
        "# print(\"pitches: \", pitches)\n",
        "# print(\"rhythms: \", x_data)\n",
        "acc_sym[:2]"
      ],
      "metadata": {
        "colab": {
          "base_uri": "https://localhost:8080/"
        },
        "id": "wm2tom9NULcl",
        "outputId": "7eb7b8a3-9a17-45b6-ec5c-663ba644429c"
      },
      "execution_count": 33,
      "outputs": [
        {
          "output_type": "execute_result",
          "data": {
            "text/plain": [
              "['n', '#']"
            ]
          },
          "metadata": {},
          "execution_count": 33
        }
      ]
    },
    {
      "cell_type": "markdown",
      "source": [
        "#### Generate the notation"
      ],
      "metadata": {
        "id": "MrjlAafGpexl"
      }
    },
    {
      "cell_type": "code",
      "source": [
        "import warnings\n",
        "# global secundal_offset\n",
        "secundal_offset = 0\n",
        "# create the figure and subplot:\n",
        "fig = plt.figure(figsize=(24, 6))\n",
        "ax = plt.subplot(1, 1, 1)\n",
        "\n",
        "# customize the subplot spines\n",
        "ax.spines['top'].set_visible(False)\n",
        "ax.spines['bottom'].set_visible(False)\n",
        "ax.spines['left'].set_visible(False)\n",
        "ax.spines['right'].set_visible(False)\n",
        "\n",
        "accidentals = []\n",
        "chord_type_list = []\n",
        "\n",
        "for j in range(size):\n",
        "    # no sharps on Es in this context\n",
        "    if pitches[j] % 3.5 == 0.0:\n",
        "      accidentals.append(random.choice([acc_sym[0], acc_sym[2]]))\n",
        "    # no flats on Fs in this context\n",
        "    elif pitches[j] % 3.5 == 0.5:\n",
        "      accidentals.append(random.choice(acc_sym[:2]))\n",
        "    # no sharps on Bs in this context\n",
        "    elif pitches[j] % 3.5 == 2.0:\n",
        "      accidentals.append(random.choice([acc_sym[0], acc_sym[2]]))\n",
        "    # no flats on Cs in this context\n",
        "    elif pitches[j] % 3.5 == 2.5:\n",
        "      accidentals.append(random.choice(acc_sym[:2]))\n",
        "    else:\n",
        "      accidentals.append(random.choice(acc_sym))\n",
        "\n",
        "# plot the notation\n",
        "\n",
        "# chords #TODO: secundal clashes\n",
        "chord_indices = random.sample(range(0, size), chord_num_slider.value)\n",
        "\n",
        "for chord in chord_indices:\n",
        "  for i in range(1, chord_size_slider.value):\n",
        "    if chord_type_button.value == 'Secundal':\n",
        "      chord_type = 0.5\n",
        "      secundal_offset = 0.03\n",
        "      plt.text((x_data[chord] + 0.035)+x_off-secundal_offset, pitches[chord]+pitch_offset-(i*chord_type), notes[0], fontproperties=fontprop2, color='black')\n",
        "      plt.text((x_data[chord] - 0.025)+x_off-secundal_offset, pitches[chord]+pitch_offset-(i*chord_type), accidentals[chord], fontproperties=fontprop1, color='black')\n",
        "\n",
        "    elif chord_type_button.value == 'Tertian':\n",
        "      chord_type = 1.0\n",
        "      secundal_offset = 0.0\n",
        "      plt.text((x_data[chord] + 0.035)+x_off, pitches[chord]+pitch_offset-(i*chord_type), notes[0], fontproperties=fontprop2, color='black')\n",
        "      plt.text((x_data[chord] - 0.025)+x_off, pitches[chord]+pitch_offset-(i*chord_type), accidentals[chord], fontproperties=fontprop1, color='black')\n",
        "\n",
        "    elif chord_type_button.value == 'Quartal':\n",
        "      chord_type = 1.45\n",
        "      secundal_offset = 0.0\n",
        "      plt.text((x_data[chord] + 0.035)+x_off, pitches[chord]+pitch_offset-(i*chord_type), notes[0], fontproperties=fontprop2, color='black')\n",
        "      plt.text((x_data[chord] - 0.025)+x_off, pitches[chord]+pitch_offset-(i*chord_type), accidentals[chord], fontproperties=fontprop1, color='black')\n",
        "\n",
        "    elif chord_type_button.value == 'Mixed':\n",
        "      plt.text((x_data[chord] + 0.035)+x_off, pitches[chord]+pitch_offset-(i*chord_type_list[chord]), notes[0], fontproperties=fontprop2, color='black')\n",
        "      plt.text((x_data[chord] - 0.025)+x_off, pitches[chord]+pitch_offset-(i*chord_type_list[chord]), accidentals[chord], fontproperties=fontprop1, color='black')\n",
        "\n",
        "    elif chord_type_button.value == 'Mixed within chord':\n",
        "      chord_type = random.choice([0.5, 1.0, 1.45])\n",
        "      plt.text((x_data[chord] + 0.035)+x_off, pitches[chord]+pitch_offset-(i*chord_type), notes[0], fontproperties=fontprop2, color='black')\n",
        "      plt.text((x_data[chord] - 0.025)+x_off, pitches[chord]+pitch_offset-(i*chord_type), accidentals[chord], fontproperties=fontprop1, color='black')\n",
        "\n",
        "for i in range(size):\n",
        "    pitch = pitches[i]+y_offset_slider.value\n",
        "    rhythm = x_data[i]\n",
        "    accidental = accidentals[i]\n",
        "    oct_add = 0\n",
        "    ledger_off_low = (pitch+pitch_offset)+0.55\n",
        "    ledger_off_hi = (pitch+pitch_offset)-4.45\n",
        "    chord_type_list.append(random.choice([0.5, 1.0, 1.45]))\n",
        "\n",
        "\n",
        "    # ledger lines\n",
        "    L1_x, L1_y = np.linspace(rhythm+x_off+0.01, rhythm++x_off+0.11, 10), np.full((10, ), ledger_off_low)\n",
        "    L2_x, L2_y = np.linspace(rhythm+x_off+0.01, rhythm++x_off+0.11, 10), np.full((10, ), ledger_off_hi)\n",
        "\n",
        "    if pitch < 3.0 and (pitch % 1) == 0.0:\n",
        "      for i in range(5):\n",
        "        ax.plot(L1_x, L1_y + i, linestyle='solid', linewidth=0.5, color='black')\n",
        "    elif pitch < 3.0 and (pitch % 1) != 0.0:\n",
        "      for i in range(5):\n",
        "        ax.plot(L1_x, L1_y-0.5 + i, linestyle='solid', linewidth=0.5, color='black')\n",
        "    if pitch > 8.0 and (pitch % 1) == 0.0:\n",
        "      for i in range(5):\n",
        "        ax.plot(L2_x, L2_y + i, linestyle='solid', linewidth=0.5, color='black')\n",
        "    elif pitch > 8.0 and (pitch % 1) != 0.0:\n",
        "      for i in range(5):\n",
        "        ax.plot(L2_x, L2_y+0.5 + i, linestyle='solid', linewidth=0.5, color='black')\n",
        "\n",
        "    # draw the notation\n",
        "    plt.text((rhythm + 0.035)+x_off+secundal_offset, pitch+pitch_offset, notes[0], fontproperties=fontprop2, color='black')\n",
        "    plt.text((rhythm - 0.025)+x_off+secundal_offset, pitch+pitch_offset, accidental, fontproperties=fontprop1, color='black')\n",
        "    ax.plot(np.linspace(rhythm+x_off + 0.06, rhythm+x_off + 0.06, 10), np.linspace((pitch+pitch_offset), -13.3, 10), linestyle='solid', linewidth=0.5, color='black')\n",
        "# plot the staff lines\n",
        "for i in range(5):\n",
        "    ax.plot(X_1, y_off + Y_1 + i, linestyle='solid', linewidth=0.5, color='black')\n",
        "\n",
        "# plot the treble clef\n",
        "plt.text(0.1, 1.1 + y_off, '&', fontproperties=fontprop1)\n",
        "\n",
        "# plot the measure lines and lower beams:\n",
        "ax.plot(X_2, Y_2, linestyle='solid', linewidth=0.5, color='black')\n",
        "ax.plot(np.linspace((x_data[0])+x_off + 0.075, (x_data[size-1])+x_off+ 0.05, 10), np.linspace(-13.1, -13.1, 10), linestyle='solid', linewidth=4, color='black')\n",
        "\n",
        "\n",
        "# phantom rhythms:\n",
        "for i in range(2):\n",
        "    ax.plot(np.linspace(phan[i] + 0.06, phan[i] + 0.06, 10), np.linspace(4 + y_off, 15 + y_off, 10), linestyle='solid', linewidth=0.5, color='gray')\n",
        "for i in range(1):\n",
        "    ax.plot(np.linspace(phan[i + 2] + 0.06, phan[i + 2] + 0.06, 10), np.linspace(4 + y_off, 15 + y_off, 10), linestyle='solid', linewidth=0.5, color='gray')\n",
        "for i in range(2):\n",
        "    ax.plot(np.linspace(phan[i + 3] + 0.06, phan[i + 3] + 0.06, 10), np.linspace(4 + y_off, 15 + y_off, 10), linestyle='solid', linewidth=0.5, color='gray')\n",
        "for i in range(1):\n",
        "    ax.plot(np.linspace(phan[i + 5] + 0.06, phan[i + 5] + 0.06, 10), np.linspace(4 + y_off, 15 + y_off, 10), linestyle='solid', linewidth=0.5, color='gray')\n",
        "for i in range(1):\n",
        "    ax.plot(np.linspace(phan[i + 6] + 0.06, phan[i + 6] + 0.06, 10), np.linspace(4 + y_off, 15 + y_off, 10), linestyle='solid', linewidth=0.5, color='gray')\n",
        "for i in range(2):\n",
        "    ax.plot(np.linspace(phan[i + 7] + 0.06, phan[i + 7] + 0.06, 10), np.linspace(4 + y_off, 15 + y_off, 10), linestyle='solid', linewidth=0.5, color='gray')\n",
        "\n",
        "ax.plot(np.linspace((phan[0]) + 0.075, (phan[4]) + 0.045, 10), np.linspace(15 + y_off, 15 + y_off, 10), linestyle='solid', linewidth=4, color='gray')\n",
        "ax.plot(np.linspace((phan[1]) + 0.075, (phan[2]) + 0.045, 10), np.linspace(14 + y_off, 14 + y_off, 10), linestyle='solid', linewidth=4, color='gray')\n",
        "ax.plot(np.linspace((phan[5]) + 0.075, (phan[8]) + 0.04, 10), np.linspace(15 + y_off, 15 + y_off, 10), linestyle='solid', linewidth=4, color='gray')\n",
        "\n",
        "# set the y-axis limits, adjust layout, and display the plot:\n",
        "warnings.filterwarnings(\"ignore\", category=UserWarning)\n",
        "\n",
        "ax.set_ylim(-35, 29)\n",
        "fig.set_tight_layout(True)\n",
        "plt.yticks([])\n",
        "plt.xticks([])\n",
        "\n",
        "# save if you want\n",
        "#filename = f'notation_{fig_num}.jpg'\n",
        "#plt.savefig(filename, format='jpg')\n",
        "#fig_num += 1\n",
        "\n",
        "plt.show()\n"
      ],
      "metadata": {
        "colab": {
          "base_uri": "https://localhost:8080/",
          "height": 268
        },
        "id": "lJEyr89rUNIV",
        "outputId": "7892f169-e785-47f4-d236-d5a86c9db5c6"
      },
      "execution_count": 102,
      "outputs": [
        {
          "output_type": "display_data",
          "data": {
            "text/plain": [
              "<Figure size 2400x600 with 1 Axes>"
            ],
            "image/png": "[encoded data removed]"
          },
          "metadata": {}
        }
      ]
    },
    {
      "cell_type": "code",
      "source": [
        "# update the slider values\n",
        "update_slider_values(None)"
      ],
      "metadata": {
        "id": "3cntKwxOD80R",
        "colab": {
          "base_uri": "https://localhost:8080/",
          "height": 181
        },
        "outputId": "b39acbb6-4de4-4f50-dd9e-022470161b79"
      },
      "execution_count": 3,
      "outputs": [
        {
          "output_type": "error",
          "ename": "NameError",
          "evalue": "ignored",
          "traceback": [
            "\u001b[0;31m---------------------------------------------------------------------------\u001b[0m",
            "\u001b[0;31mNameError\u001b[0m                                 Traceback (most recent call last)",
            "\u001b[0;32m<ipython-input-3-9fce172b164a>\u001b[0m in \u001b[0;36m<cell line: 2>\u001b[0;34m()\u001b[0m\n\u001b[1;32m      1\u001b[0m \u001b[0;31m# update the slider values\u001b[0m\u001b[0;34m\u001b[0m\u001b[0;34m\u001b[0m\u001b[0m\n\u001b[0;32m----> 2\u001b[0;31m \u001b[0mupdate_slider_values\u001b[0m\u001b[0;34m(\u001b[0m\u001b[0;32mNone\u001b[0m\u001b[0;34m)\u001b[0m\u001b[0;34m\u001b[0m\u001b[0;34m\u001b[0m\u001b[0m\n\u001b[0m",
            "\u001b[0;31mNameError\u001b[0m: name 'update_slider_values' is not defined"
          ]
        }
      ]
    },
    {
      "cell_type": "markdown",
      "source": [
        "#### Check if the two datasets are of equal size by running the cell below. If they are not equal, you can generate more manually by `running before (cmd/ctrl + F8)` after setting up new slide values, or..."
      ],
      "metadata": {
        "id": "JMoR5TOHnIZy"
      }
    },
    {
      "cell_type": "code",
      "source": [
        "# warn if the slider values are not equal to train_xy values\n",
        "\n",
        "with open('train_xy.json') as file:\n",
        "    train_xy = json.load(file)\n",
        "\n",
        "x_train = train_xy['x']\n",
        "y_train = train_xy['y']\n",
        "\n",
        "with open('slider_values.json') as file:\n",
        "    slider_values = json.load(file)\n",
        "\n",
        "# Check if the sizes are equal\n",
        "if len(x_train) != len(slider_values):\n",
        "    print(\"Sizes of xy_train.json and slider_values.json are not equal.\")\n",
        "else: print(\"You're good to go!\")"
      ],
      "metadata": {
        "id": "Z7J_pBzakFZL"
      },
      "execution_count": null,
      "outputs": []
    },
    {
      "cell_type": "markdown",
      "source": [
        "#### fill with random values by uncommenting and running `after the cell (Ctrl/Cmd+F10)` below."
      ],
      "metadata": {
        "id": "g6-wPRUro_sy"
      }
    },
    {
      "cell_type": "code",
      "source": [
        "with open('train_xy.json') as file:\n",
        "    train_xy = json.load(file)\n",
        "\n",
        "x_train = train_xy['x']\n",
        "y_train = train_xy['y']\n",
        "\n",
        "with open('slider_values.json') as file:\n",
        "    slider_values_data = json.load(file)\n",
        "\n",
        "# check if the sizes are equal\n",
        "if len(x_train) != len(slider_values_data):\n",
        "    # Generate random values to fill slider_values_data\n",
        "    while len(slider_values_data) < len(x_train):\n",
        "        random_value = {\n",
        "            \"speed\": round(random.random(), 2),\n",
        "            \"size\": random.randint(1, 10),\n",
        "            \"range_low\": random.randint(0, 10),\n",
        "            \"range_hi\": random.randint(10, 20),\n",
        "            \"x_offset\": round(random.random(), 2),\n",
        "            \"y_offset\": round(random.random(), 2),\n",
        "            \"rhy_irr\": round(random.random(), 2)\n",
        "        }\n",
        "        slider_values_data.append(random_value)\n",
        "\n",
        "    with open('slider_values.json', 'w') as file:\n",
        "        json.dump(slider_values_data, file, indent=4)\n"
      ],
      "metadata": {
        "id": "3XGuleh9m5ji",
        "colab": {
          "base_uri": "https://localhost:8080/",
          "height": 232
        },
        "outputId": "ba844495-bdf0-41f0-e47b-8f099dc8f785"
      },
      "execution_count": 86,
      "outputs": [
        {
          "output_type": "error",
          "ename": "FileNotFoundError",
          "evalue": "ignored",
          "traceback": [
            "\u001b[0;31m---------------------------------------------------------------------------\u001b[0m",
            "\u001b[0;31mFileNotFoundError\u001b[0m                         Traceback (most recent call last)",
            "\u001b[0;32m<ipython-input-86-2bf9a0e70ead>\u001b[0m in \u001b[0;36m<cell line: 1>\u001b[0;34m()\u001b[0m\n\u001b[0;32m----> 1\u001b[0;31m \u001b[0;32mwith\u001b[0m \u001b[0mopen\u001b[0m\u001b[0;34m(\u001b[0m\u001b[0;34m'train_xy.json'\u001b[0m\u001b[0;34m)\u001b[0m \u001b[0;32mas\u001b[0m \u001b[0mfile\u001b[0m\u001b[0;34m:\u001b[0m\u001b[0;34m\u001b[0m\u001b[0;34m\u001b[0m\u001b[0m\n\u001b[0m\u001b[1;32m      2\u001b[0m     \u001b[0mtrain_xy\u001b[0m \u001b[0;34m=\u001b[0m \u001b[0mjson\u001b[0m\u001b[0;34m.\u001b[0m\u001b[0mload\u001b[0m\u001b[0;34m(\u001b[0m\u001b[0mfile\u001b[0m\u001b[0;34m)\u001b[0m\u001b[0;34m\u001b[0m\u001b[0;34m\u001b[0m\u001b[0m\n\u001b[1;32m      3\u001b[0m \u001b[0;34m\u001b[0m\u001b[0m\n\u001b[1;32m      4\u001b[0m \u001b[0mx_train\u001b[0m \u001b[0;34m=\u001b[0m \u001b[0mtrain_xy\u001b[0m\u001b[0;34m[\u001b[0m\u001b[0;34m'x'\u001b[0m\u001b[0;34m]\u001b[0m\u001b[0;34m\u001b[0m\u001b[0;34m\u001b[0m\u001b[0m\n\u001b[1;32m      5\u001b[0m \u001b[0my_train\u001b[0m \u001b[0;34m=\u001b[0m \u001b[0mtrain_xy\u001b[0m\u001b[0;34m[\u001b[0m\u001b[0;34m'y'\u001b[0m\u001b[0;34m]\u001b[0m\u001b[0;34m\u001b[0m\u001b[0;34m\u001b[0m\u001b[0m\n",
            "\u001b[0;31mFileNotFoundError\u001b[0m: [Errno 2] No such file or directory: 'train_xy.json'"
          ]
        }
      ]
    },
    {
      "cell_type": "markdown",
      "source": [
        "#### JSON files will be uploaded to your Google Drive (permission required)"
      ],
      "metadata": {
        "id": "tFVsv506gjMp"
      }
    },
    {
      "cell_type": "code",
      "source": [
        "# mount Google Drive\n",
        "from google.colab import drive\n",
        "drive.mount('/content/drive')"
      ],
      "metadata": {
        "id": "9HmnoMNvhcVz"
      },
      "execution_count": null,
      "outputs": []
    },
    {
      "cell_type": "code",
      "source": [
        "import shutil\n",
        "\n",
        "# path to the source file\n",
        "source_file_path_1 = '/content/train_xy.json'\n",
        "source_file_path_2 = '/content/slider_values.json'\n",
        "\n",
        "# destination directory in Google Drive\n",
        "destination_directory = '/content/drive/MyDrive'\n",
        "\n",
        "shutil.copy(source_file_path_1, destination_directory)\n",
        "shutil.copy(source_file_path_2, destination_directory)"
      ],
      "metadata": {
        "id": "3r2Q9e2ehgz-"
      },
      "execution_count": null,
      "outputs": []
    }
  ]
}